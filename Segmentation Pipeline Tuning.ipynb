{
 "cells": [
  {
   "cell_type": "code",
   "execution_count": 29,
   "metadata": {},
   "outputs": [],
   "source": [
    "# imports\n",
    "import os\n",
    "from skimage.measure import label,regionprops\n",
    "from skimage.morphology import binary_opening, erosion, dilation, ball\n",
    "from skimage.segmentation import watershed\n",
    "from scipy.ndimage import median_filter as median\n",
    "import numpy as np\n",
    "import nrrd\n",
    "from scripts.ImageSliceViewer3D import ImageSliceViewer3D as isv "
   ]
  },
  {
   "cell_type": "code",
   "execution_count": 26,
   "metadata": {},
   "outputs": [],
   "source": [
    "# lists of image/mask files\n",
    "img_path = './data/images'\n",
    "msk_path = './data/masks'\n",
    "\n",
    "all_images = sorted([os.path.join(img_path,f) for f in os.listdir(img_path)])\n",
    "all_masks = sorted([os.path.join(msk_path,f) for f in os.listdir(msk_path)])"
   ]
  },
  {
   "cell_type": "code",
   "execution_count": 39,
   "metadata": {},
   "outputs": [
    {
     "name": "stdout",
     "output_type": "stream",
     "text": [
      "Patient #1; Lesion #1; Centroid: [367, 316, 90]\n",
      "Patient #2; Lesion #1; Centroid: [360, 345, 184]\n",
      "Patient #3; Lesion #1; Centroid: [198, 308, 83]\n",
      "Patient #3; Lesion #2; Centroid: [219, 221, 84]\n",
      "Patient #3; Lesion #3; Centroid: [347, 369, 66]\n",
      "Patient #3; Lesion #4; Centroid: [350, 367, 75]\n",
      "Patient #4; Lesion #1; Centroid: [322, 142, 76]\n",
      "Patient #5; Lesion #1; Centroid: [377, 407, 88]\n",
      "Patient #5; Lesion #2; Centroid: [398, 127, 77]\n",
      "Patient #5; Lesion #3; Centroid: [407, 312, 80]\n",
      "Patient #6; Lesion #1; Centroid: [333, 392, 68]\n",
      "Patient #6; Lesion #2; Centroid: [340, 191, 54]\n",
      "Patient #6; Lesion #3; Centroid: [354, 363, 70]\n",
      "Patient #6; Lesion #4; Centroid: [357, 371, 84]\n",
      "Patient #7; Lesion #1; Centroid: [266, 293, 125]\n",
      "Patient #7; Lesion #2; Centroid: [290, 193, 108]\n",
      "Patient #7; Lesion #3; Centroid: [278, 212, 102]\n",
      "Patient #8; Lesion #1; Centroid: [270, 369, 88]\n",
      "Patient #8; Lesion #2; Centroid: [290, 123, 71]\n",
      "Patient #9; Lesion #1; Centroid: [324, 304, 167]\n",
      "Patient #9; Lesion #2; Centroid: [334, 202, 103]\n",
      "Patient #10; Lesion #1; Centroid: [195, 345, 94]\n",
      "Patient #10; Lesion #2; Centroid: [320, 300, 210]\n",
      "Patient #10; Lesion #3; Centroid: [355, 279, 68]\n"
     ]
    }
   ],
   "source": [
    "# first pass of segmentation pipeline\n",
    "def segPipeline(imgList,mskList):\n",
    "    \n",
    "    num_lesions = []\n",
    "    all_IoU = []\n",
    "    all_meanIoU = []\n",
    "    \n",
    "    # track the patient number\n",
    "    patient_num = 1\n",
    "    \n",
    "    for i in range(len(imgList)):\n",
    "        \n",
    "        # read image and corresponding mask\n",
    "        im_V,img_d = nrrd.read(imgList[i])\n",
    "        msk_V,msk_d = nrrd.read(mskList[i])\n",
    "        \n",
    "        # if the image and mask do not have the same size, do not process\n",
    "        if not (img_d['sizes']==msk_d['sizes']).all():\n",
    "            print('ERROR, {}: image and mask must be of the same size'.format(imgList[i]))\n",
    "            continue\n",
    "            \n",
    "        # label the mask into connected regions\n",
    "        lesion_labels,num_lesions = label(msk_V,return_num=True)\n",
    "        lesion_props = regionprops(lesion_labels)\n",
    "        \n",
    "        # preprocess the original image:\n",
    "        #        (i)   filter to minimize noise\n",
    "        #        (ii)  obtain the morphological gradient\n",
    "        denoised = median(im_V,3)\n",
    "        gradient_image = dilation(denoised,ball(2)) - erosion(denoised,ball(2))\n",
    "        \n",
    "        # work towards a whole-image segmentation\n",
    "        #        (i)   threshold the morphological gradient\n",
    "        #        (ii)  label the threshold image\n",
    "        #        (iii) apply watershed to threshold image using labels as markers\n",
    "        threshold_gradient = gradient_image < 350 \n",
    "        markers = label(threshold_gradient)\n",
    "        labels = watershed(gradient_image, markers)\n",
    "        \n",
    "        # track the lesion number\n",
    "        lesion_count = 1\n",
    "        \n",
    "        for obj in nodule_props:\n",
    "            \n",
    "            # isolate the centroid of the nodule -- this will be our lesion identifier for automation\n",
    "            centroid = [round(i) for i in obj.centroid] \n",
    "            print('Patient #{}; Lesion #{}; Centroid: {}'.format(patient_num,lesion_count,centroid))\n",
    "            \n",
    "            # the segmentation\n",
    "            water_mask = labels == labels[centroid[0],centroid[1],centroid[2]]\n",
    "\n",
    "            \n",
    "            \n",
    "            lesion_count += 1\n",
    "        \n",
    "        \n",
    "        patient_num += 1\n",
    "        \n",
    "\n",
    "# run the pipeline\n",
    "segPipeline(all_images,all_masks)\n",
    "\n",
    "\n",
    "# iou_mask = np.count_nonzero(np.logical_and(water_mask,msk_V))/np.count_nonzero(np.logical_or(water_mask,msk_V))\n",
    "# iou_back = np.count_nonzero(np.logical_and(~water_mask,~msk_V))/np.count_nonzero(np.logical_or(~water_mask,~msk_V))\n",
    "\n",
    "# iou_mask \n",
    "\n",
    "# iou_back\n",
    "\n",
    "# (iou_mask + iou_back) / 2    # <-- mean IoU"
   ]
  },
  {
   "cell_type": "code",
   "execution_count": 40,
   "metadata": {},
   "outputs": [],
   "source": [
    "regionprops?"
   ]
  },
  {
   "cell_type": "code",
   "execution_count": null,
   "metadata": {},
   "outputs": [],
   "source": []
  }
 ],
 "metadata": {
  "kernelspec": {
   "display_name": "Python 3",
   "language": "python",
   "name": "python3"
  },
  "language_info": {
   "codemirror_mode": {
    "name": "ipython",
    "version": 3
   },
   "file_extension": ".py",
   "mimetype": "text/x-python",
   "name": "python",
   "nbconvert_exporter": "python",
   "pygments_lexer": "ipython3",
   "version": "3.8.2"
  },
  "toc": {
   "base_numbering": 1,
   "nav_menu": {},
   "number_sections": true,
   "sideBar": true,
   "skip_h1_title": false,
   "title_cell": "Table of Contents",
   "title_sidebar": "Contents",
   "toc_cell": false,
   "toc_position": {},
   "toc_section_display": true,
   "toc_window_display": false
  }
 },
 "nbformat": 4,
 "nbformat_minor": 4
}
