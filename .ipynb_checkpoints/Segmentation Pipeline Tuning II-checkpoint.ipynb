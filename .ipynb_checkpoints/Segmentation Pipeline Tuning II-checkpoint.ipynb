{
 "cells": [
  {
   "cell_type": "code",
   "execution_count": 16,
   "metadata": {},
   "outputs": [],
   "source": [
    "# imports\n",
    "import os\n",
    "from skimage.measure import label,regionprops\n",
    "from skimage.morphology import binary_opening, erosion, dilation, ball\n",
    "from skimage.segmentation import watershed\n",
    "from scipy import ndimage\n",
    "from sklearn.mixture import BayesianGaussianMixture\n",
    "from skimage.morphology import opening, closing, ball\n",
    "from skimage.filters import gaussian\n",
    "import numpy as np\n",
    "import nrrd\n",
    "from skimage.segmentation import morphological_geodesic_active_contour as gac\n",
    "from skimage.segmentation import inverse_gaussian_gradient as igg\n",
    "from scipy.ndimage.morphology import binary_fill_holes\n",
    "# from scripts.ImageSliceViewer3D import ImageSliceViewer3D as isv "
   ]
  },
  {
   "cell_type": "code",
   "execution_count": 11,
   "metadata": {},
   "outputs": [],
   "source": [
    "''' \n",
    "SUPPLEMENTARY FUNCTION : createSubVolumes\n",
    "This function isolates the sub-volume of the image that we are interested in. \n",
    "This way, we can perform operations only on the pixels containing lesion and surrounding pixels (executes faster).\n",
    "    \n",
    "    INPUT:\n",
    "            image         - the original CT volume;\n",
    "            image_dict    - dictionary with CT metadata;\n",
    "            mask          - the original mask with radiologist-defined ROIs;\n",
    "            lprop         - regionprops object for the user-defined start point.\n",
    "            \n",
    "    OUTPUT:\n",
    "            cylinder_subV - cylinder mask, which occupies same space as both image and mask sub-volumes;\n",
    "            image_subV    - image sub-volume, which contains lesion plus surrounding voxels;\n",
    "            mask_subV     - ground truth labels, which occupies same space as both image and cylinder sub-volumes.\n",
    "            \n",
    "'''\n",
    "\n",
    "def createSubVolumes(image,image_dict,mask,lprop):\n",
    "    \n",
    "    # construct cylinder_image\n",
    "    bbox = lprop.bbox  \n",
    "    bbox_dims = [bbox[3]-bbox[0],bbox[4]-bbox[1],bbox[-1]-bbox[2]]\n",
    "    \n",
    "    # take a circle with radius larger than bounding box\n",
    "#   R = bbox_dims[0]/2 + bbox_dims[1]/2  \n",
    "    R = max(bbox_dims)*5/8       \n",
    "    \n",
    "    # isolate the centroid of the nodule -- this will be our preliminary marker \n",
    "    j,i,k = [round(i) for i in lprop.centroid] \n",
    "\n",
    "    circle_mask = np.zeros((image.shape[0],image.shape[1]),dtype=bool)\n",
    "    num_rows,num_cols = circle_mask.shape\n",
    "\n",
    "    row,col = np.meshgrid(range(num_rows),range(num_cols))\n",
    "    circle_mask[((row-i)**2+(col-j)**2)<R**2] = True\n",
    "            \n",
    "    # now we have the initial contour (that will theoretically be user-defined for the clinical dataset)\n",
    "    # next step: extend the circle in both superior and inferior directions to obtain a cylinder\n",
    "\n",
    "    # determine the number of slices required in the z direction for full coverage\n",
    "    num_slices = int(np.ceil((float(image_dict['pixel_spacing']) * R) / float(image_dict['slice_thickness'])/2))\n",
    "\n",
    "    cylinder_image = np.zeros((image.shape[0],image.shape[1],image.shape[2]),dtype=bool)\n",
    "\n",
    "    for i in range(k-num_slices,k+num_slices+1):\n",
    "        cylinder_image[:,:,i] = circle_mask\n",
    "                \n",
    "    # label the mask into connected regions\n",
    "    mask_labels = label(cylinder_image)\n",
    "    mask_props = regionprops(mask_labels)\n",
    "\n",
    "    coords = mask_props[0].bbox\n",
    "\n",
    "    cylinder_subV = mask_props[0].image\n",
    "    image_subV = image[coords[0]:coords[3],coords[1]:coords[4],coords[2]:coords[-1]]\n",
    "    mask_subV = mask[coords[0]:coords[3],coords[1]:coords[4],coords[2]:coords[-1]]\n",
    "    \n",
    "    return cylinder_subV,image_subV,mask_subV,R\n",
    "    "
   ]
  },
  {
   "cell_type": "code",
   "execution_count": 12,
   "metadata": {},
   "outputs": [],
   "source": [
    "''' \n",
    "SUPPLEMENTARY FUNCTION : determineThreshold\n",
    "This function determines a threshold separating candidate lesion voxels from surrounding lung paremchyma. \n",
    "It leverages the BayesianGaussianMixture functionality from sklearn. \n",
    "Since the pre-defined sub-volume contains both lesion and lung parenchyma pixels, density distribution \n",
    "of the pixels could be modeled by two Gaussian distributions: P(x|lesion) and P(x|parenchyma), \n",
    "where x was the pixel density. The mean values and variations of the two Gaussian distributions were \n",
    "then estimated by the expectation-maximization method.\n",
    "    \n",
    "    INPUT:\n",
    "            image_subV    - the CT sub-volume;\n",
    "            cylinder_subV - cylinder mask occupying the same space as the image_subV.\n",
    "            \n",
    "    OUTPUT:\n",
    "            threshold     - floating point threshold (anything above this threshold is a candidate lesion voxel)\n",
    "            \n",
    "            \n",
    "'''\n",
    "\n",
    "def determineThreshold(image_subV,cylinder_subV):\n",
    "    \n",
    "    # isolate the intensities within the cylinder\n",
    "    intensities = image_subV[cylinder_subV]\n",
    "\n",
    "    hist, bin_edges = np.histogram(intensities, bins=60)\n",
    "    bin_centers = 0.5*(bin_edges[:-1] + bin_edges[1:])\n",
    "\n",
    "    classif = BayesianGaussianMixture(n_components=2)\n",
    "    classif.fit(intensities.reshape(-1,1))\n",
    "\n",
    "    return np.mean(classif.means_)"
   ]
  },
  {
   "cell_type": "code",
   "execution_count": 5,
   "metadata": {},
   "outputs": [],
   "source": [
    "# lists of image/mask files\n",
    "img_path = './data/images'\n",
    "msk_path = './data/masks'\n",
    "\n",
    "all_images = sorted([os.path.join(img_path,f) for f in os.listdir(img_path)])\n",
    "all_masks = sorted([os.path.join(msk_path,f) for f in os.listdir(msk_path)])"
   ]
  },
  {
   "cell_type": "code",
   "execution_count": 40,
   "metadata": {},
   "outputs": [],
   "source": [
    "# first pass of segmentation pipeline\n",
    "def segPipeline(imgList,mskList):\n",
    "    \n",
    "    # initialize lists for segmentation accuracy\n",
    "    IoU_water = []\n",
    "    IoU_actC = []\n",
    "    IoU_backW = []\n",
    "    IoU_backA = []\n",
    "    num_lesions_per_patient = []\n",
    "    patient_index = []\n",
    "    mean_intensities = []\n",
    "    \n",
    "    for i in range(len(imgList)):\n",
    "        \n",
    "        # read image and corresponding mask\n",
    "        img_V,img_d = nrrd.read(imgList[i])\n",
    "        msk_V,msk_d = nrrd.read(mskList[i])\n",
    "        \n",
    "        # if the image and mask do not have the same size, do not process\n",
    "        if not (img_d['sizes'] == msk_d['sizes']).all():\n",
    "            print('ERROR, {}: image and mask must be of the same size'.format(imgList[i]))\n",
    "            continue\n",
    "            \n",
    "        # label the mask into connected regions\n",
    "        lesion_labels,num_lesions = label(msk_V,return_num=True)\n",
    "        lesion_props = regionprops(lesion_labels)\n",
    "        \n",
    "        num_lesions_per_patient.append(num_lesions)\n",
    "        \n",
    "        # for every lesion in the mask\n",
    "        for obj in lesion_props:\n",
    "            \n",
    "            patient_index.append(i)\n",
    "            \n",
    "            # create the sub-volume of interest within the CT volume\n",
    "            cyl_subV,img_subV,msk_subV,R = createSubVolumes(img_V,img_d,msk_V,obj)\n",
    "            \n",
    "            # calculate threshold using EM\n",
    "            threshold = determineThreshold(img_subV,cyl_subV)\n",
    "\n",
    "            binary_img = np.logical_and(np.logical_and(img_subV > threshold,img_subV > -850),img_subV < 200)\n",
    "            binary_img[~msk_subV] = False\n",
    "            binary_img_centroid = closing(opening(binary_img,ball(radius=int(0.1*R))),ball(radius=int(0.1*R)))\n",
    "            mean_intensities.append(np.mean(img_subV[binary_img]))\n",
    "            \n",
    "            # label the cylinder sub-volume into connected regions\n",
    "            cyl_subV_labels = label(cyl_subV)\n",
    "            cyl_subV_props = regionprops(cyl_subV_labels)\n",
    "\n",
    "            # coordinates for the user-defined lesion centroid\n",
    "            cyl_j,cyl_i,cyl_k = [round(i) for i in cyl_subV_props[0].centroid]\n",
    "            \n",
    "            # construct a marker image for the watershed\n",
    "            marker_image = np.zeros((img_subV.shape[0],img_subV.shape[1],img_subV.shape[2]),dtype=np.uint8)\n",
    "            marker_image[~binary_img] = 2         # background/lung parenchyma voxels\n",
    "            marker_image[cyl_j,cyl_i,cyl_k] = 1   # user-defined lesion centroid\n",
    "\n",
    "            # denoise image sub-volume\n",
    "            denoised = gaussian(img_subV,multichannel=False)\n",
    "\n",
    "            # try some funky stuff\n",
    "            max_image = dilation(denoised,ball(2))\n",
    "            min_image = erosion(denoised,ball(2))\n",
    "\n",
    "            gradient_image = max_image - min_image\n",
    "            gradient_image[~msk_subV] = np.min(gradient_image)\n",
    "            \n",
    "            # create distance matrix for the 3D bowl function\n",
    "            row,col,slc = np.meshgrid(range(gradient_image.shape[0]),range(gradient_image.shape[1]),range(gradient_image.shape[2]))\n",
    "            dist_matrix = np.sqrt((round(cyl_j) - row)**2 + (round(cyl_i) - col)**2 + ((round(cyl_k) - slc) * float(msk_d['slice_thickness']))**2)\n",
    "            dist_matrix[dist_matrix>=R] = R\n",
    "            dist_matrix = dist_matrix / R\n",
    "            \n",
    "            # modify the gradient image for watershed\n",
    "            mod_gradient = gradient_image * dist_matrix\n",
    "            \n",
    "            # perform watershed segmentation\n",
    "            water_initial = ~watershed(gradient_image,marker_image,connectivity=2)\n",
    "            water_initial_mod = ~watershed(mod_gradient, marker_image,connectivity=2)\n",
    "            \n",
    "            # label the watershed mask into connected regions\n",
    "            water_labels = label(water_initial_mod,background = np.min(water_initial_mod))\n",
    "            water_props = regionprops(water_labels)\n",
    "            \n",
    "            # find the smallest region\n",
    "            water_areas = [water_props[i].area for i in range(len(water_props))]\n",
    "            ind = np.where(water_areas == np.min(water_areas))\n",
    "\n",
    "            # create the mask\n",
    "            water_mask = water_labels == water_props[ind[0][0]].label\n",
    "\n",
    "            equiv_R = round(water_props[ind[0][0]].equivalent_diameter * 0.15)\n",
    "\n",
    "            water_mask_open = binary_opening(water_mask,ball(radius = equiv_R))\n",
    "            \n",
    "            # FINALLY this initial segmentation is fed into the active contours function for further refinement\n",
    "            refined_mask = gac(igg(img_subV), iterations = 1, init_level_set=water_mask_open, threshold = 0.5)\n",
    "            \n",
    "            # fill any holes in the final mask result (unlikely, but you never know)\n",
    "            refined_mask = binary_fill_holes(refined_mask)\n",
    "\n",
    "            IoU_water.append(np.count_nonzero(np.logical_and(water_mask,msk_subV)) / np.count_nonzero(np.logical_or(water_mask,msk_subV)))\n",
    "            IoU_actC.append(np.count_nonzero(np.logical_and(refined_mask,msk_subV)) / np.count_nonzero(np.logical_or(refined_mask,msk_subV)))\n",
    "            IoU_backW.append(np.count_nonzero(np.logical_and(~water_mask,~msk_subV)) / np.count_nonzero(np.logical_or(~water_mask,~msk_subV)))\n",
    "            IoU_backA.append(np.count_nonzero(np.logical_and(~refined_mask,~msk_subV)) / np.count_nonzero(np.logical_or(~refined_mask,~msk_subV)))\n",
    "        \n",
    "#         # calculate the patient-specific IoU\n",
    "#         all_backIoU.append(np.count_nonzero(np.logical_and(~water_whole,~msk_V))/np.count_nonzero(np.logical_or(~water_whole,~msk_V)))\n",
    "\n",
    "        \n",
    "    return IoU_water,IoU_actC,IoU_backW,IoU_backA,num_lesions_per_patient,patient_index,mean_intensities\n",
    "        \n",
    "\n",
    "# run the pipeline\n",
    "IoU_water,IoU_actC,IoU_backW,IoU_backA,num_lesions_per_patient,patient_index,mean_intensities = segPipeline(all_images,all_masks)"
   ]
  },
  {
   "cell_type": "code",
   "execution_count": 41,
   "metadata": {},
   "outputs": [
    {
     "data": {
      "text/plain": [
       "0.6112760732827033"
      ]
     },
     "execution_count": 41,
     "metadata": {},
     "output_type": "execute_result"
    }
   ],
   "source": [
    "all_IoU_AC = (np.array(IoU_actC) + np.array(IoU_backA))/2\n",
    "np.mean(all_IoU_AC)"
   ]
  },
  {
   "cell_type": "code",
   "execution_count": 42,
   "metadata": {},
   "outputs": [
    {
     "data": {
      "text/plain": [
       "0.7080966911151553"
      ]
     },
     "execution_count": 42,
     "metadata": {},
     "output_type": "execute_result"
    }
   ],
   "source": [
    "all_IoU_WS = (np.array(IoU_water) + np.array(IoU_backW))/2\n",
    "np.mean(all_IoU_WS)"
   ]
  },
  {
   "cell_type": "code",
   "execution_count": 44,
   "metadata": {},
   "outputs": [
    {
     "data": {
      "text/plain": [
       "(0.11587431475766931, 0.5897601051791714)"
      ]
     },
     "execution_count": 44,
     "metadata": {},
     "output_type": "execute_result"
    }
   ],
   "source": [
    "from scipy. stats. stats import pearsonr\n",
    "\n",
    "pearsonr(mean_intensities,IoU_actC)\n"
   ]
  },
  {
   "cell_type": "code",
   "execution_count": 47,
   "metadata": {
    "scrolled": true
   },
   "outputs": [
    {
     "data": {
      "text/plain": [
       "(array([1., 1., 2., 2., 1., 6., 4., 1., 2., 4.]),\n",
       " array([0.50009475, 0.53598404, 0.57187332, 0.60776261, 0.64365189,\n",
       "        0.67954118, 0.71543046, 0.75131975, 0.78720903, 0.82309832,\n",
       "        0.8589876 ]),\n",
       " <BarContainer object of 10 artists>)"
      ]
     },
     "execution_count": 47,
     "metadata": {},
     "output_type": "execute_result"
    },
    {
     "data": {
      "image/png": "[encoded data removed]",
      "text/plain": [
       "<Figure size 432x288 with 1 Axes>"
      ]
     },
     "metadata": {
      "needs_background": "light"
     },
     "output_type": "display_data"
    }
   ],
   "source": [
    "import matplotlib.pyplot as plt\n",
    "plt.hist(all_IoU_WS)"
   ]
  },
  {
   "cell_type": "code",
   "execution_count": 48,
   "metadata": {},
   "outputs": [
    {
     "data": {
      "text/plain": [
       "<matplotlib.collections.PathCollection at 0x127f80ac0>"
      ]
     },
     "execution_count": 48,
     "metadata": {},
     "output_type": "execute_result"
    },
    {
     "data": {
      "image/png": "[encoded data removed]",
      "text/plain": [
       "<Figure size 432x288 with 1 Axes>"
      ]
     },
     "metadata": {
      "needs_background": "light"
     },
     "output_type": "display_data"
    }
   ],
   "source": [
    "plt.scatter(mean_intensities,all_IoU_WS)"
   ]
  },
  {
   "cell_type": "code",
   "execution_count": null,
   "metadata": {},
   "outputs": [],
   "source": []
  }
 ],
 "metadata": {
  "kernelspec": {
   "display_name": "Python 3 (ipykernel)",
   "language": "python",
   "name": "python3"
  },
  "language_info": {
   "codemirror_mode": {
    "name": "ipython",
    "version": 3
   },
   "file_extension": ".py",
   "mimetype": "text/x-python",
   "name": "python",
   "nbconvert_exporter": "python",
   "pygments_lexer": "ipython3",
   "version": "3.9.7"
  },
  "toc": {
   "base_numbering": 1,
   "nav_menu": {},
   "number_sections": true,
   "sideBar": true,
   "skip_h1_title": false,
   "title_cell": "Table of Contents",
   "title_sidebar": "Contents",
   "toc_cell": false,
   "toc_position": {},
   "toc_section_display": true,
   "toc_window_display": false
  }
 },
 "nbformat": 4,
 "nbformat_minor": 4
}
