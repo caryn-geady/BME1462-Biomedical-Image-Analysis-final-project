{
 "cells": [
  {
   "cell_type": "markdown",
   "metadata": {},
   "source": [
    "# Sample Segmentation II\n",
    "This is a second pass on the segmentation algorithm implemented in Tan et. al. The segmentation pipeline consists of three broad steps:\n",
    "1. initial segmentation by watershed;\n",
    "1. refinement through active contours;\n",
    "1. application of Markov Random Field (MRF) for part-solid lesions.\n",
    "\n",
    "## Initial Segmentation by Watershed\n",
    "\n",
    "In plain language, the following steps were/will be taken:\n",
    "1. the user defines an ellipse on the slice of the CT where the lesion resides (ideally, where the diameter of the lesion is at its largest in the axial plane);\n",
    "1. based upon this ellipse, a sub-volume is defined on a reference slice in the image for further analysis -- the sub-volume is essentially an elliptical cylinder -- so we take the coordinates of the ellipse in the reference slice, but also the coordinates in adjacent slices (both superior and inferior wrt the reference slice);\n",
    "1. the number of adjacent slices considered is given by the following formula: $(a+b)\\times PS$, where $PS$ is the native pixel spacing in the axial plane;\n",
    "1. the sub-volume is then isotropically resampled to axial in-plane resolution (the thickness of the CT slices will vary, but most should be between 2.5-5mm); **NOT IMPLEMENTED IN CODE BELOW**\n",
    "1. an initial segmentation is performed using the watershed algorithm -- this requires the definition of a marker image: a marker inside the lesion and a marker outside the lesion -- the internal marker will be the centroid of the lesion and the external marker will be the lung parenchyma and area surrounding the sub-volume in the image;\n",
    "1. to determine the *true* centroid of the lesion, a threshold was applied to the sub-volume, where any pixel with intensity above the threshold was considered to be a candidate lesion pixel and anything below the threshold was considered to be a candidate lung paremchyma pixel;\n",
    "1. the threshold can be determined through the application of a Gaussian Mixture model (sklearn);\n",
    "1. the resultant binary mask is sequentially opened and closed to eliminate extrusions;\n",
    "1. if the mean density of the pixels contained within this mask is <-150HU, the lesion would be considered as part-solid, meaning the extra step of the Random Markov Field (RMF) would be applied (explained in subsequent steps);\n",
    "1. application of the distance transform yields the *true* centroid, which functions as the internal marker for the watershed;\n",
    "1. anything outside the sub-volume *or* <870HU *or* >200HU can be considered as background markers;\n",
    "1. a gradient image will be the input for the watershed;\n",
    "1. to improve results on the watershed segmentation, a bowl function was applied to the ellipse within the sub-volume on the gradient image to suppress edges within the lesion -- the function essentially assigns a weight to each gradient pixel intensity based on how far it is from the lesion centre ($(r/R)^2$ for $r<R$ and $1$ for $R>=R$ where $R$ is the radius of the ellipse);\n",
    "1. markers made the only local minimums by morphological reconstruction;\n",
    "\n",
    "## Refinement through Active Contours\n",
    "The paper describes a process that makes my brain hurt to read about -- lots of math and flashbacks to quantum mechanics courses. But...basically, all we would need to do is feed the initial segmentation into an active contour model. I would suggest we follow this example: https://scikit-image.org/docs/dev/auto_examples/edges/plot_active_contours.html, where:\n",
    "- init is the watershed segmentation and\n",
    "- image is the original image (try with and without Gaussian filtering)\n"
   ]
  },
  {
   "cell_type": "code",
   "execution_count": 49,
   "metadata": {},
   "outputs": [],
   "source": [
    "import nrrd\n",
    "from scripts.ImageSliceViewer3D import ImageSliceViewer3D as isv \n",
    "\n",
    "# paths to image and corresponding mask\n",
    "im_path = 'data/images/LIDC-IDRI-0001.nrrd'\n",
    "msk_path = 'data/masks/LIDC-IDRI-0001.nrrd'\n",
    "\n",
    "im_V,im_d = nrrd.read(im_path)\n",
    "msk_V,msk_d = nrrd.read(msk_path)"
   ]
  },
  {
   "cell_type": "code",
   "execution_count": 60,
   "metadata": {},
   "outputs": [
    {
     "name": "stdout",
     "output_type": "stream",
     "text": [
      "There are 1 nodule(s) in this image.\n"
     ]
    }
   ],
   "source": [
    "from skimage.measure import label,regionprops\n",
    "# regionprops?\n",
    "# label the mask into connected regions\n",
    "nodule_labels,num_labels = label(msk_V,return_num=True)\n",
    "nodule_props = regionprops(nodule_labels)\n",
    "\n",
    "# the number of nodules in nodule_props corresponds to the number of connected regions\n",
    "print('There are {} nodule(s) in this image.'.format(num_labels))     "
   ]
  },
  {
   "cell_type": "code",
   "execution_count": 5,
   "metadata": {},
   "outputs": [],
   "source": [
    "# isolate the centroid of the nodule -- this will be our marker for the watershed algorithm\n",
    "nodule_props[0].centroid\n",
    "centroid = [round(i) for i in nodule_props[0].centroid] \n",
    "centroid\n",
    "\n",
    "\n",
    "bbox = nodule_props[0].bbox  # to help construct cylinder_image"
   ]
  },
  {
   "cell_type": "code",
   "execution_count": 6,
   "metadata": {},
   "outputs": [
    {
     "data": {
      "text/plain": [
       "[45, 37, 8]"
      ]
     },
     "execution_count": 6,
     "metadata": {},
     "output_type": "execute_result"
    }
   ],
   "source": [
    "bbox_dims = [bbox[3]-bbox[0],bbox[4]-bbox[1],bbox[-1]-bbox[2]]\n",
    "bbox_dims"
   ]
  },
  {
   "cell_type": "code",
   "execution_count": 151,
   "metadata": {},
   "outputs": [
    {
     "data": {
      "text/plain": [
       "30.0"
      ]
     },
     "execution_count": 151,
     "metadata": {},
     "output_type": "execute_result"
    }
   ],
   "source": [
    "import numpy as np\n",
    "\n",
    "r = bbox_dims[0]/2 + bbox_dims[1]/2  # take a circle with radius larger than bounding box\n",
    "r = max(bbox_dims)*2/3\n",
    "\n",
    "r"
   ]
  },
  {
   "cell_type": "code",
   "execution_count": 152,
   "metadata": {},
   "outputs": [],
   "source": [
    "circle_mask = np.zeros((im_V.shape[0],im_V.shape[1]),dtype=bool)\n",
    "circle_mask.shape\n",
    "\n",
    "row,col = np.meshgrid(range(circle_mask.shape[0]),range(circle_mask.shape[1]))\n",
    "circle_mask[((row-centroid[1])**2+(col-centroid[0])**2)<r**2] = True"
   ]
  },
  {
   "cell_type": "code",
   "execution_count": 153,
   "metadata": {},
   "outputs": [
    {
     "data": {
      "text/plain": [
       "<matplotlib.image.AxesImage at 0x12118da30>"
      ]
     },
     "execution_count": 153,
     "metadata": {},
     "output_type": "execute_result"
    },
    {
     "data": {
      "image/png": "[encoded data removed]",
      "text/plain": [
       "<Figure size 432x288 with 2 Axes>"
      ]
     },
     "metadata": {
      "needs_background": "light"
     },
     "output_type": "display_data"
    }
   ],
   "source": [
    "import matplotlib.pyplot as plt\n",
    "\n",
    "fig, axes = plt.subplots(nrows=1, ncols=2)\n",
    "\n",
    "axes[0].imshow(circle_mask)\n",
    "axes[1].imshow(msk_V[:,:,centroid[2]])"
   ]
  },
  {
   "cell_type": "code",
   "execution_count": 154,
   "metadata": {},
   "outputs": [
    {
     "data": {
      "text/plain": [
       "5"
      ]
     },
     "execution_count": 154,
     "metadata": {},
     "output_type": "execute_result"
    }
   ],
   "source": [
    "# now we have the initial contour (that will theoretically be user-defined for the clinical dataset)\n",
    "# next step: extend the circle in both superior and inferior directions to obtain a cylinder\n",
    "\n",
    "# determine the number of slices required in the z direction for full coverage\n",
    "num_slices = int(np.ceil((float(im_d['pixel_spacing']) * r) / float(im_d['slice_thickness'])/2))\n",
    "num_slices"
   ]
  },
  {
   "cell_type": "code",
   "execution_count": 155,
   "metadata": {},
   "outputs": [],
   "source": [
    "cylinder_image = np.zeros((im_V.shape[0],im_V.shape[1],im_V.shape[2]),dtype=bool)\n",
    "\n",
    "for i in range(centroid[-1]-num_slices,centroid[-1]+num_slices+1):\n",
    "    cylinder_image[:,:,i] = circle_mask"
   ]
  },
  {
   "cell_type": "code",
   "execution_count": 156,
   "metadata": {},
   "outputs": [
    {
     "data": {
      "application/vnd.jupyter.widget-view+json": {
       "model_id": "91a54471bd45493d9db6b5806866b1ab",
       "version_major": 2,
       "version_minor": 0
      },
      "text/plain": [
       "interactive(children=(RadioButtons(description='Slice plane selection:', options=('x-y', 'y-z', 'z-x'), style=…"
      ]
     },
     "metadata": {},
     "output_type": "display_data"
    },
    {
     "data": {
      "text/plain": [
       "<scripts.ImageSliceViewer3D.ImageSliceViewer3D at 0x120fbffd0>"
      ]
     },
     "execution_count": 156,
     "metadata": {},
     "output_type": "execute_result"
    }
   ],
   "source": [
    "# label the mask into connected regions\n",
    "mask_labels = label(cylinder_image)\n",
    "mask_props = regionprops(mask_labels)\n",
    "\n",
    "coords = mask_props[0].bbox\n",
    "\n",
    "msk_subV = mask_props[0].image\n",
    "img_subV = im_V[coords[0]:coords[3],coords[1]:coords[4],coords[2]:coords[-1]]\n",
    "# isolate the sub-volume of the cylinder -- all operations applied to this, then it can be mapped back using bbox\n",
    "isv(img_subV)"
   ]
  },
  {
   "cell_type": "code",
   "execution_count": 161,
   "metadata": {},
   "outputs": [
    {
     "data": {
      "image/png": "[encoded data removed]",
      "text/plain": [
       "<Figure size 792x288 with 3 Axes>"
      ]
     },
     "metadata": {
      "needs_background": "light"
     },
     "output_type": "display_data"
    },
    {
     "data": {
      "text/plain": [
       "-512.5576745709648"
      ]
     },
     "execution_count": 161,
     "metadata": {},
     "output_type": "execute_result"
    }
   ],
   "source": [
    "import numpy as np\n",
    "from scipy import ndimage\n",
    "import matplotlib.pyplot as plt\n",
    "from sklearn.mixture import GaussianMixture\n",
    "from skimage.morphology import opening, ball\n",
    "\n",
    "intensities = img_subV[msk_subV]\n",
    "\n",
    "hist, bin_edges = np.histogram(intensities, bins=60)\n",
    "bin_centers = 0.5*(bin_edges[:-1] + bin_edges[1:])\n",
    "\n",
    "classif = GaussianMixture(n_components=2)\n",
    "classif.fit(intensities.reshape(-1,1))\n",
    "\n",
    "threshold = np.mean(classif.means_)\n",
    "binary_img = np.logical_and(np.logical_and(img_subV > threshold,img_subV > -850),img_subV < 200)\n",
    "binary_img[~msk_subV] = False\n",
    "binary_img_centroid = opening(binary_img,ball(radius=int(0.1*r)))\n",
    "\n",
    "\n",
    "plt.figure(figsize=(11,4))\n",
    "\n",
    "plt.subplot(131)\n",
    "plt.imshow(img_subV[:,:,5],cmap='binary_r')\n",
    "plt.title('original image')\n",
    "plt.axis('off')\n",
    "plt.subplot(132)\n",
    "plt.plot(bin_centers, hist, lw=2)\n",
    "plt.axvline(threshold, color='r', ls='--', lw=2)\n",
    "plt.title('histogram')\n",
    "plt.yticks([])\n",
    "plt.subplot(133)\n",
    "plt.imshow(binary_img_centroid[:,:,5], cmap=plt.cm.gray, interpolation='nearest')\n",
    "plt.title('binary mask')\n",
    "plt.axis('off')\n",
    "\n",
    "plt.subplots_adjust(wspace=0.02, hspace=0.3, top=1, bottom=0.1, left=0, right=1)\n",
    "plt.show()\n",
    "threshold"
   ]
  },
  {
   "cell_type": "code",
   "execution_count": 162,
   "metadata": {},
   "outputs": [
    {
     "data": {
      "text/plain": [
       "(29.93583051888241, 28.855081363217685, 4.952103162419404)"
      ]
     },
     "execution_count": 162,
     "metadata": {},
     "output_type": "execute_result"
    }
   ],
   "source": [
    "# label the mask into connected regions\n",
    "lesion_labels = label(binary_img_centroid)\n",
    "lesion_props = regionprops(lesion_labels)\n",
    "\n",
    "areas = [lesion_props[i].area for i in range(len(lesion_props))]\n",
    "ind = np.where(areas==np.max(areas))\n",
    "\n",
    "# ind[0][0]\n",
    "centroid_subV = lesion_props[ind[0][0]].centroid\n",
    "centroid_subV"
   ]
  },
  {
   "cell_type": "code",
   "execution_count": 163,
   "metadata": {},
   "outputs": [
    {
     "data": {
      "application/vnd.jupyter.widget-view+json": {
       "model_id": "2618b5f31aa548a5bd9ba4fc489f6a95",
       "version_major": 2,
       "version_minor": 0
      },
      "text/plain": [
       "interactive(children=(RadioButtons(description='Slice plane selection:', options=('x-y', 'y-z', 'z-x'), style=…"
      ]
     },
     "metadata": {},
     "output_type": "display_data"
    },
    {
     "data": {
      "text/plain": [
       "<scripts.ImageSliceViewer3D.ImageSliceViewer3D at 0x12269a130>"
      ]
     },
     "execution_count": 163,
     "metadata": {},
     "output_type": "execute_result"
    }
   ],
   "source": [
    "# construct a marker image for the watershed\n",
    "marker_image = np.zeros((img_subV.shape[0],img_subV.shape[1],img_subV.shape[2]),dtype=np.uint8)\n",
    "marker_image[~binary_img] = 1   # background voxels\n",
    "marker_image[round(centroid_subV[0]),round(centroid_subV[1]),round(centroid_subV[2])] = 2 # reassigned centroid\n",
    "\n",
    "isv(marker_image)"
   ]
  },
  {
   "cell_type": "code",
   "execution_count": 108,
   "metadata": {},
   "outputs": [
    {
     "data": {
      "application/vnd.jupyter.widget-view+json": {
       "model_id": "d1781b437ce848fc9f4dc12d461841f6",
       "version_major": 2,
       "version_minor": 0
      },
      "text/plain": [
       "interactive(children=(RadioButtons(description='Slice plane selection:', options=('x-y', 'y-z', 'z-x'), style=…"
      ]
     },
     "metadata": {},
     "output_type": "display_data"
    },
    {
     "data": {
      "text/plain": [
       "<scripts.ImageSliceViewer3D.ImageSliceViewer3D at 0x11ab99b50>"
      ]
     },
     "execution_count": 108,
     "metadata": {},
     "output_type": "execute_result"
    }
   ],
   "source": [
    "from skimage.segmentation import watershed\n",
    "from skimage.filters import gaussian\n",
    "from skimage.morphology import erosion, dilation\n",
    "\n",
    "# watershed?\n",
    "\n",
    "# denoise image\n",
    "denoised = gaussian(img_subV)\n",
    "\n",
    "# try some funky stuff\n",
    "max_image = dilation(denoised,ball(2))\n",
    "min_image = erosion(denoised,ball(2))\n",
    "\n",
    "gradient_image = max_image - min_image\n",
    "\n",
    "isv(gradient_image)"
   ]
  },
  {
   "cell_type": "code",
   "execution_count": null,
   "metadata": {},
   "outputs": [],
   "source": []
  },
  {
   "cell_type": "code",
   "execution_count": null,
   "metadata": {},
   "outputs": [],
   "source": []
  },
  {
   "cell_type": "code",
   "execution_count": 93,
   "metadata": {},
   "outputs": [],
   "source": [
    "# import denseCRF3D"
   ]
  }
 ],
 "metadata": {
  "kernelspec": {
   "display_name": "Python 3",
   "language": "python",
   "name": "python3"
  },
  "language_info": {
   "codemirror_mode": {
    "name": "ipython",
    "version": 3
   },
   "file_extension": ".py",
   "mimetype": "text/x-python",
   "name": "python",
   "nbconvert_exporter": "python",
   "pygments_lexer": "ipython3",
   "version": "3.8.2"
  },
  "toc": {
   "base_numbering": 1,
   "nav_menu": {},
   "number_sections": false,
   "sideBar": true,
   "skip_h1_title": false,
   "title_cell": "Table of Contents",
   "title_sidebar": "Contents",
   "toc_cell": false,
   "toc_position": {},
   "toc_section_display": true,
   "toc_window_display": true
  }
 },
 "nbformat": 4,
 "nbformat_minor": 4
}
