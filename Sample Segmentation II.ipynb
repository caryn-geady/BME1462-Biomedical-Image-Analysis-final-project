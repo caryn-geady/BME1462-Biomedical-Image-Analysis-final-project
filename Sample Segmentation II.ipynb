{
 "cells": [
  {
   "cell_type": "markdown",
   "metadata": {},
   "source": [
    "# Sample Segmentation II\n",
    "This is a second pass on the segmentation algorithm implemented in Tan et. al. The segmentation pipeline consists of three broad steps:\n",
    "1. initial segmentation by watershed;\n",
    "1. refinement through active contours;\n",
    "1. application of Markov Random Field (MRF) for part-solid lesions.\n",
    "\n",
    "## Initial Segmentation by Watershed\n",
    "\n",
    "In plain language, the following steps were/will be taken:\n",
    "1. the user defines an ellipse on the slice of the CT where the lesion resides (ideally, where the diameter of the lesion is at its largest in the axial plane);\n",
    "1. based upon this ellipse, a sub-volume is defined on a reference slice in the image for further analysis -- the sub-volume is essentially an elliptical cylinder -- so we take the coordinates of the ellipse in the reference slice, but also the coordinates in adjacent slices (both superior and inferior wrt the reference slice);\n",
    "1. the number of adjacent slices considered is given by the following formula: $(a+b)\\times PS$, where $PS$ is the native pixel spacing in the axial plane;\n",
    "1. the sub-volume is then isotropically resampled to axial in-plane resolution (the thickness of the CT slices will vary, but most should be between 2.5-5mm); **NOT IMPLEMENTED IN CODE BELOW (IT'S A KERNEL KILLER AND I'M NOT SURE WHY!)**\n",
    "1. an initial segmentation is performed using the watershed algorithm -- this requires the definition of a marker image: a marker inside the lesion and a marker outside the lesion -- the internal marker will be the centroid of the lesion and the external marker will be the lung parenchyma and area surrounding the sub-volume in the image;\n",
    "1. to determine the *true* centroid of the lesion, a threshold was applied to the sub-volume, where any pixel with intensity above the threshold was considered to be a candidate lesion pixel and anything below the threshold was considered to be a candidate lung paremchyma pixel;\n",
    "1. the threshold can be determined through the application of a Gaussian Mixture model (sklearn, example here: https://scipy-lectures.org/advanced/image_processing/auto_examples/plot_GMM.html);\n",
    "1. the resultant binary mask is sequentially opened and closed to eliminate extrusions;\n",
    "1. if the mean density of the pixels contained within this mask is <-150HU, the lesion would be considered as part-solid, meaning the extra step of the Random Markov Field (RMF) would be applied (explained in subsequent steps);\n",
    "1. application of the distance transform yields the *true* centroid, which functions as the internal marker for the watershed;\n",
    "1. anything outside the sub-volume *or* <870HU *or* >200HU can be considered as background markers;\n",
    "1. a gradient image will be the input for the watershed;\n",
    "1. to improve results on the watershed segmentation, a bowl function was applied to the ellipse within the sub-volume on the gradient image to suppress edges within the lesion -- the function essentially assigns a weight to each gradient pixel intensity based on how far it is from the lesion centre ($(r/R)^2$ for $r<R$ and $1$ for $R>=R$ where $R$ is the radius of the ellipse);\n",
    "1. markers made the only local minimums by morphological reconstruction (**ALSO NOT IMPLEMENTED BELOW**);\n",
    "1. watershed segmentation cleaned up by opening with a spherical structural element, the radius of which was selected as 30% of the radius of the maximum inscribed sphere in the watershed surface. \n",
    "\n",
    "## Refinement through Active Contours\n",
    "The paper describes a process that makes my brain hurt to read about -- lots of math and flashbacks to quantum mechanics courses. But...basically, all we would need to do is feed the initial segmentation into an active contour model. I would suggest we follow this example: https://scikit-image.org/docs/dev/auto_examples/edges/plot_active_contours.html, where:\n",
    "- init is the watershed segmentation and\n",
    "- image is the original image (try with and without Gaussian filtering)\n"
   ]
  },
  {
   "cell_type": "code",
   "execution_count": 1,
   "metadata": {},
   "outputs": [],
   "source": [
    "import nrrd\n",
    "from scripts.ImageSliceViewer3D import ImageSliceViewer3D as isv \n",
    "import numpy as np\n",
    "import os\n",
    "\n",
    "# lists of image/mask files\n",
    "img_path = './data/images'\n",
    "msk_path = './data/masks'\n",
    "\n",
    "all_images = sorted([os.path.join(img_path,f) for f in os.listdir(img_path)])\n",
    "all_masks = sorted([os.path.join(msk_path,f) for f in os.listdir(msk_path)])\n",
    "\n",
    "# paths to image and corresponding mask\n",
    "im_path = all_images[2]\n",
    "msk_path = all_masks[2]\n",
    "\n",
    "im_V,im_d = nrrd.read(im_path)\n",
    "msk_V,msk_d = nrrd.read(msk_path)"
   ]
  },
  {
   "cell_type": "code",
   "execution_count": 2,
   "metadata": {},
   "outputs": [
    {
     "name": "stdout",
     "output_type": "stream",
     "text": [
      "There are 4 nodule(s) in this image.\n"
     ]
    }
   ],
   "source": [
    "from skimage.measure import label,regionprops\n",
    "# regionprops?\n",
    "# label the mask into connected regions\n",
    "nodule_labels,num_labels = label(msk_V,return_num=True,background=0)\n",
    "nodule_props = regionprops(nodule_labels)\n",
    "\n",
    "# the number of nodules in nodule_props corresponds to the number of connected regions\n",
    "print('There are {} nodule(s) in this image.'.format(num_labels))     "
   ]
  },
  {
   "cell_type": "code",
   "execution_count": 45,
   "metadata": {},
   "outputs": [
    {
     "data": {
      "text/plain": [
       "10.0"
      ]
     },
     "execution_count": 45,
     "metadata": {},
     "output_type": "execute_result"
    }
   ],
   "source": [
    "bbox = nodule_props[0].bbox  # to help construct cylinder_image\n",
    "bbox_dims = [bbox[3]-bbox[0],bbox[4]-bbox[1],bbox[-1]-bbox[2]]\n",
    "R = bbox_dims[0]/2 + bbox_dims[1]/2  # take a circle with radius larger than bounding box\n",
    "R = max(bbox_dims)*2/3\n",
    "R"
   ]
  },
  {
   "cell_type": "code",
   "execution_count": 46,
   "metadata": {},
   "outputs": [
    {
     "data": {
      "text/plain": [
       "(194, 301, 81, 204, 316, 85)"
      ]
     },
     "execution_count": 46,
     "metadata": {},
     "output_type": "execute_result"
    }
   ],
   "source": [
    "bbox"
   ]
  },
  {
   "cell_type": "code",
   "execution_count": 47,
   "metadata": {},
   "outputs": [],
   "source": [
    "# isolate the centroid of the nodule -- this will be our preliminary marker \n",
    "j,i,k = [round(i) for i in nodule_props[0].centroid] \n",
    "\n",
    "circle_mask = np.zeros((im_V.shape[0],im_V.shape[1]),dtype=bool)\n",
    "num_rows,num_cols = circle_mask.shape\n",
    "\n",
    "row,col = np.meshgrid(range(num_rows),range(num_cols))\n",
    "circle_mask[((row-i)**2+(col-j)**2)<R**2] = True"
   ]
  },
  {
   "cell_type": "code",
   "execution_count": 48,
   "metadata": {},
   "outputs": [
    {
     "data": {
      "text/plain": [
       "<matplotlib.image.AxesImage at 0x12aa4c490>"
      ]
     },
     "execution_count": 48,
     "metadata": {},
     "output_type": "execute_result"
    },
    {
     "data": {
      "image/png": "[encoded data removed]",
      "text/plain": [
       "<Figure size 432x288 with 2 Axes>"
      ]
     },
     "metadata": {
      "needs_background": "light"
     },
     "output_type": "display_data"
    }
   ],
   "source": [
    "import matplotlib.pyplot as plt\n",
    "\n",
    "fig, axes = plt.subplots(nrows=1, ncols=2)\n",
    "\n",
    "axes[0].imshow(circle_mask,cmap='binary_r')\n",
    "axes[1].imshow(msk_V[:,:,k],cmap='binary_r')"
   ]
  },
  {
   "cell_type": "code",
   "execution_count": 49,
   "metadata": {},
   "outputs": [],
   "source": [
    "# now we have the initial contour (that will theoretically be user-defined for the clinical dataset)\n",
    "# next step: extend the circle in both superior and inferior directions to obtain a cylinder\n",
    "\n",
    "# determine the number of slices required in the z direction for full coverage\n",
    "num_slices = int(np.ceil((float(im_d['pixel_spacing']) * R) / float(im_d['slice_thickness'])/2))\n",
    "\n",
    "cylinder_image = np.zeros((im_V.shape[0],im_V.shape[1],im_V.shape[2]),dtype=bool)\n",
    "\n",
    "for i in range(k-num_slices,k+num_slices+1):\n",
    "    cylinder_image[:,:,i] = circle_mask"
   ]
  },
  {
   "cell_type": "code",
   "execution_count": 50,
   "metadata": {},
   "outputs": [
    {
     "data": {
      "text/plain": [
       "<matplotlib.image.AxesImage at 0x12abfcf40>"
      ]
     },
     "execution_count": 50,
     "metadata": {},
     "output_type": "execute_result"
    },
    {
     "data": {
      "image/png": "[encoded data removed]",
      "text/plain": [
       "<Figure size 432x288 with 1 Axes>"
      ]
     },
     "metadata": {
      "needs_background": "light"
     },
     "output_type": "display_data"
    }
   ],
   "source": [
    "# label the mask into connected regions\n",
    "mask_labels = label(cylinder_image)\n",
    "mask_props = regionprops(mask_labels)\n",
    "\n",
    "coords = mask_props[0].bbox\n",
    "\n",
    "msk_subV = mask_props[0].image\n",
    "img_subV = im_V[coords[0]:coords[3],coords[1]:coords[4],coords[2]:coords[-1]]\n",
    "msk_subV_true = msk_V[coords[0]:coords[3],coords[1]:coords[4],coords[2]:coords[-1]]\n",
    "# isolate the sub-volume of the cylinder -- all operations applied to this, then it can be mapped back using bbox\n",
    "# isv(img_subV)\n",
    "plt.imshow(img_subV[:,:,num_slices],cmap='binary_r')"
   ]
  },
  {
   "cell_type": "code",
   "execution_count": 9,
   "metadata": {},
   "outputs": [],
   "source": [
    "# THIS CELL APPEARS TO KILL KERNELS :(\n",
    "# # resample image -- isotropic voxels (1mm,1mm,1mm)\n",
    "# from skimage.transform import rescale\n",
    "\n",
    "# # rescale?\n",
    "\n",
    "# row,col,slc = msk_subV.shape\n",
    "\n",
    "# new_row = round(float(msk_d['pixel_spacing']) * row)\n",
    "# new_col = round(float(msk_d['pixel_spacing']) * col)\n",
    "# new_slc = round(float(msk_d['slice_thickness']) * slc)\n",
    "\n",
    "# msk_upSamp = rescale(msk_subV, scale = (new_row,new_col,new_slc), preserve_range = True, anti_aliasing=None)\n",
    "# img_upSamp = rescale(img_subV, scale = (new_row,new_col,new_slc), preserve_range = True, anti_aliasing=True)\n",
    "\n",
    "# # rescale(image, scale, order=None, mode='reflect', cval=0, clip=True, preserve_range=False, multichannel=False, anti_aliasing=None, anti_aliasing_sigma=None, *, channel_axis=None)"
   ]
  },
  {
   "cell_type": "code",
   "execution_count": 118,
   "metadata": {},
   "outputs": [
    {
     "data": {
      "image/png": "[encoded data removed]",
      "text/plain": [
       "<Figure size 792x288 with 3 Axes>"
      ]
     },
     "metadata": {
      "needs_background": "light"
     },
     "output_type": "display_data"
    },
    {
     "data": {
      "text/plain": [
       "-642.9928347497007"
      ]
     },
     "execution_count": 118,
     "metadata": {},
     "output_type": "execute_result"
    }
   ],
   "source": [
    "from scipy import ndimage\n",
    "import matplotlib.pyplot as plt\n",
    "from sklearn.mixture import GaussianMixture\n",
    "from skimage.morphology import opening, closing, ball\n",
    "\n",
    "intensities = img_subV[msk_subV]\n",
    "\n",
    "hist, bin_edges = np.histogram(intensities, bins=60)\n",
    "bin_centers = 0.5*(bin_edges[:-1] + bin_edges[1:])\n",
    "\n",
    "classif = GaussianMixture(n_components=2)\n",
    "classif.fit(intensities.reshape(-1,1))\n",
    "\n",
    "threshold = np.mean(classif.means_)\n",
    "binary_img = np.logical_and(np.logical_and(img_subV > threshold,img_subV > -850),img_subV < 200)\n",
    "binary_img[~msk_subV] = False\n",
    "binary_img_centroid = closing(opening(binary_img,ball(radius=int(0.1*R))),ball(radius=int(0.1*R)))\n",
    "\n",
    "\n",
    "plt.figure(figsize=(11,4))\n",
    "\n",
    "plt.subplot(131)\n",
    "plt.imshow(img_subV[:,:,num_slices],cmap='binary_r')\n",
    "plt.title('original image')\n",
    "plt.axis('off')\n",
    "plt.subplot(132)\n",
    "plt.plot(bin_centers, hist, lw=2)\n",
    "plt.axvline(threshold, color='r', ls='--', lw=2)\n",
    "plt.title('histogram')\n",
    "plt.yticks([])\n",
    "plt.subplot(133)\n",
    "plt.imshow(binary_img[:,:,num_slices], cmap=plt.cm.gray, interpolation='nearest')\n",
    "plt.title('binary mask')\n",
    "plt.axis('off')\n",
    "\n",
    "plt.subplots_adjust(wspace=0.02, hspace=0.3, top=1, bottom=0.1, left=0, right=1)\n",
    "plt.show()\n",
    "threshold"
   ]
  },
  {
   "cell_type": "code",
   "execution_count": 120,
   "metadata": {},
   "outputs": [
    {
     "data": {
      "text/plain": [
       "array([[-433.91723237],\n",
       "       [-852.06843713]])"
      ]
     },
     "execution_count": 120,
     "metadata": {},
     "output_type": "execute_result"
    }
   ],
   "source": [
    "classif.means_"
   ]
  },
  {
   "cell_type": "code",
   "execution_count": 114,
   "metadata": {},
   "outputs": [
    {
     "data": {
      "text/plain": [
       "(6.16764705882353, 8.423529411764706, 2.2411764705882353)"
      ]
     },
     "execution_count": 114,
     "metadata": {},
     "output_type": "execute_result"
    }
   ],
   "source": [
    "# label the opened, threshold mask into connected regions\n",
    "lesion_labels = label(binary_img_centroid)\n",
    "lesion_props = regionprops(lesion_labels)\n",
    "\n",
    "# label the image sub-volume into connected regions\n",
    "msk_subV_labels = label(msk_subV)\n",
    "msk_subV_props = regionprops(msk_subV_labels)\n",
    "\n",
    "msk_j,msk_i,msk_k = [round(i) for i in msk_subV_props[0].centroid]\n",
    "\n",
    "dist = []\n",
    "\n",
    "# calculate the distance between the centroid of each connected region and the 'true' centroid\n",
    "for obj in lesion_props:\n",
    "    y,x,z = [round(i) for i in obj.centroid]\n",
    "    dist.append(np.sqrt((x-msk_i)**2+(y-msk_j)**2+(z-msk_k)**2))\n",
    "\n",
    "# find the index of the connected component that minimizes the distance between centroids\n",
    "ind = np.where(dist == min(dist))[0][0]\n",
    "    \n",
    "centroid_subV = lesion_props[ind].centroid\n",
    "centroid_subV"
   ]
  },
  {
   "cell_type": "code",
   "execution_count": 115,
   "metadata": {},
   "outputs": [
    {
     "data": {
      "text/plain": [
       "[<skimage.measure._regionprops.RegionProperties at 0x12149cd60>]"
      ]
     },
     "execution_count": 115,
     "metadata": {},
     "output_type": "execute_result"
    }
   ],
   "source": [
    "lesion_props"
   ]
  },
  {
   "cell_type": "code",
   "execution_count": 53,
   "metadata": {},
   "outputs": [
    {
     "data": {
      "text/plain": [
       "0"
      ]
     },
     "execution_count": 53,
     "metadata": {},
     "output_type": "execute_result"
    }
   ],
   "source": [
    "regionprops?\n",
    "\n",
    "# put together a list of all pixels that are not in the lesion -- make minimums to optimize watershed result\n",
    "coords = []\n",
    "\n",
    "for i in range(len(lesion_props)):\n",
    "    if i == ind:\n",
    "        continue\n",
    "    else:\n",
    "        coords.append(lesion_props[i].coords)\n",
    "\n",
    "len(coords)"
   ]
  },
  {
   "cell_type": "code",
   "execution_count": 54,
   "metadata": {},
   "outputs": [
    {
     "data": {
      "text/plain": [
       "<matplotlib.colorbar.Colorbar at 0x151219d60>"
      ]
     },
     "execution_count": 54,
     "metadata": {},
     "output_type": "execute_result"
    },
    {
     "data": {
      "image/png": "[encoded data removed]",
      "text/plain": [
       "<Figure size 432x288 with 2 Axes>"
      ]
     },
     "metadata": {
      "needs_background": "light"
     },
     "output_type": "display_data"
    }
   ],
   "source": [
    "# construct a marker image for the watershed\n",
    "marker_image = np.zeros((img_subV.shape[0],img_subV.shape[1],img_subV.shape[2]),dtype=np.uint8)\n",
    "marker_image[~binary_img] = 2   # background voxels\n",
    "# marker_image[round(centroid_subV[0]),round(centroid_subV[1]),round(centroid_subV[2])] = 1 # reassigned centroid to all slices (work-around for watershed fail in 3D)\n",
    "marker_image[msk_j,msk_i,msk_k] = 1\n",
    "# isv(marker_image)\n",
    "plt.imshow(marker_image[:,:,msk_k],cmap='binary_r')\n",
    "plt.colorbar()"
   ]
  },
  {
   "cell_type": "code",
   "execution_count": 55,
   "metadata": {},
   "outputs": [],
   "source": [
    "from skimage.segmentation import watershed\n",
    "from skimage.filters import gaussian\n",
    "from skimage.morphology import erosion, dilation\n",
    "\n",
    "# watershed?\n",
    "\n",
    "# denoise image\n",
    "denoised = gaussian(img_subV)\n",
    "\n",
    "# try some funky stuff\n",
    "max_image = dilation(denoised,ball(2))\n",
    "min_image = erosion(denoised,ball(2))\n",
    "\n",
    "gradient_image = max_image - min_image\n",
    "gradient_image[~msk_subV] = np.min(gradient_image)\n",
    "\n",
    "if len(coords) > 0:\n",
    "    for i in range(len(coords[0])):\n",
    "        gradient_image[coords[0][i][0],coords[0][i][1],coords[0][i][2]] = np.min(gradient_image)"
   ]
  },
  {
   "cell_type": "code",
   "execution_count": 119,
   "metadata": {},
   "outputs": [
    {
     "data": {
      "text/plain": [
       "<matplotlib.colorbar.Colorbar at 0x151793f40>"
      ]
     },
     "execution_count": 119,
     "metadata": {},
     "output_type": "execute_result"
    },
    {
     "data": {
      "image/png": "[encoded data removed]",
      "text/plain": [
       "<Figure size 432x288 with 2 Axes>"
      ]
     },
     "metadata": {
      "needs_background": "light"
     },
     "output_type": "display_data"
    }
   ],
   "source": [
    "plt.imshow(gradient_image[:,:,msk_k])\n",
    "plt.colorbar()"
   ]
  },
  {
   "cell_type": "code",
   "execution_count": 99,
   "metadata": {},
   "outputs": [],
   "source": [
    "# create distance matrix for the 3D bowl function\n",
    "row,col,slc = np.meshgrid(range(gradient_image.shape[0]),range(gradient_image.shape[1]),range(gradient_image.shape[2]))\n",
    "dist_matrix = np.sqrt((round(msk_j) - row)**2 + (round(msk_i) - col)**2 + ((round(msk_k) - slc) * float(msk_d['slice_thickness']))**2)\n",
    "dist_matrix[dist_matrix>=R] = R\n",
    "dist_matrix = dist_matrix / R\n",
    "\n",
    "# plt.imshow(dist_matrix[:,:,10],cmap='jet',vmin=0, vmax=1)\n",
    "# plt.colorbar()"
   ]
  },
  {
   "cell_type": "code",
   "execution_count": 101,
   "metadata": {},
   "outputs": [
    {
     "data": {
      "text/plain": [
       "Text(0.5, 1.0, 'modified gradient')"
      ]
     },
     "execution_count": 101,
     "metadata": {},
     "output_type": "execute_result"
    },
    {
     "data": {
      "image/png": "[encoded data removed]",
      "text/plain": [
       "<Figure size 432x288 with 2 Axes>"
      ]
     },
     "metadata": {
      "needs_background": "light"
     },
     "output_type": "display_data"
    }
   ],
   "source": [
    "# modify the gradient image for watershed\n",
    "mod_gradient = (1-gradient_image) * dist_matrix\n",
    "# isv(mod_gradient)\n",
    "\n",
    "fig, axes = plt.subplots(nrows=1, ncols=2)\n",
    "\n",
    "slice_num = -1\n",
    "\n",
    "axes[0].imshow(gradient_image[:,:,slice_num],cmap='binary_r')\n",
    "axes[0].set_title('gradient')\n",
    "axes[1].imshow(mod_gradient[:,:,slice_num],cmap='binary_r')\n",
    "axes[1].set_title('modified gradient')\n",
    "\n",
    "# plt.imshow(mod_gradient[:,:,6],cmap='binary_r')"
   ]
  },
  {
   "cell_type": "code",
   "execution_count": 102,
   "metadata": {},
   "outputs": [],
   "source": [
    "water_initial = ~watershed(1-gradient_image,marker_image,connectivity=2)\n",
    "water_initial_mod = ~watershed(mod_gradient, marker_image,connectivity=2)"
   ]
  },
  {
   "cell_type": "code",
   "execution_count": 103,
   "metadata": {},
   "outputs": [
    {
     "data": {
      "text/plain": [
       "Text(0.5, 1.0, 'modified gradient')"
      ]
     },
     "execution_count": 103,
     "metadata": {},
     "output_type": "execute_result"
    },
    {
     "data": {
      "image/png": "[encoded data removed]",
      "text/plain": [
       "<Figure size 432x288 with 2 Axes>"
      ]
     },
     "metadata": {
      "needs_background": "light"
     },
     "output_type": "display_data"
    }
   ],
   "source": [
    "fig, axes = plt.subplots(nrows=1, ncols=2)\n",
    "\n",
    "slice_num = msk_k\n",
    "\n",
    "axes[0].imshow(water_initial[:,:,slice_num],cmap='binary_r')\n",
    "axes[0].set_title('gradient')\n",
    "axes[1].imshow(water_initial_mod[:,:,slice_num],cmap='binary_r')\n",
    "axes[1].set_title('modified gradient')"
   ]
  },
  {
   "cell_type": "code",
   "execution_count": 20,
   "metadata": {},
   "outputs": [],
   "source": [
    "watershed?"
   ]
  },
  {
   "cell_type": "code",
   "execution_count": 104,
   "metadata": {},
   "outputs": [
    {
     "data": {
      "text/plain": [
       "2"
      ]
     },
     "execution_count": 104,
     "metadata": {},
     "output_type": "execute_result"
    }
   ],
   "source": [
    "# label the mask into connected regions\n",
    "water_labels = label(water_initial_mod,background = 1)\n",
    "water_props = regionprops(water_labels)\n",
    "len(water_props)"
   ]
  },
  {
   "cell_type": "code",
   "execution_count": 105,
   "metadata": {},
   "outputs": [
    {
     "data": {
      "text/plain": [
       "<matplotlib.colorbar.Colorbar at 0x121b0f550>"
      ]
     },
     "execution_count": 105,
     "metadata": {},
     "output_type": "execute_result"
    },
    {
     "data": {
      "image/png": "[encoded data removed]",
      "text/plain": [
       "<Figure size 432x288 with 2 Axes>"
      ]
     },
     "metadata": {
      "needs_background": "light"
     },
     "output_type": "display_data"
    }
   ],
   "source": [
    "plt.imshow(water_labels[:,:,msk_k],cmap='binary_r',vmin=0,vmax=1)\n",
    "plt.colorbar()"
   ]
  },
  {
   "cell_type": "code",
   "execution_count": 106,
   "metadata": {},
   "outputs": [],
   "source": [
    "from skimage.morphology import binary_opening\n",
    "\n",
    "water_areas = [water_props[i].area for i in range(len(water_props))]\n",
    "ind = np.where(water_areas == np.min(water_areas))\n",
    "ind[0][0]\n",
    "\n",
    "water_mask = water_labels == water_props[ind[0][0]].label\n",
    "\n",
    "equiv_R = round(water_props[ind[0][0]].equivalent_diameter * 0.15)\n",
    "\n",
    "water_mask_open = binary_opening(water_mask,ball(radius = equiv_R))"
   ]
  },
  {
   "cell_type": "code",
   "execution_count": 107,
   "metadata": {},
   "outputs": [
    {
     "data": {
      "text/plain": [
       "<matplotlib.colorbar.Colorbar at 0x121c640d0>"
      ]
     },
     "execution_count": 107,
     "metadata": {},
     "output_type": "execute_result"
    },
    {
     "data": {
      "image/png": "[encoded data removed]",
      "text/plain": [
       "<Figure size 432x288 with 2 Axes>"
      ]
     },
     "metadata": {
      "needs_background": "light"
     },
     "output_type": "display_data"
    }
   ],
   "source": [
    "plt.imshow(water_mask_open[:,:,msk_k],cmap='binary_r')\n",
    "plt.colorbar()"
   ]
  },
  {
   "cell_type": "code",
   "execution_count": 108,
   "metadata": {},
   "outputs": [
    {
     "name": "stdout",
     "output_type": "stream",
     "text": [
      "Image data type: int16\n",
      "0.04993761694389223\n"
     ]
    }
   ],
   "source": [
    "# FINALLY this initial segmentation is fed into the active contours function for further refinement\n",
    "from skimage.segmentation import active_contour\n",
    "from skimage.segmentation import inverse_gaussian_gradient as igg\n",
    "from skimage.segmentation import morphological_geodesic_active_contour as gac\n",
    "from skimage.segmentation import morphological_chan_vese as mcv\n",
    "\n",
    "# gac?\n",
    "# mcv?\n",
    "water_mask.dtype\n",
    "print('Image data type: {}'.format(img_subV.dtype))\n",
    "refined_mask = gac(igg(img_subV), iterations = 1, init_level_set=water_mask, threshold = 0.5)\n",
    "# refined_mask = gac(gradient_image, iterations = 1, init_level_set=water_mask, balloon = -0.1, threshold = 0.01)\n",
    "print(np.max(igg(img_subV)))\n",
    "# refined_mask = mcv(gaussian(img_subV), iterations = 1, init_level_set=water_mask)\n",
    "# refined_mask = mcv(mod_gradient, iterations = 7, init_level_set=~water_mask)\n",
    "\n",
    "# isv(img_subV)\n",
    "# plt.hist(igg(img_subV.reshape(-1,1)))\n",
    "# plt.hist(gradient_image.reshape(-1,1))\n",
    "# isv(refined_mask)\n",
    "# isv(msk_subV_true)\n",
    "\n",
    "\n",
    "# snake = active_contour(gaussian(img_subV, 3, preserve_range=True), water_mask, alpha=0.015, beta=10, gamma=0.001)"
   ]
  },
  {
   "cell_type": "code",
   "execution_count": 109,
   "metadata": {},
   "outputs": [
    {
     "data": {
      "image/png": "[encoded data removed]",
      "text/plain": [
       "<Figure size 432x288 with 2 Axes>"
      ]
     },
     "metadata": {
      "needs_background": "light"
     },
     "output_type": "display_data"
    }
   ],
   "source": [
    "plt.imshow(refined_mask[:,:,msk_k],cmap='binary_r',vmin=0,vmax=1)\n",
    "plt.colorbar()\n",
    "\n",
    "from scipy.ndimage.morphology import binary_fill_holes\n",
    "refined_mask = binary_fill_holes(refined_mask)"
   ]
  },
  {
   "cell_type": "code",
   "execution_count": 110,
   "metadata": {},
   "outputs": [
    {
     "name": "stdout",
     "output_type": "stream",
     "text": [
      "0.8465185317566695\n",
      "0.7034755886426594\n"
     ]
    }
   ],
   "source": [
    "IoU_water = np.count_nonzero(np.logical_and(water_mask,msk_subV_true)) / np.count_nonzero(np.logical_or(water_mask,msk_subV_true))\n",
    "IoU_actC = np.count_nonzero(np.logical_and(refined_mask,msk_subV_true)) / np.count_nonzero(np.logical_or(refined_mask,msk_subV_true))\n",
    "IoU_backW = np.count_nonzero(np.logical_and(~water_mask,~msk_subV_true)) / np.count_nonzero(np.logical_or(~water_mask,~msk_subV_true))\n",
    "IoU_backA = np.count_nonzero(np.logical_and(~refined_mask,~msk_subV_true)) / np.count_nonzero(np.logical_or(~refined_mask,~msk_subV_true))\n",
    "\n",
    "print((IoU_water+IoU_backW)/2)\n",
    "print((IoU_actC+IoU_backA)/2)"
   ]
  },
  {
   "cell_type": "code",
   "execution_count": 111,
   "metadata": {},
   "outputs": [
    {
     "data": {
      "text/plain": [
       "0.534375"
      ]
     },
     "execution_count": 111,
     "metadata": {},
     "output_type": "execute_result"
    }
   ],
   "source": [
    "IoU_actC"
   ]
  },
  {
   "cell_type": "code",
   "execution_count": 112,
   "metadata": {},
   "outputs": [
    {
     "data": {
      "text/plain": [
       "0.8315412186379928"
      ]
     },
     "execution_count": 112,
     "metadata": {},
     "output_type": "execute_result"
    }
   ],
   "source": [
    "IoU_water"
   ]
  },
  {
   "cell_type": "code",
   "execution_count": 44,
   "metadata": {},
   "outputs": [
    {
     "data": {
      "text/plain": [
       "0.0"
      ]
     },
     "execution_count": 44,
     "metadata": {},
     "output_type": "execute_result"
    }
   ],
   "source": [
    "# how does IoU compare to more widely used/accepted segmentation metrics?\n",
    "# try dice coefficient --> also on interpretable scale: [0,1]\n",
    "\n",
    "seg = water_mask\n",
    "dice = np.sum(seg[msk_subV_true==True])*2.0 / (np.sum(seg) + np.sum(msk_subV_true))\n",
    "dice"
   ]
  },
  {
   "cell_type": "code",
   "execution_count": 31,
   "metadata": {},
   "outputs": [],
   "source": [
    "# import denseCRF3D"
   ]
  }
 ],
 "metadata": {
  "kernelspec": {
   "display_name": "Python 3 (ipykernel)",
   "language": "python",
   "name": "python3"
  },
  "language_info": {
   "codemirror_mode": {
    "name": "ipython",
    "version": 3
   },
   "file_extension": ".py",
   "mimetype": "text/x-python",
   "name": "python",
   "nbconvert_exporter": "python",
   "pygments_lexer": "ipython3",
   "version": "3.9.7"
  },
  "toc": {
   "base_numbering": 1,
   "nav_menu": {},
   "number_sections": false,
   "sideBar": true,
   "skip_h1_title": false,
   "title_cell": "Table of Contents",
   "title_sidebar": "Contents",
   "toc_cell": false,
   "toc_position": {},
   "toc_section_display": true,
   "toc_window_display": true
  }
 },
 "nbformat": 4,
 "nbformat_minor": 4
}
