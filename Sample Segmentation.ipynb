{
 "cells": [
  {
   "cell_type": "markdown",
   "metadata": {},
   "source": [
    "Import the pynrrd package supplementary class. Load the image and mask."
   ]
  },
  {
   "cell_type": "code",
   "execution_count": 2,
   "metadata": {},
   "outputs": [],
   "source": [
    "import nrrd\n",
    "from scripts.ImageSliceViewer3D import ImageSliceViewer3D as isv \n",
    "\n",
    "# paths to image and corresponding mask\n",
    "im_path = 'data/images/LIDC-IDRI-0001.nrrd'\n",
    "msk_path = 'data/masks/LIDC-IDRI-0001.nrrd'\n",
    "\n",
    "im_V,im_d = nrrd.read(im_path)\n",
    "msk_V,msk_d = nrrd.read(msk_path)"
   ]
  },
  {
   "cell_type": "markdown",
   "metadata": {},
   "source": [
    "Use `skimage.measure`'s `label` method to locate the radiologist-defined mask. Recall that each pixel in the mask was agreed to be in the lesion with minimum 50% agreement between 4 radiologists.\n",
    "\n",
    "**WILL NEED TO ADJUST SCRIPT FOR >1 LESION PER SCAN**"
   ]
  },
  {
   "cell_type": "code",
   "execution_count": 3,
   "metadata": {},
   "outputs": [
    {
     "name": "stdout",
     "output_type": "stream",
     "text": [
      "There are 1 nodule(s) in this image.\n"
     ]
    }
   ],
   "source": [
    "from skimage.measure import label,regionprops\n",
    "\n",
    "# label the mask into connected regions\n",
    "nodule_labels,num_labels = label(msk_V,return_num=True)\n",
    "nodule_props = regionprops(nodule_labels)\n",
    "\n",
    "# the number of nodules in nodule_props corresponds to the number of connected regions\n",
    "print('There are {} nodule(s) in this image.'.format(len(nodule_props)))     "
   ]
  },
  {
   "cell_type": "code",
   "execution_count": 4,
   "metadata": {},
   "outputs": [
    {
     "data": {
      "text/plain": [
       "[367, 316, 90]"
      ]
     },
     "execution_count": 4,
     "metadata": {},
     "output_type": "execute_result"
    }
   ],
   "source": [
    "# isolate the centroid of the nodule -- this will be our marker for the watershed algorithm\n",
    "nodule_props[0].centroid\n",
    "centroid = [round(i) for i in nodule_props[0].centroid]\n",
    "centroid"
   ]
  },
  {
   "cell_type": "code",
   "execution_count": 5,
   "metadata": {},
   "outputs": [],
   "source": [
    "from skimage.segmentation import watershed\n",
    "\n",
    "# watershed?"
   ]
  },
  {
   "cell_type": "code",
   "execution_count": 6,
   "metadata": {},
   "outputs": [
    {
     "name": "stdout",
     "output_type": "stream",
     "text": [
      "(512, 512, 133)\n"
     ]
    },
    {
     "data": {
      "application/vnd.jupyter.widget-view+json": {
       "model_id": "05a9467d24534b009d50ddc770fa7dc0",
       "version_major": 2,
       "version_minor": 0
      },
      "text/plain": [
       "interactive(children=(RadioButtons(description='Slice plane selection:', options=('x-y', 'y-z', 'z-x'), style=…"
      ]
     },
     "metadata": {},
     "output_type": "display_data"
    },
    {
     "data": {
      "text/plain": [
       "<scripts.ImageSliceViewer3D.ImageSliceViewer3D at 0x1295c4ee0>"
      ]
     },
     "execution_count": 6,
     "metadata": {},
     "output_type": "execute_result"
    }
   ],
   "source": [
    "from scipy.ndimage import median_filter as median\n",
    "\n",
    "# denoise image\n",
    "denoised = median(im_V,5)\n",
    "\n",
    "print(denoised.shape)\n",
    "isv(denoised)"
   ]
  },
  {
   "cell_type": "code",
   "execution_count": 12,
   "metadata": {},
   "outputs": [
    {
     "data": {
      "application/vnd.jupyter.widget-view+json": {
       "model_id": "3b676ae1c5454b6aa399788a46dcf79f",
       "version_major": 2,
       "version_minor": 0
      },
      "text/plain": [
       "interactive(children=(RadioButtons(description='Slice plane selection:', options=('x-y', 'y-z', 'z-x'), style=…"
      ]
     },
     "metadata": {},
     "output_type": "display_data"
    },
    {
     "data": {
      "text/plain": [
       "<scripts.ImageSliceViewer3D.ImageSliceViewer3D at 0x11b754bb0>"
      ]
     },
     "execution_count": 12,
     "metadata": {},
     "output_type": "execute_result"
    }
   ],
   "source": [
    "from skimage.morphology import erosion, dilation, ball\n",
    "\n",
    "# try some funky stuff\n",
    "max_image = dilation(denoised,ball(2))\n",
    "min_image = erosion(denoised,ball(2))\n",
    "\n",
    "gradient_image = max_image - min_image\n",
    "\n",
    "isv(gradient_image)"
   ]
  },
  {
   "cell_type": "code",
   "execution_count": 15,
   "metadata": {},
   "outputs": [
    {
     "data": {
      "application/vnd.jupyter.widget-view+json": {
       "model_id": "d71524dfeb6443e6a6f53589db66451b",
       "version_major": 2,
       "version_minor": 0
      },
      "text/plain": [
       "interactive(children=(RadioButtons(description='Slice plane selection:', options=('x-y', 'y-z', 'z-x'), style=…"
      ]
     },
     "metadata": {},
     "output_type": "display_data"
    },
    {
     "data": {
      "text/plain": [
       "<scripts.ImageSliceViewer3D.ImageSliceViewer3D at 0x11b61e3d0>"
      ]
     },
     "execution_count": 15,
     "metadata": {},
     "output_type": "execute_result"
    }
   ],
   "source": [
    "from skimage.measure import label\n",
    "\n",
    "threshold_gradient = gradient_image < 200\n",
    "isv(threshold_gradient)"
   ]
  },
  {
   "cell_type": "code",
   "execution_count": 16,
   "metadata": {},
   "outputs": [
    {
     "data": {
      "application/vnd.jupyter.widget-view+json": {
       "model_id": "2477eaa7e29e4295a0d94ebf90600645",
       "version_major": 2,
       "version_minor": 0
      },
      "text/plain": [
       "interactive(children=(RadioButtons(description='Slice plane selection:', options=('x-y', 'y-z', 'z-x'), style=…"
      ]
     },
     "metadata": {},
     "output_type": "display_data"
    },
    {
     "data": {
      "text/plain": [
       "<scripts.ImageSliceViewer3D.ImageSliceViewer3D at 0x11b21a5e0>"
      ]
     },
     "execution_count": 16,
     "metadata": {},
     "output_type": "execute_result"
    }
   ],
   "source": [
    "markers = label(threshold_gradient)\n",
    "isv(markers)"
   ]
  },
  {
   "cell_type": "code",
   "execution_count": null,
   "metadata": {},
   "outputs": [],
   "source": [
    "# process the watershed\n",
    "labels = watershed(gradient_image, markers)"
   ]
  },
  {
   "cell_type": "code",
   "execution_count": null,
   "metadata": {},
   "outputs": [],
   "source": [
    "isv(labels)"
   ]
  }
 ],
 "metadata": {
  "kernelspec": {
   "display_name": "Python 3",
   "language": "python",
   "name": "python3"
  },
  "language_info": {
   "codemirror_mode": {
    "name": "ipython",
    "version": 3
   },
   "file_extension": ".py",
   "mimetype": "text/x-python",
   "name": "python",
   "nbconvert_exporter": "python",
   "pygments_lexer": "ipython3",
   "version": "3.8.2"
  },
  "toc": {
   "base_numbering": 1,
   "nav_menu": {},
   "number_sections": true,
   "sideBar": true,
   "skip_h1_title": false,
   "title_cell": "Table of Contents",
   "title_sidebar": "Contents",
   "toc_cell": false,
   "toc_position": {},
   "toc_section_display": true,
   "toc_window_display": false
  }
 },
 "nbformat": 4,
 "nbformat_minor": 4
}
