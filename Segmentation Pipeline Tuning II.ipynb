{
 "cells": [
  {
   "cell_type": "code",
   "execution_count": 2,
   "metadata": {},
   "outputs": [],
   "source": [
    "# imports\n",
    "import os\n",
    "from skimage.measure import label,regionprops\n",
    "from skimage.morphology import binary_opening, erosion, dilation, ball\n",
    "from skimage.segmentation import watershed\n",
    "from scipy.ndimage import median_filter as median\n",
    "from skimage.filters import gaussian\n",
    "import numpy as np\n",
    "import nrrd\n",
    "from scripts.ImageSliceViewer3D import ImageSliceViewer3D as isv "
   ]
  },
  {
   "cell_type": "code",
   "execution_count": 3,
   "metadata": {},
   "outputs": [],
   "source": [
    "# lists of image/mask files\n",
    "img_path = './data/images'\n",
    "msk_path = './data/masks'\n",
    "\n",
    "all_images = sorted([os.path.join(img_path,f) for f in os.listdir(img_path)])\n",
    "all_masks = sorted([os.path.join(msk_path,f) for f in os.listdir(msk_path)])"
   ]
  },
  {
   "cell_type": "code",
   "execution_count": 4,
   "metadata": {},
   "outputs": [],
   "source": [
    "# first pass of segmentation pipeline\n",
    "def segPipeline(imgList,mskList):\n",
    "    \n",
    "    # initialize lists for segmentation accuracy\n",
    "    all_IoU = []\n",
    "    all_backIoU = []\n",
    "    num_lesions_per_patient = []\n",
    "    patient_index = []\n",
    "    \n",
    "    for i in range(len(imgList)):\n",
    "        \n",
    "        # read image and corresponding mask\n",
    "        im_V,img_d = nrrd.read(imgList[i])\n",
    "        msk_V,msk_d = nrrd.read(mskList[i])\n",
    "        \n",
    "        # if the image and mask do not have the same size, do not process\n",
    "        if not (img_d['sizes'] == msk_d['sizes']).all():\n",
    "            print('ERROR, {}: image and mask must be of the same size'.format(imgList[i]))\n",
    "            continue\n",
    "            \n",
    "        # label the mask into connected regions\n",
    "        lesion_labels,num_lesions = label(msk_V,return_num=True)\n",
    "        lesion_props = regionprops(lesion_labels)\n",
    "        \n",
    "        num_lesions_per_patient.append(num_lesions)\n",
    "        \n",
    "        # for every lesion in the mask\n",
    "        for obj in lesion_props:\n",
    "            \n",
    "            patient_index.append(i)\n",
    "            \n",
    "            bbox = nodule_props[0].bbox  # to help construct cylinder_image\n",
    "            bbox_dims = [bbox[3]-bbox[0],bbox[4]-bbox[1],bbox[-1]-bbox[2]]\n",
    "#             R = bbox_dims[0]/2 + bbox_dims[1]/2  \n",
    "            R = max(bbox_dims)*2/3       # take a circle with radius larger than bounding box\n",
    "    \n",
    "            # isolate the centroid of the nodule -- this will be our preliminary marker \n",
    "            j,i,k = [round(i) for i in nodule_props[0].centroid] \n",
    "\n",
    "            circle_mask = np.zeros((im_V.shape[0],im_V.shape[1]),dtype=bool)\n",
    "            num_rows,num_cols = circle_mask.shape\n",
    "\n",
    "            row,col = np.meshgrid(range(num_rows),range(num_cols))\n",
    "            circle_mask[((row-i)**2+(col-j)**2)<R**2] = True\n",
    "            \n",
    "            # now we have the initial contour (that will theoretically be user-defined for the clinical dataset)\n",
    "            # next step: extend the circle in both superior and inferior directions to obtain a cylinder\n",
    "\n",
    "            # determine the number of slices required in the z direction for full coverage\n",
    "            num_slices = int(np.ceil((float(im_d['pixel_spacing']) * R) / float(im_d['slice_thickness'])/2))\n",
    "\n",
    "            cylinder_image = np.zeros((im_V.shape[0],im_V.shape[1],im_V.shape[2]),dtype=bool)\n",
    "\n",
    "            for i in range(k-num_slices,k+num_slices+1):\n",
    "                cylinder_image[:,:,i] = circle_mask\n",
    "                \n",
    "            # label the mask into connected regions\n",
    "            mask_labels = label(cylinder_image)\n",
    "            mask_props = regionprops(mask_labels)\n",
    "\n",
    "            coords = mask_props[0].bbox\n",
    "\n",
    "            msk_subV = mask_props[0].image\n",
    "            img_subV = im_V[coords[0]:coords[3],coords[1]:coords[4],coords[2]:coords[-1]]\n",
    "            msk_subV_true = msk_V[coords[0]:coords[3],coords[1]:coords[4],coords[2]:coords[-1]]\n",
    "\n",
    "            \n",
    "            # the segmentation\n",
    "            water_mask = labels == labels[centroid[0],centroid[1],centroid[2]]\n",
    "            \n",
    "            # reconstruct the mask for each lesion using regionprops attributes\n",
    "            msk_image = np.zeros((msk_V.shape[0],msk_V.shape[1],msk_V.shape[2]),dtype=bool)\n",
    "            for coord in obj.coords:\n",
    "                msk_image[coord[0],coord[1],coord[2]] = True\n",
    "            \n",
    "            # calculate the lesion-specific IoU\n",
    "            all_IoU.append(np.count_nonzero(np.logical_and(water_mask,msk_image))/np.count_nonzero(np.logical_or(water_mask,msk_image)))\n",
    "\n",
    "            # update the whole watershed mask\n",
    "            water_whole = np.logical_or(water_whole,water_mask)\n",
    "\n",
    "        \n",
    "        # calculate the patient-specific IoU\n",
    "        all_backIoU.append(np.count_nonzero(np.logical_and(~water_whole,~msk_V))/np.count_nonzero(np.logical_or(~water_whole,~msk_V)))\n",
    "\n",
    "        \n",
    "    return all_IoU, all_backIoU, num_lesions_per_patient\n",
    "        \n",
    "\n",
    "# run the pipeline\n",
    "iou, bg_iou, num_l = segPipeline(all_images,all_masks)"
   ]
  },
  {
   "cell_type": "code",
   "execution_count": 5,
   "metadata": {},
   "outputs": [
    {
     "data": {
      "text/plain": [
       "[0.7816774658027358,\n",
       " 0.0002862477996909721,\n",
       " 9.586470162882943e-06,\n",
       " 0.4602272727272727,\n",
       " 9.336707721857641e-05,\n",
       " 0.6838477674557987,\n",
       " 1.662195398993042e-06,\n",
       " 1.2688080230020797e-05,\n",
       " 1.6682511136163597e-05,\n",
       " 3.266012743558788e-05,\n",
       " 1.9982326400849464e-06,\n",
       " 3.573762221690385e-06,\n",
       " 1.4948317249866234e-05,\n",
       " 6.26369077565089e-06,\n",
       " 8.780872823007417e-05,\n",
       " 0.6782317717506164,\n",
       " 4.2488094304874596e-07,\n",
       " 3.08739840790374e-06,\n",
       " 2.62846080672886e-06,\n",
       " 1.7106852963685989e-06,\n",
       " 1.7569200341082907e-06,\n",
       " 1.917439451356658e-06,\n",
       " 3.4553862300901343e-06,\n",
       " 5.792265934833173e-07]"
      ]
     },
     "execution_count": 5,
     "metadata": {},
     "output_type": "execute_result"
    }
   ],
   "source": [
    "iou"
   ]
  },
  {
   "cell_type": "code",
   "execution_count": 7,
   "metadata": {},
   "outputs": [
    {
     "data": {
      "text/plain": [
       "[0.9998717630716195,\n",
       " 0.2722985717071884,\n",
       " 0.25808026450020927,\n",
       " 0.30484152829498673,\n",
       " 0.8779310068689791,\n",
       " 0.25361013770999763,\n",
       " 0.628368824925916,\n",
       " 0.31253992525258456,\n",
       " 0.3554127514362335,\n",
       " 0.310507075450911]"
      ]
     },
     "execution_count": 7,
     "metadata": {},
     "output_type": "execute_result"
    }
   ],
   "source": [
    "bg_iou"
   ]
  },
  {
   "cell_type": "code",
   "execution_count": 6,
   "metadata": {},
   "outputs": [],
   "source": [
    "# testing -- there are 4 lesions in this patient\n",
    "# im_V,img_d = nrrd.read(all_images[2])\n",
    "# msk_V,msk_d = nrrd.read(all_masks[2])\n",
    "\n",
    "# lesion_labels,num_lesions = label(msk_V,return_num=True)\n",
    "# lesion_props = regionprops(lesion_labels)"
   ]
  },
  {
   "cell_type": "code",
   "execution_count": 7,
   "metadata": {
    "scrolled": true
   },
   "outputs": [],
   "source": [
    "# further testing -- build mask of 1st lesion using regionprops information\n",
    "# msk_image = np.zeros((msk_V.shape[0],msk_V.shape[1],msk_V.shape[2]),dtype=bool)\n",
    "\n",
    "# for coord in lesion_props[0].coords:\n",
    "#     msk_image[coord[0],coord[1],coord[2]] = True\n",
    "    \n",
    "# isv(msk_image)"
   ]
  },
  {
   "cell_type": "code",
   "execution_count": 10,
   "metadata": {},
   "outputs": [
    {
     "name": "stdout",
     "output_type": "stream",
     "text": [
      "(359.9256946393489, 344.7133735616054, 183.6581532416503)\n"
     ]
    },
    {
     "data": {
      "application/vnd.jupyter.widget-view+json": {
       "model_id": "9e5a8f264d25480ab035923546810846",
       "version_major": 2,
       "version_minor": 0
      },
      "text/plain": [
       "interactive(children=(RadioButtons(description='Slice plane selection:', options=('x-y', 'y-z', 'z-x'), style=…"
      ]
     },
     "metadata": {},
     "output_type": "display_data"
    },
    {
     "data": {
      "text/plain": [
       "<scripts.ImageSliceViewer3D.ImageSliceViewer3D at 0x11bfbbca0>"
      ]
     },
     "execution_count": 10,
     "metadata": {},
     "output_type": "execute_result"
    }
   ],
   "source": [
    "im_V,img_d = nrrd.read(all_images[1])\n",
    "msk_V,msk_d = nrrd.read(all_masks[1])\n",
    "\n",
    "lesion_labels,num_lesions = label(msk_V,return_num=True)\n",
    "lesion_props = regionprops(lesion_labels)\n",
    "\n",
    "# further testing -- build mask of 1st lesion using regionprops information\n",
    "# msk_image = np.zeros((msk_V.shape[0],msk_V.shape[1],msk_V.shape[2]),dtype=bool)\n",
    "\n",
    "# for coord in lesion_props[0].coords:\n",
    "#     msk_image[coord[0],coord[1],coord[2]] = True\n",
    "print(lesion_props[0].centroid)  \n",
    "isv(im_V)"
   ]
  },
  {
   "cell_type": "code",
   "execution_count": null,
   "metadata": {},
   "outputs": [],
   "source": []
  }
 ],
 "metadata": {
  "kernelspec": {
   "display_name": "Python 3 (ipykernel)",
   "language": "python",
   "name": "python3"
  },
  "language_info": {
   "codemirror_mode": {
    "name": "ipython",
    "version": 3
   },
   "file_extension": ".py",
   "mimetype": "text/x-python",
   "name": "python",
   "nbconvert_exporter": "python",
   "pygments_lexer": "ipython3",
   "version": "3.9.7"
  },
  "toc": {
   "base_numbering": 1,
   "nav_menu": {},
   "number_sections": true,
   "sideBar": true,
   "skip_h1_title": false,
   "title_cell": "Table of Contents",
   "title_sidebar": "Contents",
   "toc_cell": false,
   "toc_position": {},
   "toc_section_display": true,
   "toc_window_display": false
  }
 },
 "nbformat": 4,
 "nbformat_minor": 4
}
