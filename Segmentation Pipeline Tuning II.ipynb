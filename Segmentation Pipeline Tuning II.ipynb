{
 "cells": [
  {
   "cell_type": "code",
   "execution_count": 1,
   "metadata": {},
   "outputs": [],
   "source": [
    "# imports\n",
    "import os\n",
    "from skimage.measure import label,regionprops\n",
    "from skimage.morphology import binary_opening, erosion, dilation, ball\n",
    "from skimage.segmentation import watershed\n",
    "from scipy import ndimage\n",
    "from sklearn.mixture import BayesianGaussianMixture\n",
    "from skimage.morphology import opening, closing, ball\n",
    "from skimage.filters import gaussian\n",
    "import numpy as np\n",
    "import nrrd\n",
    "from skimage.segmentation import morphological_geodesic_active_contour as gac\n",
    "from skimage.segmentation import inverse_gaussian_gradient as igg\n",
    "from scipy.ndimage.morphology import binary_fill_holes\n",
    "from scipy.stats import entropy\n",
    "# from scripts.ImageSliceViewer3D import ImageSliceViewer3D as isv "
   ]
  },
  {
   "cell_type": "code",
   "execution_count": 2,
   "metadata": {},
   "outputs": [],
   "source": [
    "''' \n",
    "SUPPLEMENTARY FUNCTION : createSubVolumes\n",
    "This function isolates the sub-volume of the image that we are interested in. \n",
    "This way, we can perform operations only on the pixels containing lesion and surrounding pixels (executes faster).\n",
    "    \n",
    "    INPUT:\n",
    "            image         - the original CT volume;\n",
    "            image_dict    - dictionary with CT metadata;\n",
    "            mask          - the original mask with radiologist-defined ROIs;\n",
    "            lprop         - regionprops object for the user-defined start point.\n",
    "            \n",
    "    OUTPUT:\n",
    "            cylinder_subV - cylinder mask, which occupies same space as both image and mask sub-volumes;\n",
    "            image_subV    - image sub-volume, which contains lesion plus surrounding voxels;\n",
    "            mask_subV     - ground truth labels, which occupies same space as both image and cylinder sub-volumes.\n",
    "            \n",
    "'''\n",
    "\n",
    "def createSubVolumes(image,image_dict,mask,lprop):\n",
    "    \n",
    "    # construct cylinder_image\n",
    "    bbox = lprop.bbox  \n",
    "    bbox_dims = [bbox[3]-bbox[0],bbox[4]-bbox[1],bbox[-1]-bbox[2]]\n",
    "    \n",
    "    # take a circle with radius larger than bounding box\n",
    "#   R = bbox_dims[0]/2 + bbox_dims[1]/2  \n",
    "    R = max(bbox_dims)*5/8       \n",
    "    \n",
    "    # isolate the centroid of the nodule -- this will be our preliminary marker \n",
    "    j,i,k = [round(i) for i in lprop.centroid] \n",
    "\n",
    "    circle_mask = np.zeros((image.shape[0],image.shape[1]),dtype=bool)\n",
    "    num_rows,num_cols = circle_mask.shape\n",
    "\n",
    "    row,col = np.meshgrid(range(num_rows),range(num_cols))\n",
    "    circle_mask[((row-i)**2+(col-j)**2)<R**2] = True\n",
    "            \n",
    "    # now we have the initial contour (that will theoretically be user-defined for the clinical dataset)\n",
    "    # next step: extend the circle in both superior and inferior directions to obtain a cylinder\n",
    "\n",
    "    # determine the number of slices required in the z direction for full coverage\n",
    "    num_slices = int(np.ceil((float(image_dict['pixel_spacing']) * R) / float(image_dict['slice_thickness'])/2))\n",
    "\n",
    "    cylinder_image = np.zeros((image.shape[0],image.shape[1],image.shape[2]),dtype=bool)\n",
    "\n",
    "    for i in range(k-num_slices,k+num_slices+1):\n",
    "        cylinder_image[:,:,i] = circle_mask\n",
    "                \n",
    "    # label the mask into connected regions\n",
    "    mask_labels = label(cylinder_image)\n",
    "    mask_props = regionprops(mask_labels)\n",
    "\n",
    "    coords = mask_props[0].bbox\n",
    "\n",
    "    cylinder_subV = mask_props[0].image\n",
    "    image_subV = image[coords[0]:coords[3],coords[1]:coords[4],coords[2]:coords[-1]]\n",
    "    mask_subV = mask[coords[0]:coords[3],coords[1]:coords[4],coords[2]:coords[-1]]\n",
    "    \n",
    "    return cylinder_subV,image_subV,mask_subV,R"
   ]
  },
  {
   "cell_type": "code",
   "execution_count": 3,
   "metadata": {},
   "outputs": [],
   "source": [
    "''' \n",
    "SUPPLEMENTARY FUNCTION : determineThreshold\n",
    "This function determines a threshold separating candidate lesion voxels from surrounding lung paremchyma. \n",
    "It leverages the BayesianGaussianMixture functionality from sklearn. \n",
    "Since the pre-defined sub-volume contains both lesion and lung parenchyma pixels, density distribution \n",
    "of the pixels could be modeled by two Gaussian distributions: P(x|lesion) and P(x|parenchyma), \n",
    "where x was the pixel density. The mean values and variations of the two Gaussian distributions were \n",
    "then estimated by the expectation-maximization method.\n",
    "    \n",
    "    INPUT:\n",
    "            image_subV    - the CT sub-volume;\n",
    "            cylinder_subV - cylinder mask occupying the same space as the image_subV.\n",
    "            \n",
    "    OUTPUT:\n",
    "            threshold     - floating point threshold (anything above this threshold is a candidate lesion voxel)\n",
    "                     \n",
    "'''\n",
    "\n",
    "def determineThreshold(image_subV,cylinder_subV):\n",
    "    \n",
    "    # isolate the intensities within the cylinder\n",
    "    intensities = image_subV[cylinder_subV]\n",
    "\n",
    "    hist, bin_edges = np.histogram(intensities, bins=60)\n",
    "    bin_centers = 0.5*(bin_edges[:-1] + bin_edges[1:])\n",
    "\n",
    "    classif = BayesianGaussianMixture(n_components=2)\n",
    "    classif.fit(intensities.reshape(-1,1))\n",
    "\n",
    "    return np.mean(classif.means_)"
   ]
  },
  {
   "cell_type": "code",
   "execution_count": 4,
   "metadata": {},
   "outputs": [],
   "source": [
    "# lists of image/mask files\n",
    "img_path = './data/images'\n",
    "msk_path = './data/masks'\n",
    "\n",
    "# img_path = '/Users/EL-CAPITAN-2016/OneDrive - University of Toronto/LIDC-IDRI/images'\n",
    "# msk_path = '/Users/EL-CAPITAN-2016/OneDrive - University of Toronto/LIDC-IDRI/masks'\n",
    "\n",
    "all_images = sorted([os.path.join(img_path,f) for f in os.listdir(img_path) if 'nrrd' in f])\n",
    "all_masks = sorted([os.path.join(msk_path,f) for f in os.listdir(msk_path) if 'nrrd' in f])"
   ]
  },
  {
   "cell_type": "code",
   "execution_count": 5,
   "metadata": {},
   "outputs": [
    {
     "name": "stderr",
     "output_type": "stream",
     "text": [
      "/Users/EL-CAPITAN-2016/anaconda2/envs/spyder/lib/python3.8/site-packages/sklearn/mixture/_base.py:265: ConvergenceWarning: Initialization 1 did not converge. Try different init parameters, or increase max_iter, tol or check for degenerate data.\n",
      "  warnings.warn('Initialization %d did not converge. '\n",
      "/Users/EL-CAPITAN-2016/anaconda2/envs/spyder/lib/python3.8/site-packages/sklearn/mixture/_base.py:265: ConvergenceWarning: Initialization 1 did not converge. Try different init parameters, or increase max_iter, tol or check for degenerate data.\n",
      "  warnings.warn('Initialization %d did not converge. '\n"
     ]
    }
   ],
   "source": [
    "# first pass of segmentation pipeline\n",
    "def segPipeline(imgList,mskList):\n",
    "    \n",
    "    # initialize lists for segmentation accuracy\n",
    "    IoU_water = []\n",
    "    IoU_actC = []\n",
    "    IoU_actCplusWS = []\n",
    "    IoU_backWS = []\n",
    "    IoU_backWA = []\n",
    "    IoU_backAC = []\n",
    "    num_lesions_per_patient = []\n",
    "    patient_index = []\n",
    "    mean_intensities = []\n",
    "    mean_intensities_gradient = []\n",
    "    entropy_gradient = []\n",
    "    dice_water = []\n",
    "    dice_actC = []\n",
    "    \n",
    "    for i in range(len(imgList)):\n",
    "        \n",
    "        # read image and corresponding mask\n",
    "        img_V,img_d = nrrd.read(imgList[i])\n",
    "        msk_V,msk_d = nrrd.read(mskList[i])\n",
    "        \n",
    "        # if the image and mask do not have the same size, do not process\n",
    "        if not (img_d['sizes'] == msk_d['sizes']).all():\n",
    "            print('ERROR, {}: image and mask must be of the same size'.format(imgList[i]))\n",
    "            continue\n",
    "            \n",
    "        # label the mask into connected regions\n",
    "        lesion_labels,num_lesions = label(msk_V,return_num=True)\n",
    "        lesion_props = regionprops(lesion_labels)\n",
    "        \n",
    "        num_lesions_per_patient.append(num_lesions)\n",
    "        \n",
    "        # for every lesion in the mask\n",
    "        for obj in lesion_props:\n",
    "            \n",
    "            patient_index.append(i)\n",
    "            \n",
    "            # create the sub-volume of interest within the CT volume\n",
    "            cyl_subV,img_subV,msk_subV,R = createSubVolumes(img_V,img_d,msk_V,obj)\n",
    "            \n",
    "            # calculate threshold using EM\n",
    "            threshold = determineThreshold(img_subV,cyl_subV)\n",
    "\n",
    "            binary_img = np.logical_and(np.logical_and(img_subV > threshold,img_subV > -850),img_subV < 200)\n",
    "            binary_img[~msk_subV] = False\n",
    "            binary_img_centroid = closing(opening(binary_img,ball(radius=int(0.1*R))),ball(radius=int(0.1*R)))\n",
    "            avg_intensity = np.mean(img_subV[binary_img])\n",
    "            mean_intensities.append(avg_intensity)\n",
    "            \n",
    "            # label the cylinder sub-volume into connected regions\n",
    "            cyl_subV_labels = label(cyl_subV)\n",
    "            cyl_subV_props = regionprops(cyl_subV_labels)\n",
    "\n",
    "            # coordinates for the user-defined lesion centroid\n",
    "            cyl_j,cyl_i,cyl_k = [round(i) for i in cyl_subV_props[0].centroid]\n",
    "            \n",
    "            # construct a marker image for the watershed\n",
    "            marker_image = np.zeros((img_subV.shape[0],img_subV.shape[1],img_subV.shape[2]),dtype=np.uint8)\n",
    "            marker_image[~binary_img] = 2         # background/lung parenchyma voxels\n",
    "            marker_image[cyl_j,cyl_i,cyl_k] = 1   # user-defined lesion centroid\n",
    "\n",
    "            # denoise image sub-volume\n",
    "            denoised = gaussian(img_subV,multichannel=False)\n",
    "\n",
    "            # try some funky stuff\n",
    "            max_image = dilation(denoised,ball(2))\n",
    "            min_image = erosion(denoised,ball(2))\n",
    "\n",
    "            gradient_image = max_image - min_image\n",
    "            gradient_image[~msk_subV] = np.min(gradient_image)\n",
    "            \n",
    "            mean_intensities_gradient.append(np.mean(gradient_image[binary_img]))\n",
    "            ent_gradient = entropy(gradient_image[binary_img])\n",
    "            entropy_gradient.append(ent_gradient)\n",
    "            \n",
    "#             if avg_intensity < -150: #np.logical_or(ent_gradient<3,ent_gradient>9):\n",
    "#                 gradient_image = 1 - gradient_image\n",
    "#                 gradient_image = 1 - (gradient_image - np.min(gradient_image))/(np.max(gradient_image)-np.min(gradient_image))\n",
    "                \n",
    "    \n",
    "            # create distance matrix for the 3D bowl function\n",
    "            row,col,slc = np.meshgrid(range(gradient_image.shape[0]),range(gradient_image.shape[1]),range(gradient_image.shape[2]))\n",
    "            dist_matrix = np.sqrt((round(cyl_j) - row)**2 + (round(cyl_i) - col)**2 + ((round(cyl_k) - slc) * float(msk_d['slice_thickness']))**2)\n",
    "            dist_matrix[dist_matrix>=R] = R\n",
    "            dist_matrix = dist_matrix / R\n",
    "            \n",
    "            # modify the gradient image for watershed\n",
    "            mod_gradient = gradient_image * dist_matrix\n",
    "            \n",
    "            # perform watershed segmentation\n",
    "            water_initial = ~watershed(gradient_image,marker_image,connectivity=2)\n",
    "            water_initial_mod = ~watershed(mod_gradient, marker_image,connectivity=2)\n",
    "            \n",
    "            # label the watershed mask into connected regions\n",
    "            water_labels = label(water_initial_mod,background = np.min(water_initial_mod))\n",
    "            water_props = regionprops(water_labels)\n",
    "            \n",
    "            # find the smallest region\n",
    "            water_areas = [water_props[i].area for i in range(len(water_props))]\n",
    "            ind = np.where(water_areas == np.min(water_areas))\n",
    "\n",
    "            # create the mask\n",
    "            water_mask = water_labels == water_props[ind[0][0]].label\n",
    "\n",
    "#             equiv_R = round(water_props[ind[0][0]].equivalent_diameter * 0.15)\n",
    "\n",
    "#             water_mask_open = binary_opening(water_mask,ball(radius = equiv_R))\n",
    "            \n",
    "            # FINALLY this initial segmentation is fed into the active contours function for further refinement\n",
    "            refined_mask = gac(igg(img_subV), iterations = 1, init_level_set=water_mask, threshold = 0.5)\n",
    "            ac_mask = gac(igg(img_subV), iterations = 1, init_level_set=binary_img, threshold = 0.5)\n",
    "            \n",
    "            # fill any holes in the final mask result (unlikely, but you never know)\n",
    "            refined_mask = binary_fill_holes(refined_mask)\n",
    "            ac_refined_mask = binary_fill_holes(ac_mask)\n",
    "\n",
    "            IoU_water.append(np.count_nonzero(np.logical_and(water_mask,msk_subV)) / np.count_nonzero(np.logical_or(water_mask,msk_subV)))\n",
    "            IoU_actCplusWS.append(np.count_nonzero(np.logical_and(refined_mask,msk_subV)) / np.count_nonzero(np.logical_or(refined_mask,msk_subV)))\n",
    "            IoU_actC.append(np.count_nonzero(np.logical_and(ac_refined_mask,msk_subV)) / np.count_nonzero(np.logical_or(ac_refined_mask,msk_subV)))\n",
    "            IoU_backWS.append(np.count_nonzero(np.logical_and(~water_mask,~msk_subV)) / np.count_nonzero(np.logical_or(~water_mask,~msk_subV)))\n",
    "            IoU_backWA.append(np.count_nonzero(np.logical_and(~refined_mask,~msk_subV)) / np.count_nonzero(np.logical_or(~refined_mask,~msk_subV)))\n",
    "            IoU_backAC.append(np.count_nonzero(np.logical_and(~ac_refined_mask,~msk_subV)) / np.count_nonzero(np.logical_or(~ac_refined_mask,~msk_subV)))\n",
    "            \n",
    "            \n",
    "            dice_water.append(np.sum(water_mask[msk_subV==True])*2.0 / (np.sum(water_mask) + np.sum(msk_subV)))\n",
    "            dice_actC.append(np.sum(refined_mask[msk_subV==True])*2.0 / (np.sum(refined_mask) + np.sum(msk_subV)))\n",
    "#         # calculate the patient-specific IoU\n",
    "#         all_backIoU.append(np.count_nonzero(np.logical_and(~water_whole,~msk_V))/np.count_nonzero(np.logical_or(~water_whole,~msk_V)))\n",
    "\n",
    "        \n",
    "    return IoU_water,IoU_actCplusWS,IoU_actC,IoU_backWS,IoU_backWA,IoU_backAC,num_lesions_per_patient,patient_index,mean_intensities,mean_intensities_gradient,entropy_gradient,dice_water,dice_actC\n",
    "        \n",
    "\n",
    "# run the pipeline\n",
    "IoU_water,IoU_actCplusWS,IoU_actC,IoU_backWS,IoU_backWA,IoU_backAC,num_lesions_per_patient,patient_index,mean_intensities,mean_intensities_gradient,entropy_gradient,dice_water,dice_actC = segPipeline(all_images,all_masks)"
   ]
  },
  {
   "cell_type": "code",
   "execution_count": 6,
   "metadata": {},
   "outputs": [
    {
     "data": {
      "text/plain": [
       "0.6095109444680777"
      ]
     },
     "execution_count": 6,
     "metadata": {},
     "output_type": "execute_result"
    }
   ],
   "source": [
    "all_IoU_AC = (np.array(IoU_actC) + np.array(IoU_backAC))/2\n",
    "np.mean(all_IoU_AC)"
   ]
  },
  {
   "cell_type": "code",
   "execution_count": 7,
   "metadata": {},
   "outputs": [
    {
     "data": {
      "text/plain": [
       "0.6803662387208534"
      ]
     },
     "execution_count": 7,
     "metadata": {},
     "output_type": "execute_result"
    }
   ],
   "source": [
    "all_IoU_WS = (np.array(IoU_water) + np.array(IoU_backWS))/2\n",
    "np.mean(all_IoU_WS)"
   ]
  },
  {
   "cell_type": "code",
   "execution_count": 8,
   "metadata": {},
   "outputs": [
    {
     "data": {
      "text/plain": [
       "0.6285250110140269"
      ]
     },
     "execution_count": 8,
     "metadata": {},
     "output_type": "execute_result"
    }
   ],
   "source": [
    "all_IoU_WSplusAC = (np.array(IoU_actCplusWS) + np.array(IoU_backWA))/2\n",
    "np.mean(all_IoU_WSplusAC)"
   ]
  },
  {
   "cell_type": "code",
   "execution_count": 9,
   "metadata": {},
   "outputs": [
    {
     "data": {
      "text/plain": [
       "(-0.1976874984991055, 0.11159131393969471)"
      ]
     },
     "execution_count": 9,
     "metadata": {},
     "output_type": "execute_result"
    }
   ],
   "source": [
    "from scipy.stats.stats import pearsonr\n",
    "\n",
    "pearsonr(mean_intensities,IoU_actC)\n"
   ]
  },
  {
   "cell_type": "code",
   "execution_count": 27,
   "metadata": {
    "scrolled": true
   },
   "outputs": [
    {
     "data": {
      "image/png": "[encoded data removed]",
      "text/plain": [
       "<Figure size 432x288 with 3 Axes>"
      ]
     },
     "metadata": {
      "needs_background": "light"
     },
     "output_type": "display_data"
    }
   ],
   "source": [
    "import matplotlib.pyplot as plt\n",
    "\n",
    "fig, axes = plt.subplots(nrows=1,ncols=3,sharey=True)\n",
    "axes[0].hist(all_IoU_WS)\n",
    "# axes[0].set_title('Watershed')\n",
    "axes[0].set_xlabel('IoU')\n",
    "axes[0].set_ylabel('Number of Lesions')\n",
    "axes[1].hist(all_IoU_AC)\n",
    "# axes[1].set_title('Active Contour')\n",
    "axes[1].set_xlabel('IoU')\n",
    "axes[2].hist(all_IoU_WSplusAC)\n",
    "# axes[2].set_title('Watershed plus Active Contour')\n",
    "axes[2].set_xlabel('IoU')\n",
    "\n",
    "plt.subplots_adjust(wspace=0.1, hspace=0.3, top=1, bottom=0.5, left=0, right=1)\n",
    "# fig.tight_layout()"
   ]
  },
  {
   "cell_type": "code",
   "execution_count": 11,
   "metadata": {},
   "outputs": [
    {
     "data": {
      "text/plain": [
       "Text(0, 0.5, 'Avg. IoU')"
      ]
     },
     "execution_count": 11,
     "metadata": {},
     "output_type": "execute_result"
    },
    {
     "data": {
      "image/png": "[encoded data removed]",
      "text/plain": [
       "<Figure size 432x288 with 1 Axes>"
      ]
     },
     "metadata": {
      "needs_background": "light"
     },
     "output_type": "display_data"
    }
   ],
   "source": [
    "plt.scatter(entropy_gradient,all_IoU_WS)\n",
    "plt.xlabel('Avg. Intensity of Voxels > Bayesian Threshold')\n",
    "plt.ylabel('Avg. IoU')"
   ]
  },
  {
   "cell_type": "code",
   "execution_count": 12,
   "metadata": {},
   "outputs": [
    {
     "data": {
      "text/plain": [
       "66"
      ]
     },
     "execution_count": 12,
     "metadata": {},
     "output_type": "execute_result"
    }
   ],
   "source": [
    "sum(num_lesions_per_patient)"
   ]
  },
  {
   "cell_type": "code",
   "execution_count": 13,
   "metadata": {},
   "outputs": [
    {
     "data": {
      "text/plain": [
       "[0.013795232110752462,\n",
       " 0.009078710026186645,\n",
       " 0.015850235625835808,\n",
       " 0.013546828788888698,\n",
       " 0.008002433408362203,\n",
       " 0.012939766125621116,\n",
       " 0.023211095322344538,\n",
       " 0.012166539354134824,\n",
       " 0.008643839118727783,\n",
       " 0.008384314751959452,\n",
       " 0.008147052883136151,\n",
       " 0.007939482818032306,\n",
       " 0.01143822325521846,\n",
       " 0.011881347621418459,\n",
       " 0.012979862799354251,\n",
       " 0.016637698390080318,\n",
       " 0.016662091018221237,\n",
       " 0.008718206380107866,\n",
       " 0.008047415349859768,\n",
       " 0.013748758840541397,\n",
       " 0.02081448860969531,\n",
       " 0.012412919181903282,\n",
       " 0.01574158780816343,\n",
       " 0.01017680060802046,\n",
       " 0.009151838275673323,\n",
       " 0.01235729707173432,\n",
       " 0.022009583799467918,\n",
       " 0.02072656737027197,\n",
       " 0.03196464084001398,\n",
       " 0.018493613278763872,\n",
       " 0.014096871895056734,\n",
       " 0.017273138864339233,\n",
       " 0.019498232929909178,\n",
       " 0.018007866556248718,\n",
       " 0.012240552623307345,\n",
       " 0.00998683761910908,\n",
       " 0.012269121071264533,\n",
       " 0.012575505150778087,\n",
       " 0.012568156733250133,\n",
       " 0.0129469225788403,\n",
       " 0.0167056610151428,\n",
       " 0.01011987718063368,\n",
       " 0.01105580442427389,\n",
       " 0.01521655397313529,\n",
       " 0.010187021236288403,\n",
       " 0.010830322896060507,\n",
       " 0.015387184399504308,\n",
       " 0.01684204372802047,\n",
       " 0.013821135919207693,\n",
       " 0.01253478023863507,\n",
       " 0.010677016792305651,\n",
       " 0.013272839456290366,\n",
       " 0.009241949786474628,\n",
       " 0.01403237616389215,\n",
       " 0.012311288928113449,\n",
       " 0.013422250525843232,\n",
       " 0.0029330939061859144,\n",
       " 0.01597482874187352,\n",
       " 0.012781484587402138,\n",
       " 0.015032382356620284,\n",
       " 0.01574202652023728,\n",
       " 0.01606319081001255,\n",
       " 0.01061762654536769,\n",
       " 0.01762683078698446,\n",
       " 0.009813531079564761,\n",
       " 0.005007844142257019]"
      ]
     },
     "execution_count": 13,
     "metadata": {},
     "output_type": "execute_result"
    }
   ],
   "source": [
    "# ALTERNATIVE EVALUATION METRIC : DICE COEFFICIENT\n",
    "# seg = water_mask\n",
    "# dice = np.sum(seg[msk_subV_true==True])*2.0 / (np.sum(seg) + np.sum(msk_subV_true))\n",
    "# dice\n",
    "mean_intensities_gradient"
   ]
  },
  {
   "cell_type": "code",
   "execution_count": 14,
   "metadata": {},
   "outputs": [
    {
     "data": {
      "text/plain": [
       "[-85.13180008845643,\n",
       " -50.754500716377,\n",
       " -290.36708860759495,\n",
       " -179.10318471337578,\n",
       " -544.0912667191188,\n",
       " -200.5233695652174,\n",
       " -180.02325581395348,\n",
       " -138.03333333333333,\n",
       " -500.7536231884058,\n",
       " -472.49295774647885,\n",
       " -489.4578313253012,\n",
       " -483.75,\n",
       " -441.4274193548387,\n",
       " -318.9637305699482,\n",
       " 4.975468331846566,\n",
       " -108.38137774413323,\n",
       " 65.73333333333333,\n",
       " -469.5037037037037,\n",
       " -537.3833333333333,\n",
       " -356.0240963855422,\n",
       " -177.67142857142858,\n",
       " -360.03846153846155,\n",
       " -297.2318181818182,\n",
       " -278.6756756756757,\n",
       " -279.2,\n",
       " -305.74626865671644,\n",
       " -141.325,\n",
       " 119.9,\n",
       " -56.470588235294116,\n",
       " -81.9090909090909,\n",
       " -296.01462765957444,\n",
       " -164.20816326530613,\n",
       " -168.33333333333334,\n",
       " -101.95652173913044,\n",
       " -117.93518518518519,\n",
       " -323.93548387096774,\n",
       " -243.1761006289308,\n",
       " -286.1666666666667,\n",
       " -262.44615384615383,\n",
       " -358.6792452830189,\n",
       " -220.78021978021977,\n",
       " -347.36842105263156,\n",
       " -348.8448275862069,\n",
       " -147.57823129251702,\n",
       " -309.0,\n",
       " -290.1,\n",
       " -362.04567736185385,\n",
       " -92.60304054054055,\n",
       " -337.3851851851852,\n",
       " -137.3546511627907,\n",
       " -114.73749237339841,\n",
       " -236.50531914893617,\n",
       " -496.6111111111111,\n",
       " -265.9952606635071,\n",
       " -346.83006797281087,\n",
       " -430.27272727272725,\n",
       " -639.8979591836735,\n",
       " -200.2,\n",
       " -357.43356643356645,\n",
       " -191.54666666666665,\n",
       " -347.4237288135593,\n",
       " -169.44578313253012,\n",
       " -70.19442141222514,\n",
       " -246.2155172413793,\n",
       " -46.56608417425548,\n",
       " -160.4]"
      ]
     },
     "execution_count": 14,
     "metadata": {},
     "output_type": "execute_result"
    }
   ],
   "source": [
    "mean_intensities"
   ]
  },
  {
   "cell_type": "code",
   "execution_count": 15,
   "metadata": {},
   "outputs": [
    {
     "data": {
      "text/plain": [
       "1.9116070438832093"
      ]
     },
     "execution_count": 15,
     "metadata": {},
     "output_type": "execute_result"
    }
   ],
   "source": [
    "np.std(entropy_gradient)"
   ]
  },
  {
   "cell_type": "code",
   "execution_count": 16,
   "metadata": {},
   "outputs": [
    {
     "data": {
      "text/plain": [
       "1.4793498034141384"
      ]
     },
     "execution_count": 16,
     "metadata": {},
     "output_type": "execute_result"
    }
   ],
   "source": [
    "np.mean(entropy_gradient) - 2 * np.std(entropy_gradient)"
   ]
  },
  {
   "cell_type": "code",
   "execution_count": 17,
   "metadata": {},
   "outputs": [
    {
     "data": {
      "text/plain": [
       "[0.8930241621200312,\n",
       " 0.00045847023764040653,\n",
       " 0.0,\n",
       " 0.8734756097560976,\n",
       " 0.5469031097404267,\n",
       " 0.8502610746168099,\n",
       " 0.3218390804597701,\n",
       " 0.0,\n",
       " 0.8702290076335878,\n",
       " 0.8352490421455939,\n",
       " 0.6666666666666666,\n",
       " 0.7771428571428571,\n",
       " 0.0,\n",
       " 0.8263473053892215,\n",
       " 0.7330049261083744,\n",
       " 0.38197289631263787,\n",
       " 0.42105263157894735,\n",
       " 0.7419354838709677,\n",
       " 0.8256880733944955,\n",
       " 0.6976744186046512,\n",
       " 0.628099173553719,\n",
       " 0.8,\n",
       " 0.0,\n",
       " 0.6666666666666666,\n",
       " 0.0,\n",
       " 0.7128712871287128,\n",
       " 0.15151515151515152,\n",
       " 0.18867924528301888,\n",
       " 0.03125,\n",
       " 0.2,\n",
       " 0.056925996204933584,\n",
       " 0.8729792147806005,\n",
       " 0.25,\n",
       " 0.7964601769911505,\n",
       " 0.3384615384615385,\n",
       " 0.5858585858585859,\n",
       " 0.8304498269896193,\n",
       " 0.7175572519083969,\n",
       " 0.9047619047619048,\n",
       " 0.7920792079207921,\n",
       " 0.7638190954773869,\n",
       " 0.7058823529411765,\n",
       " 0.676056338028169,\n",
       " 0.9191111111111111,\n",
       " 0.0,\n",
       " 0.45,\n",
       " 0.0,\n",
       " 0.7318932655654383,\n",
       " 0.7058823529411765,\n",
       " 0.9365656565656566,\n",
       " 0.7612443417124145,\n",
       " 0.8510288065843621,\n",
       " 0.8398950131233596,\n",
       " 0.8945454545454545,\n",
       " 0.8009950248756219,\n",
       " 0.8075117370892019,\n",
       " 0.0,\n",
       " 0.8184818481848185,\n",
       " 0.0,\n",
       " 0.8943248532289628,\n",
       " 0.7567567567567568,\n",
       " 0.8921306759810972,\n",
       " 0.3582291314633322,\n",
       " 0.821917808219178,\n",
       " 0.7582963156519467,\n",
       " 0.25]"
      ]
     },
     "execution_count": 17,
     "metadata": {},
     "output_type": "execute_result"
    }
   ],
   "source": [
    "dice_water"
   ]
  },
  {
   "cell_type": "code",
   "execution_count": 18,
   "metadata": {},
   "outputs": [],
   "source": [
    "HU = []\n",
    "for i in range(len(dice_water)):\n",
    "    if dice_water[i]<0.5:\n",
    "        HU.append(mean_intensities[i])"
   ]
  },
  {
   "cell_type": "code",
   "execution_count": 19,
   "metadata": {},
   "outputs": [
    {
     "data": {
      "text/plain": [
       "[-50.754500716377,\n",
       " -290.36708860759495,\n",
       " -180.02325581395348,\n",
       " -138.03333333333333,\n",
       " -441.4274193548387,\n",
       " -108.38137774413323,\n",
       " 65.73333333333333,\n",
       " -297.2318181818182,\n",
       " -279.2,\n",
       " -141.325,\n",
       " 119.9,\n",
       " -56.470588235294116,\n",
       " -81.9090909090909,\n",
       " -296.01462765957444,\n",
       " -168.33333333333334,\n",
       " -117.93518518518519,\n",
       " -309.0,\n",
       " -290.1,\n",
       " -362.04567736185385,\n",
       " -639.8979591836735,\n",
       " -357.43356643356645,\n",
       " -70.19442141222514,\n",
       " -160.4]"
      ]
     },
     "execution_count": 19,
     "metadata": {},
     "output_type": "execute_result"
    }
   ],
   "source": [
    "HU"
   ]
  },
  {
   "cell_type": "code",
   "execution_count": null,
   "metadata": {},
   "outputs": [],
   "source": []
  }
 ],
 "metadata": {
  "kernelspec": {
   "display_name": "Python 3 (ipykernel)",
   "language": "python",
   "name": "python3"
  },
  "language_info": {
   "codemirror_mode": {
    "name": "ipython",
    "version": 3
   },
   "file_extension": ".py",
   "mimetype": "text/x-python",
   "name": "python",
   "nbconvert_exporter": "python",
   "pygments_lexer": "ipython3",
   "version": "3.8.2"
  },
  "toc": {
   "base_numbering": 1,
   "nav_menu": {},
   "number_sections": true,
   "sideBar": true,
   "skip_h1_title": false,
   "title_cell": "Table of Contents",
   "title_sidebar": "Contents",
   "toc_cell": false,
   "toc_position": {},
   "toc_section_display": true,
   "toc_window_display": false
  }
 },
 "nbformat": 4,
 "nbformat_minor": 4
}
