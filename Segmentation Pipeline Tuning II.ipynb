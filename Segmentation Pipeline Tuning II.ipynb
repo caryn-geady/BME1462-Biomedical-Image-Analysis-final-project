{
 "cells": [
  {
   "cell_type": "code",
   "execution_count": 35,
   "metadata": {},
   "outputs": [],
   "source": [
    "# imports\n",
    "import os\n",
    "from skimage.measure import label,regionprops\n",
    "from skimage.morphology import binary_opening, erosion, dilation, ball\n",
    "from skimage.segmentation import watershed\n",
    "from scipy import ndimage\n",
    "from sklearn.mixture import BayesianGaussianMixture\n",
    "from skimage.morphology import opening, closing, ball\n",
    "from skimage.filters import gaussian\n",
    "import numpy as np\n",
    "import nrrd\n",
    "from skimage.segmentation import morphological_geodesic_active_contour as gac\n",
    "from skimage.segmentation import inverse_gaussian_gradient as igg\n",
    "from scipy.ndimage.morphology import binary_fill_holes\n",
    "from scipy.stats import entropy\n",
    "\n",
    "# some_file.py\n",
    "import sys\n",
    "# insert at 1, 0 is the script path (or '' in REPL)\n",
    "sys.path.insert(1, './scripts')\n",
    "from ImageSliceViewer3D import ImageSliceViewer3D as isv "
   ]
  },
  {
   "cell_type": "code",
   "execution_count": 2,
   "metadata": {},
   "outputs": [],
   "source": [
    "''' \n",
    "SUPPLEMENTARY FUNCTION : createSubVolumes\n",
    "This function isolates the sub-volume of the image that we are interested in. \n",
    "This way, we can perform operations only on the pixels containing lesion and surrounding pixels (executes faster).\n",
    "    \n",
    "    INPUT:\n",
    "            image         - the original CT volume;\n",
    "            image_dict    - dictionary with CT metadata;\n",
    "            mask          - the original mask with radiologist-defined ROIs;\n",
    "            lprop         - regionprops object for the user-defined start point.\n",
    "            \n",
    "    OUTPUT:\n",
    "            cylinder_subV - cylinder mask, which occupies same space as both image and mask sub-volumes;\n",
    "            image_subV    - image sub-volume, which contains lesion plus surrounding voxels;\n",
    "            mask_subV     - ground truth labels, which occupies same space as both image and cylinder sub-volumes.\n",
    "            \n",
    "'''\n",
    "\n",
    "def createSubVolumes(image,image_dict,mask,lprop):\n",
    "    \n",
    "    # construct cylinder_image\n",
    "    bbox = lprop.bbox  \n",
    "    bbox_dims = [bbox[3]-bbox[0],bbox[4]-bbox[1],bbox[-1]-bbox[2]]\n",
    "    \n",
    "    # take a circle with radius larger than bounding box\n",
    "#   R = bbox_dims[0]/2 + bbox_dims[1]/2  \n",
    "    R = max(bbox_dims)*5/8       \n",
    "    \n",
    "    # isolate the centroid of the nodule -- this will be our preliminary marker \n",
    "    j,i,k = [round(i) for i in lprop.centroid] \n",
    "\n",
    "    circle_mask = np.zeros((image.shape[0],image.shape[1]),dtype=bool)\n",
    "    num_rows,num_cols = circle_mask.shape\n",
    "\n",
    "    row,col = np.meshgrid(range(num_rows),range(num_cols))\n",
    "    circle_mask[((row-i)**2+(col-j)**2)<R**2] = True\n",
    "            \n",
    "    # now we have the initial contour (that will theoretically be user-defined for the clinical dataset)\n",
    "    # next step: extend the circle in both superior and inferior directions to obtain a cylinder\n",
    "\n",
    "    # determine the number of slices required in the z direction for full coverage\n",
    "    num_slices = int(np.ceil((float(image_dict['pixel_spacing']) * R) / float(image_dict['slice_thickness'])/2))\n",
    "\n",
    "    cylinder_image = np.zeros((image.shape[0],image.shape[1],image.shape[2]),dtype=bool)\n",
    "\n",
    "    for i in range(k-num_slices,k+num_slices+1):\n",
    "        cylinder_image[:,:,i] = circle_mask\n",
    "                \n",
    "    # label the mask into connected regions\n",
    "    mask_labels = label(cylinder_image)\n",
    "    mask_props = regionprops(mask_labels)\n",
    "\n",
    "    coords = mask_props[0].bbox\n",
    "\n",
    "    cylinder_subV = mask_props[0].image\n",
    "    image_subV = image[coords[0]:coords[3],coords[1]:coords[4],coords[2]:coords[-1]]\n",
    "    mask_subV = mask[coords[0]:coords[3],coords[1]:coords[4],coords[2]:coords[-1]]\n",
    "    \n",
    "    return cylinder_subV,image_subV,mask_subV,R"
   ]
  },
  {
   "cell_type": "code",
   "execution_count": 3,
   "metadata": {},
   "outputs": [],
   "source": [
    "''' \n",
    "SUPPLEMENTARY FUNCTION : determineThreshold\n",
    "This function determines a threshold separating candidate lesion voxels from surrounding lung paremchyma. \n",
    "It leverages the BayesianGaussianMixture functionality from sklearn. \n",
    "Since the pre-defined sub-volume contains both lesion and lung parenchyma pixels, density distribution \n",
    "of the pixels could be modeled by two Gaussian distributions: P(x|lesion) and P(x|parenchyma), \n",
    "where x was the pixel density. The mean values and variations of the two Gaussian distributions were \n",
    "then estimated by the expectation-maximization method.\n",
    "    \n",
    "    INPUT:\n",
    "            image_subV    - the CT sub-volume;\n",
    "            cylinder_subV - cylinder mask occupying the same space as the image_subV.\n",
    "            \n",
    "    OUTPUT:\n",
    "            threshold     - floating point threshold (anything above this threshold is a candidate lesion voxel)\n",
    "                     \n",
    "'''\n",
    "\n",
    "def determineThreshold(image_subV,cylinder_subV):\n",
    "    \n",
    "    # isolate the intensities within the cylinder\n",
    "    intensities = image_subV[cylinder_subV]\n",
    "\n",
    "    hist, bin_edges = np.histogram(intensities, bins=60)\n",
    "    bin_centers = 0.5*(bin_edges[:-1] + bin_edges[1:])\n",
    "\n",
    "    classif = BayesianGaussianMixture(n_components=2)\n",
    "    classif.fit(intensities.reshape(-1,1))\n",
    "\n",
    "    return np.mean(classif.means_)"
   ]
  },
  {
   "cell_type": "code",
   "execution_count": 4,
   "metadata": {},
   "outputs": [],
   "source": [
    "# lists of image/mask files\n",
    "img_path = './data/images'\n",
    "msk_path = './data/masks'\n",
    "\n",
    "# img_path = '/Users/EL-CAPITAN-2016/OneDrive - University of Toronto/LIDC-IDRI/images'\n",
    "# msk_path = '/Users/EL-CAPITAN-2016/OneDrive - University of Toronto/LIDC-IDRI/masks'\n",
    "\n",
    "all_images = sorted([os.path.join(img_path,f) for f in os.listdir(img_path) if 'nrrd' in f])\n",
    "all_masks = sorted([os.path.join(msk_path,f) for f in os.listdir(msk_path) if 'nrrd' in f])"
   ]
  },
  {
   "cell_type": "code",
   "execution_count": 241,
   "metadata": {},
   "outputs": [
    {
     "name": "stderr",
     "output_type": "stream",
     "text": [
      "/Users/EL-CAPITAN-2016/anaconda2/envs/spyder/lib/python3.8/site-packages/sklearn/mixture/_base.py:265: ConvergenceWarning: Initialization 1 did not converge. Try different init parameters, or increase max_iter, tol or check for degenerate data.\n",
      "  warnings.warn('Initialization %d did not converge. '\n",
      "/Users/EL-CAPITAN-2016/anaconda2/envs/spyder/lib/python3.8/site-packages/sklearn/mixture/_base.py:265: ConvergenceWarning: Initialization 1 did not converge. Try different init parameters, or increase max_iter, tol or check for degenerate data.\n",
      "  warnings.warn('Initialization %d did not converge. '\n"
     ]
    }
   ],
   "source": [
    "# first pass of segmentation pipeline\n",
    "def segPipeline(imgList,mskList):\n",
    "    \n",
    "    # initialize lists for segmentation accuracy\n",
    "    IoU_water = []\n",
    "    IoU_actC = []\n",
    "    IoU_actCplusWS = []\n",
    "    IoU_backWS = []\n",
    "    IoU_backWA = []\n",
    "    IoU_backAC = []\n",
    "    num_lesions_per_patient = []\n",
    "    patient_index = []\n",
    "    mean_intensities = []\n",
    "    mean_intensities_gradient = []\n",
    "    entropy_gradient = []\n",
    "    dice_water = []\n",
    "    dice_actC = []\n",
    "\n",
    "    lst_images = []\n",
    "    lst_wsmasks = []\n",
    "    lst_acmasks = []\n",
    "    \n",
    "    \n",
    "    for i in range(len(imgList)):\n",
    "        \n",
    "        # read image and corresponding mask\n",
    "        img_V,img_d = nrrd.read(imgList[i])\n",
    "        msk_V,msk_d = nrrd.read(mskList[i])\n",
    "        \n",
    "        # if the image and mask do not have the same size, do not process\n",
    "        if not (img_d['sizes'] == msk_d['sizes']).all():\n",
    "            print('ERROR, {}: image and mask must be of the same size'.format(imgList[i]))\n",
    "            continue\n",
    "            \n",
    "        # label the mask into connected regions\n",
    "        lesion_labels,num_lesions = label(msk_V,return_num=True)\n",
    "        lesion_props = regionprops(lesion_labels)\n",
    "        \n",
    "        num_lesions_per_patient.append(num_lesions)\n",
    "        \n",
    "        # for every lesion in the mask\n",
    "        for obj in lesion_props:\n",
    "            \n",
    "            patient_index.append(i)\n",
    "            \n",
    "            # create the sub-volume of interest within the CT volume\n",
    "            cyl_subV,img_subV,msk_subV,R = createSubVolumes(img_V,img_d,msk_V,obj)\n",
    "            \n",
    "            # calculate threshold using EM\n",
    "            threshold = determineThreshold(img_subV,cyl_subV)\n",
    "\n",
    "            binary_img = np.logical_and(np.logical_and(img_subV > threshold,img_subV > -850),img_subV < 200)\n",
    "            binary_img[~msk_subV] = False\n",
    "            binary_img_centroid = closing(opening(binary_img,ball(radius=int(0.1*R))),ball(radius=int(0.1*R)))\n",
    "            avg_intensity = np.mean(img_subV[binary_img])\n",
    "            mean_intensities.append(avg_intensity)\n",
    "            \n",
    "            # label the cylinder sub-volume into connected regions\n",
    "            cyl_subV_labels = label(cyl_subV)\n",
    "            cyl_subV_props = regionprops(cyl_subV_labels)\n",
    "\n",
    "            # coordinates for the user-defined lesion centroid\n",
    "            cyl_j,cyl_i,cyl_k = [round(i) for i in cyl_subV_props[0].centroid]\n",
    "            \n",
    "            # construct a marker image for the watershed\n",
    "            marker_image = np.zeros((img_subV.shape[0],img_subV.shape[1],img_subV.shape[2]),dtype=np.uint8)\n",
    "            marker_image[~binary_img] = 2         # background/lung parenchyma voxels\n",
    "            marker_image[cyl_j,cyl_i,cyl_k] = 1   # user-defined lesion centroid\n",
    "\n",
    "            # denoise image sub-volume\n",
    "            denoised = gaussian(img_subV,multichannel=False)\n",
    "\n",
    "            # try some funky stuff\n",
    "            max_image = dilation(denoised,ball(2))\n",
    "            min_image = erosion(denoised,ball(2))\n",
    "\n",
    "            gradient_image = max_image - min_image\n",
    "            gradient_image[~msk_subV] = np.min(gradient_image)\n",
    "            \n",
    "            mean_intensities_gradient.append(np.mean(gradient_image[binary_img]))\n",
    "            ent_gradient = entropy(gradient_image[binary_img])\n",
    "            entropy_gradient.append(ent_gradient)\n",
    "            \n",
    "#             if avg_intensity < -150: #np.logical_or(ent_gradient<3,ent_gradient>9):\n",
    "#                 gradient_image = 1 - gradient_image\n",
    "#                 gradient_image = 1 - (gradient_image - np.min(gradient_image))/(np.max(gradient_image)-np.min(gradient_image))\n",
    "                \n",
    "    \n",
    "            # create distance matrix for the 3D bowl function\n",
    "            row,col,slc = np.meshgrid(range(gradient_image.shape[0]),range(gradient_image.shape[1]),range(gradient_image.shape[2]))\n",
    "            dist_matrix = np.sqrt((round(cyl_j) - row)**2 + (round(cyl_i) - col)**2 + ((round(cyl_k) - slc) * float(msk_d['slice_thickness']))**2)\n",
    "            dist_matrix[dist_matrix>=R] = R\n",
    "            dist_matrix = dist_matrix / R\n",
    "            \n",
    "            # modify the gradient image for watershed\n",
    "            mod_gradient = gradient_image * dist_matrix\n",
    "            \n",
    "            # perform watershed segmentation\n",
    "            water_initial = ~watershed(gradient_image,marker_image,connectivity=2)\n",
    "            water_initial_mod = ~watershed(mod_gradient, marker_image,connectivity=2)\n",
    "            \n",
    "            # label the watershed mask into connected regions\n",
    "            water_labels = label(water_initial_mod,background = np.min(water_initial_mod))\n",
    "            water_props = regionprops(water_labels)\n",
    "            \n",
    "            # find the smallest region\n",
    "            water_areas = [water_props[i].area for i in range(len(water_props))]\n",
    "            ind = np.where(water_areas == np.min(water_areas))\n",
    "\n",
    "            # create the mask\n",
    "            water_mask = water_labels == water_props[ind[0][0]].label\n",
    "\n",
    "#             equiv_R = round(water_props[ind[0][0]].equivalent_diameter * 0.15)\n",
    "\n",
    "#             water_mask_open = binary_opening(water_mask,ball(radius = equiv_R))\n",
    "            \n",
    "            # FINALLY this initial segmentation is fed into the active contours function for further refinement\n",
    "            refined_mask = gac(igg(img_subV), iterations = 1, init_level_set=water_mask, threshold = 0.5)\n",
    "            ac_mask = gac(igg(img_subV), iterations = 1, init_level_set=binary_img, threshold = 0.5)\n",
    "            \n",
    "            # fill any holes in the final mask result (unlikely, but you never know)\n",
    "            refined_mask = binary_fill_holes(refined_mask)\n",
    "            ac_refined_mask = binary_fill_holes(ac_mask)\n",
    "\n",
    "            lst_images.append(img_subV)\n",
    "            lst_wsmasks.append(water_mask)\n",
    "            lst_acmasks.append(refined_mask)\n",
    "\n",
    "            IoU_water.append(np.count_nonzero(np.logical_and(water_mask,msk_subV)) / np.count_nonzero(np.logical_or(water_mask,msk_subV)))\n",
    "            IoU_actCplusWS.append(np.count_nonzero(np.logical_and(refined_mask,msk_subV)) / np.count_nonzero(np.logical_or(refined_mask,msk_subV)))\n",
    "            IoU_actC.append(np.count_nonzero(np.logical_and(ac_refined_mask,msk_subV)) / np.count_nonzero(np.logical_or(ac_refined_mask,msk_subV)))\n",
    "            IoU_backWS.append(np.count_nonzero(np.logical_and(~water_mask,~msk_subV)) / np.count_nonzero(np.logical_or(~water_mask,~msk_subV)))\n",
    "            IoU_backWA.append(np.count_nonzero(np.logical_and(~refined_mask,~msk_subV)) / np.count_nonzero(np.logical_or(~refined_mask,~msk_subV)))\n",
    "            IoU_backAC.append(np.count_nonzero(np.logical_and(~ac_refined_mask,~msk_subV)) / np.count_nonzero(np.logical_or(~ac_refined_mask,~msk_subV)))\n",
    "            \n",
    "            \n",
    "            dice_water.append(np.sum(water_mask[msk_subV==True])*2.0 / (np.sum(water_mask) + np.sum(msk_subV)))\n",
    "            dice_actC.append(np.sum(refined_mask[msk_subV==True])*2.0 / (np.sum(refined_mask) + np.sum(msk_subV)))\n",
    "#         # calculate the patient-specific IoU\n",
    "#         all_backIoU.append(np.count_nonzero(np.logical_and(~water_whole,~msk_V))/np.count_nonzero(np.logical_or(~water_whole,~msk_V)))\n",
    "        \n",
<<<<<<< HEAD
    "    return IoU_water,IoU_actCplusWS,IoU_actC,IoU_backWS,IoU_backWA,IoU_backAC,num_lesions_per_patient,patient_index,mean_intensities,mean_intensities_gradient,entropy_gradient,dice_water,dice_actC\n",
    "        \n",
    "\n",
    "# run the pipeline\n",
    "IoU_water,IoU_actCplusWS,IoU_actC,IoU_backWS,IoU_backWA,IoU_backAC,num_lesions_per_patient,patient_index,mean_intensities,mean_intensities_gradient,entropy_gradient,dice_water,dice_actC = segPipeline(all_images,all_masks)"
=======
    "    return IoU_water,IoU_actC,IoU_backW,IoU_backA,num_lesions_per_patient,patient_index,mean_intensities,mean_intensities_gradient,entropy_gradient,dice_water,dice_actC, lst_images, lst_wsmasks, lst_acmasks\n",
    "        \n",
    "\n",
    "# run the pipeline\n",
    "IoU_water,IoU_actC,IoU_backW,IoU_backA,num_lesions_per_patient,patient_index,mean_intensities,mean_intensities_gradient,entropy_gradient,dice_water,dice_actC, images_lst, wsmasks_lst, acmask_lst = segPipeline(all_images,all_masks)"
   ]
  },
  {
   "cell_type": "code",
   "execution_count": 316,
   "metadata": {},
   "outputs": [
    {
     "name": "stderr",
     "output_type": "stream",
     "text": [
      "C:\\Users\\Andrew\\anaconda3\\lib\\site-packages\\numpy\\core\\_asarray.py:102: VisibleDeprecationWarning: Creating an ndarray from ragged nested sequences (which is a list-or-tuple of lists-or-tuples-or ndarrays with different lengths or shapes) is deprecated. If you meant to do this, you must specify 'dtype=object' when creating the ndarray.\n",
      "  return array(a, dtype, copy=False, order=order)\n"
     ]
    }
   ],
   "source": [
    "# creating masks of the different regions in the grayscale images to be used for analysis\n",
    "\n",
    "# Initializing the lists for the masks (binary masks and superimposition on original grayscales)\n",
    "\n",
    "msk_norm = wsmasks_lst.copy()\n",
    "msk_eroded = []\n",
    "msk_dilated = []\n",
    "img_norm = []\n",
    "img_eroded = []\n",
    "img_dilated = []\n",
    "img_rim = []\n",
    "img_core = []\n",
    "img_pv =[]\n",
    "\n",
    "# for each of our lesions\n",
    "for i in range(np.shape(msk_norm)[0]):\n",
    "\n",
    "    # create eroded and dilated versions of the mask\n",
    "    # not necessary to save them in list, but nice to have on hand\n",
    "    # maybe need to look at optimal erosion/dilation approach\n",
    "    msk_eroded.append(erosion(msk_norm[i],ball(2)))\n",
    "    msk_dilated.append(dilation(msk_norm[i],ball(2)))\n",
    "\n",
    "    # applying the mask on the original grayscale image\n",
    "    x = images_lst[i].copy()\n",
    "    x[msk_norm[i] == False] = False\n",
    "    img_norm.append(x)\n",
    "\n",
    "    # applying the eroded mask on the original graysclae image\n",
    "    y = images_lst[i].copy()\n",
    "    y[msk_eroded[i] == False] = False\n",
    "    img_eroded.append(y)\n",
    "\n",
    "    # applying the dilated mask on the original graysclae image\n",
    "    z = images_lst[i].copy()\n",
    "    z[msk_dilated[i] == False] = False\n",
    "    img_dilated.append(z)\n",
    "\n",
    "    # isolating the rim of the tumor (original mask - eroded mask)\n",
    "    xx = images_lst[i].copy()\n",
    "    msk_xx = msk_norm[i]^msk_eroded[i]\n",
    "    xx[msk_xx == False] = False\n",
    "    img_rim.append(xx)\n",
    "\n",
    "    # the core of the tumor is the same as applying the eroded mask on the original image\n",
    "    yy = images_lst[i].copy()\n",
    "    msk_yy = msk_eroded[i]\n",
    "    yy[msk_yy == False] = False\n",
    "    img_core.append(yy)\n",
    "\n",
    "    # isolating the perivascular regionr (dilated mask - original mask)\n",
    "    zz = images_lst[i].copy()\n",
    "    msk_zz = msk_dilated[i]^msk_norm[i]\n",
    "    zz[msk_zz == False] = False\n",
    "    img_pv.append(zz)\n",
    "\n",
    "# uncomment to visualize some of the results\n",
    "#isv(img_core[0])\n"
   ]
  },
  {
   "cell_type": "code",
   "execution_count": 323,
   "metadata": {},
   "outputs": [
    {
     "name": "stdout",
     "output_type": "stream",
     "text": [
      "The ANOVA p-value = 7.910325820758268e-15\n",
      "The paired t-test p-value = 7.996402249548681e-09\n"
     ]
    },
    {
     "name": "stderr",
     "output_type": "stream",
     "text": [
      "C:\\Users\\Andrew\\anaconda3\\lib\\site-packages\\numpy\\core\\_asarray.py:102: VisibleDeprecationWarning: Creating an ndarray from ragged nested sequences (which is a list-or-tuple of lists-or-tuples-or ndarrays with different lengths or shapes) is deprecated. If you meant to do this, you must specify 'dtype=object' when creating the ndarray.\n",
      "  return array(a, dtype, copy=False, order=order)\n"
     ]
    },
    {
     "data": {
      "image/png": "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",
      "text/plain": [
       "<Figure size 432x288 with 1 Axes>"
      ]
     },
     "metadata": {
      "needs_background": "light"
     },
     "output_type": "display_data"
    }
   ],
   "source": [
    "# Comparisons calculations that we could make\n",
    "\n",
    "import seaborn as sns\n",
    "import pandas as pd\n",
    "from scipy import stats\n",
    "\n",
    "# initialize dictionary for intensity values\n",
    "intensities = {'core':[],'rim':[],'pv':[]}\n",
    "\n",
    "# loop through each lesion mask and calculate the average intensity\n",
    "for i in range(np.shape(img_core)[0]):\n",
    "    intensities['core'].append(np.mean(img_core[i]))\n",
    "    intensities['rim'].append(np.mean(img_rim[i]))\n",
    "    intensities['pv'].append(np.mean(img_pv[i]))\n",
    "\n",
    "# visualizing the intensity distributions\n",
    "intensity_values = pd.DataFrame.from_dict(intensities)\n",
    "fig, ax = plt.subplots()\n",
    "ax = sns.boxplot(data=intensity_values)\n",
    "ax.set_title('Intensity values for each subregion')\n",
    "ax.set_xlabel('Subregion')\n",
    "ax.set_ylabel('Hounsfield scale')\n",
    "\n",
    "# ANOVA between the intensity calculations\n",
    "f_value, p_value = stats.f_oneway(intensity_values['core'],intensity_values['rim'],intensity_values['pv'])\n",
    "print('The ANOVA p-value = {}'.format(p_value))\n",
    "\n",
    "# paired t-test between the rim and perivascular intensity calculations\n",
    "t_value_paired, p_value_paired = stats.ttest_rel(intensity_values['rim'],intensity_values['pv'])\n",
    "print('The paired t-test p-value = {}'.format(p_value_paired))"
>>>>>>> 91a87d78d60d4dce952e19e2f3ae5479855d0f87
   ]
  },
  {
   "cell_type": "code",
   "execution_count": 6,
   "metadata": {},
   "outputs": [
    {
     "data": {
      "text/plain": [
<<<<<<< HEAD
       "0.6095109444680777"
=======
       "0.6332229209013304"
>>>>>>> 91a87d78d60d4dce952e19e2f3ae5479855d0f87
      ]
     },
     "execution_count": 6,
     "metadata": {},
     "output_type": "execute_result"
    }
   ],
   "source": [
    "all_IoU_AC = (np.array(IoU_actC) + np.array(IoU_backAC))/2\n",
    "np.mean(all_IoU_AC)"
   ]
  },
  {
   "cell_type": "code",
   "execution_count": 7,
   "metadata": {},
   "outputs": [
    {
     "data": {
      "text/plain": [
<<<<<<< HEAD
       "0.6803662387208534"
=======
       "0.6953625526439772"
>>>>>>> 91a87d78d60d4dce952e19e2f3ae5479855d0f87
      ]
     },
     "execution_count": 7,
     "metadata": {},
     "output_type": "execute_result"
    }
   ],
   "source": [
    "all_IoU_WS = (np.array(IoU_water) + np.array(IoU_backWS))/2\n",
    "np.mean(all_IoU_WS)"
   ]
  },
  {
   "cell_type": "code",
   "execution_count": 8,
   "metadata": {},
   "outputs": [
    {
     "data": {
      "text/plain": [
<<<<<<< HEAD
       "0.6285250110140269"
=======
       "(-0.026073200799444182, 0.9037437706773319)"
>>>>>>> 91a87d78d60d4dce952e19e2f3ae5479855d0f87
      ]
     },
     "execution_count": 8,
     "metadata": {},
     "output_type": "execute_result"
    }
   ],
   "source": [
    "all_IoU_WSplusAC = (np.array(IoU_actCplusWS) + np.array(IoU_backWA))/2\n",
    "np.mean(all_IoU_WSplusAC)"
   ]
  },
  {
   "cell_type": "code",
   "execution_count": 9,
   "metadata": {},
   "outputs": [
    {
     "data": {
      "text/plain": [
       "(-0.1976874984991055, 0.11159131393969471)"
      ]
     },
     "execution_count": 9,
     "metadata": {},
     "output_type": "execute_result"
    }
   ],
   "source": [
    "from scipy.stats.stats import pearsonr\n",
    "\n",
    "pearsonr(mean_intensities,IoU_actC)\n"
   ]
  },
  {
   "cell_type": "code",
   "execution_count": 27,
   "metadata": {
    "scrolled": true
   },
   "outputs": [
    {
     "data": {
<<<<<<< HEAD
      "image/png": "iVBORw0KGgoAAAANSUhEUgAAAekAAAC9CAYAAACXpoXCAAAABHNCSVQICAgIfAhkiAAAAAlwSFlzAAALEgAACxIB0t1+/AAAADh0RVh0U29mdHdhcmUAbWF0cGxvdGxpYiB2ZXJzaW9uMy4xLjIsIGh0dHA6Ly9tYXRwbG90bGliLm9yZy8li6FKAAAVAElEQVR4nO3de5BmdX3n8fdHLiYhKCCtQWAYzKIGjbDsLMrGcjHeuLiwUVQoTWRFRy0vWKGSQiNipDaSMmqywRKHy0JSEaJEDAoEWcPFbIky3OSiCJLJwogwgOGWeBn47h/P6aRpuntOdz/neU53v19VT/U55/k95/c93d95vnNuv5OqQpIk9c9Txh2AJEmamUVakqSeskhLktRTFmlJknrKIi1JUk9ZpCVJ6qmtxx3AMO288861evXqcYehHrrmmmvuq6qJ+XzGfNJsFpJPYE5pdrPl1LIq0qtXr2b9+vXjDkM9lOSf5vsZ80mzWUg+gTml2c2WUx7uliSppzor0knOTHJvkpumLPtoko1Jrm9eh8zy2YOS3Jrk9iTHdxWjJEl91uWe9FnAQTMs/3RV7du8Lpr+ZpKtgM8ABwN7A0cl2bvDOCVJ6qXOinRVXQk8sICP7g/cXlV3VNXPgHOBw4canCRJS8A4zkm/N8l3msPhO87w/q7AnVPm72qWSZK0ooz66u7PAicB1fz8JPC2xawwyVpgLcCqVasWG586tPr4C+fVfsPJh3YUyezMJw2bOaXFGOmedFXdU1WPVdXjwGkMDm1PtxHYfcr8bs2y2da5rqrWVNWaiYl537YoPYH5pGEzp7QYIy3SSXaZMvtbwE0zNLsa2CvJnkm2BY4ELhhFfJIk9Ulnh7uTnAMcCOyc5C7gRODAJPsyONy9AXhn0/bZwOlVdUhVbU7yXuASYCvgzKq6uas4JUnqq86KdFUdNcPiM2Zp+0PgkCnzFwFPuj1LkqSVxBHHJEnqKYu0JEk9ZZGWJKmnLNKSJPXUsnpUpRZuvgONwHgGG1kplsLAL5K65560JEk9ZZGWJKmnLNKSJPWURVqSpJ6ySEuS1FMWaUmSesoiLUlST1mkJUnqKYu0JEk91VmRTnJmknuT3DRl2SeSfC/Jd5Kcn2SHWT67IcmNSa5Psr6rGCVJ6rMtFukkb0iyfTP94SRfSrJfi3WfBRw0bdmlwAur6kXA94EPzvH5l1fVvlW1pkVfkiQtO232pE+oqoeTvBR4JXAG8NktfaiqrgQemLbsa1W1uZm9CthtnvFKkrRitCnSjzU/DwXWVdWFwLZD6PttwMWzvFfA15Jck2TtEPqSJGnJaVOkNyb5HPAm4KIkT235uVkl+QNgM/BXszR5aVXtBxwMvCfJy+ZY19ok65Os37Rp02LCkswnDZ05pcVoU2zfCFwCvKaq/hnYCfi9hXaY5GjgtcCbq6pmalNVG5uf9wLnA/vPtr6qWldVa6pqzcTExELDkgDzScNnTmkxtlikq+pfgL8FHk2yCtgG+N5COktyEPD7wGHNemdqs92UC9W2A14N3DRTW0mSlrOtt9QgyfuAE4F7gMebxQW8aAufOwc4ENg5yV3NOj4IPBW4NAnAVVX1riTPBk6vqkOAZwHnN+9vDXy+qv5u/psmSdLStsUiDRwLPK+q7p/PiqvqqBkWnzFL2x8ChzTTdwD7zKcvSZKWozbnpO8EHuw6EEmS9ERt9qTvAC5PciHw08mFVfWpzqKSJEmtivT/a17bMpz7oyVJUgtbLNJV9YcASX65mX+k66AkSVK7sbtfmOQ64Gbg5mYUsBd0H5okSStbmwvH1gG/W1V7VNUewHHAad2GJUmS2hTp7arqssmZqroc2K6ziCRJEtDy6u4kJwB/2cy/hcEV35IkqUNtivTbgD8EvtTMf6NZphVu9fEXjjsESSvEQr5vNpx8aAeRjFabq7t/DLx/BLFIkqQpZi3SSf60qj6Q5CsMxup+gqo6rNPIJEla4ebak548B/0nowhEkiQ90axFuqquaX5eMbksyY7A7lX1nRHEJknSitZmMJPLkzwtyU7AtcBpSRy3W5KkjrW5T/rpVfUQ8DrgL6rqxcAr26w8yZlJ7k1y05RlOyW5NMltzc8dZ/nsW5s2tyV5a5v+JElaTtoU6a2T7AK8EfjqPNd/FnDQtGXHA1+vqr2ArzfzT9DstZ8IvBjYHzhxtmIuSdJy1aZIfwy4BPhBVV2d5DnAbW1WXlVXAg9MW3w4cHYzfTbw32f46GuAS6vqgeYWsEt5crGXJGlZa3Of9BeBL06ZvwN4/SL6fFZV3d1M/wh41gxtdgXunDJ/V7PsSZKsBdYCrFq1ahFhSeaThs+cGp+uB1waxWApbS4ce26Sr0+eV07yoiQfHkbnVVXMcA/2PNexrqrWVNWaiYmJYYSlFcx80rCZU1qMNoe7TwM+CPwcoLn96shF9HlPc46b5ue9M7TZCOw+ZX63ZpkkSStGmyL9S1X17WnLNi+izwuAyau13wr87QxtLgFenWTH5oKxVzfLJElaMdoU6fuS/CrNYekkRwB3z/2RgSTnAN8EnpfkriTHACcDr0pyG4NbuU5u2q5JcjpAVT0AnARc3bw+1iyTJGnFaPMUrPcA64DnJ9kI/CPw5jYrr6qjZnnrFTO0XQ+8fcr8mcCZbfqRJGk5anN19x3AK5NsBzylqh5O8nrgnzqPTpKkFazN4W4AqurRqnq4mf10R/FIkqRG6yI9TYYahSRJepKFFulF3dssSZK2bNZz0kluZOZiHGYeJUySFmy+o0ONYrQnadzmunDstSOLQpIkPcmsRbqqvHpbkqQxWug5aUmS1DGLtCRJPTVrkU7y9ebnH48uHEmSNGmuC8d2SfJfgMOSnMu0e6Or6tpOI5MkaYWbq0h/BDiBwWMiPzXtvQJ+s6ugJEnS3Fd3nwecl+SEqjpphDFJkiTaPWDjpCSHAS9rFl1eVV/tNixJfTPfwUa6tpB4HAClP/qWT321xau7k3wcOBa4pXkdm+SPFtphkucluX7K66EkH5jW5sAkD05p85GF9idJ0lLV5nnShwL7VtXjAEnOBq4DPrSQDqvqVmDfZl1bARuB82do+o2qctQzSdKK1fY+6R2mTD99iP2/AviBo5tJkvRkbYr0x4HrkpzV7EVfA/zPIfV/JHDOLO8dkOSGJBcnecFsK0iyNsn6JOs3bdo0pLC0UplPGjZzSouxxSJdVecALwG+BPwNcEBV/fViO06yLXAY8MUZ3r4W2KOq9gH+HPjyHPGtq6o1VbVmYmJisWFphTOfNGzmlBaj1eHuqrq7qi5oXj8aUt8HA9dW1T0z9PdQVT3STF8EbJNk5yH1K0nSkjDOsbuPYpZD3Ul+JUma6f0ZxHn/CGOTJGns2lzdPXRJtgNeBbxzyrJ3AVTVqcARwLuTbAb+FTiyqmocsUqSNC5zFunmFqmbq+r5w+y0qh4FnjFt2alTpk8BThlmn9JyNt+BIRzUY2Vx4Jela87D3VX1GHBrklUjikeSJDXaHO7eEbg5ybeBRycXVtVhnUUlSZJaFekTOo9CkiQ9SZsHbFyRZA9gr6r6P0l+Cdiq+9AkSVrZ2jxg4x3AecDnmkW7MsfgIpIkaTja3Cf9HuA3gIcAquo24JldBiVJktoV6Z9W1c8mZ5JsDXjPsiRJHWtTpK9I8iHgF5O8isFY21/pNixJktTm6u7jgWOAGxmMEHYRcHqXQa0EDj6xZf6OpJktZHCSrvUxpuWgzdXdjzePqPwWg8PctzpEpyRJ3dtikU5yKHAq8AMgwJ5J3llVF3cdnCRJK1mbw92fBF5eVbcDJPlV4ELAIi1JUofaXDj28GSBbtwBPNxRPJIkqTHrnnSS1zWT65NcBHyBwTnpNwBXL7bjJBsYFPvHgM1VtWba+wH+DDgE+Bfg6Kq6drH9SpK0VMx1uPu/TZm+B/ivzfQm4BeH1P/Lq+q+Wd47GNireb0Y+GzzU5KkFWHWIl1V/2OUgczgcOAvmivJr0qyQ5JdquruMcclSdJItLm6e0/gfcDqqe2H8KjKAr6WpIDPVdW6ae/vCtw5Zf6uZplFWpK0IrS5uvvLwBkMRhl7fIh9v7SqNiZ5JnBpku9V1ZXzXUmStcBagFWrVg0xvKXNgQUWZqXkk/kxOislp9SNNld3/6Sq/ldVXVZVV0y+FttxVW1sft4LnA/sP63JRmD3KfO7Ncumr2ddVa2pqjUTExOLDUsrnPmkYTOntBhtivSfJTkxyQFJ9pt8LabTJNsl2X5yGng1cNO0ZhcAv5OBlwAPej5akrSStDnc/evAbwO/yb8f7q5mfqGeBZw/uMuKrYHPV9XfJXkXQFWdymCM8EOA2xncgjXuC9kkSRqpNkX6DcBzpj6ucrGq6g5gnxmWnzpluhg8y1qSpBWpzeHum4Adug5EkiQ9UZs96R2A7yW5Gvjp5MIh3IIlSZLm0KZIn9h5FJIk6UnaPE960bdbSZKk+Wsz4tjDDK7mBtgW2AZ4tKqe1mVgS4kDQ0hLw3z/rW44+dCOIuk/v9f6oc2e9PaT082TqQ4HXtJlUJIkqd3V3f+mBr4MvKajeCRJUqPN4e7XTZl9CrAG+ElnEUmSJKDd1d1Tnyu9GdjA4JC3JEnqUJtz0g7HKUnSGMxapJN8ZI7PVVWd1EE8kiSpMdee9KMzLNsOOAZ4BmCRliSpQ7MW6ar65OR081jJYxk8iepc4JOzfU6SJA3HnOekk+wE/C7wZuBsYL+q+vEoAtMTObCAJPXLKAbHmfU+6SSfAK4GHgZ+vao+OowCnWT3JJcluSXJzUmOnaHNgUkeTHJ985rr/LgkScvSXHvSxzF46tWHgT8YDDYGQBhcOLbQYUE3A8dV1bXNYfRrklxaVbdMa/eNqnrtAvuQJGnJm+uc9LxGI2urqu4G7m6mH07yXWBXYHqRliRpReukELeVZDXwH4FvzfD2AUluSHJxkheMNDBJknpgbEU6yS8DfwN8oKoemvb2tcAeVbUP8OfAl+dYz9ok65Os37RpU3cBa0UwnzRs5pQWYyxFOsk2DAr0X1XVl6a/X1UPVdUjzfRFwDZJdp5pXVW1rqrWVNWaiYmJTuPW8mc+adjMKS3GyIt087jLM4DvVtWnZmnzK007kuzPIM77RxelJEnj1+YBG8P2G8BvAzcmub5Z9iFgFUBVnQocAbw7yWbgX4Ejq6rGEKskSWMz8iJdVf/A4DauudqcApwymogkSeqncexJSyuKo8VJWqix3oIlSZJmZ5GWJKmnLNKSJPWURVqSpJ6ySEuS1FMWaUmSesoiLUlST1mkJUnqqRUxmImDSWiYzCcNmzml2bgnLUlST1mkJUnqKYu0JEk9ZZGWJKmnxlKkkxyU5NYktyc5fob3n5rkr5v3v5Vk9eijlCRpvEZepJNsBXwGOBjYGzgqyd7Tmh0D/Liq/gPwaeCPRxulJEnjN4496f2B26vqjqr6GXAucPi0NocDZzfT5wGvSJIRxihJ0tiNo0jvCtw5Zf6uZtmMbapqM/Ag8IyRRCdJUk8s+cFMkqwF1jazjyS5dYZmOwP3jS6qsVjx25i5T4rs0aaDGfLp/rn6HKG+/H37EgeMIJY5cqpVPkHr76gu9OlvNWlFx7SQ76hUVSfBzCbJAcBHq+o1zfwHAarq41PaXNK0+WaSrYEfARO1wGCTrK+qNYuPvr/cxuXTp3G006dY+qiPvx9jmr9xHO6+GtgryZ5JtgWOBC6Y1uYC4K3N9BHA3y+0QEuStFSN/HB3VW1O8l7gEmAr4MyqujnJx4D1VXUBcAbwl0luBx5gUMglSVpRxnJOuqouAi6atuwjU6Z/ArxhiF2uG+K6+sptXD59zsQ4nqxPsfRRH38/xjRPIz8nLUmS2nFYUEmSempZFektDTc6pd3rk1SS3l7RN5s225jkjUluSXJzks+POsbFajFs7KoklyW5Lsl3khzSdZ9T2nWaOy22/egkm5Jc37zePo44mjad51mL38enp/wuvp/kn7uIo8/6kjPzialpM9LvqSWbS1W1LF4MLkL7AfAcYFvgBmDvGdptD1wJXAWsGXfcw95GYC/gOmDHZv6Z4467g21cB7y7md4b2LAccqflth8NnNKDv0Hnedb27zKl/fsYXIg69jwe1asvOdPH/FkuubSc9qTbDDcKcBKDscB/MsrghqTNNr4D+ExV/Rigqu4dcYyL1WYbC3haM/104Icj6BO6z522cXStL3k239/HUcA5HcTRZ33JmfnGNOrvqSWbS8upSG9xuNEk+wG7V9WFowxsiNoMqfpc4LlJ/m+Sq5IcNLLohqPNNn4UeEuSuxjcJfC+rvscUe602XaA1zeH+c9LsvuY4hhFnrX9fZBkD2BP4O87iKPP+pIz841p1N9TSzaXllORnlOSpwCfAo4bdywd25rBoaQDGfxv8LQkO4w1ouE7CjirqnYDDmFwT31nudyz3PkKsLqqXgRcyr8/iGbU+pZnRwLnVdVjY4yhr/qSM1P1LX+m6lUuLacivRGY+j/E3Zplk7YHXghcnmQD8BLggiV28diWthEG/0O8oKp+XlX/CHyfwT+GpaLNNh4DfAGgqr4J/AKD8Xe76nNUubPFba+q+6vqp83s6cB/GnIMreJgNHnWJo5JR9KTw5Mj1pecmVdMjP57aunm0rhPig/rxeB/ZncwOEwxeWHAC+ZofzlL78KxLW4jcBBwdjO9M4NDPM8Yd+xD3saLgaOb6V9jcE46Sz13Wm77LlOmfwu4arnmWdu/C/B8YMNicmCpvvqSM33Mn+WSS8tmT7oGj7ScHG70u8AXqhluNMlh441uOFpu4yXA/UluAS4Dfq+q7h9PxPPXchuPA96R5AYG/+M9upp/YR322bmWcby/uWXlBuD9DK7cHUccnefZPP4uRwLnLiYHlqq+5MwCYhrp99RSziVHHJMkqaeWzZ60JEnLjUVakqSeskhLktRTFmlJknrKIi1JUk9ZpJewJI9s4f0Dk3x12rKzkhzRbWRaiswnDZs5tXgWaUmSesoivQxk4BNJbkpyY5I3jTsmLV3mk4bNnFq4rccdgIbidcC+wD4Mhti7OsmV4w1JS5j5pGEzpxbIPenl4aXAOVX1WFXdA1wB/GcGz12eicPMaS7mk4bNnFogi/Tydj+w47RlOwH3jSEWLX3mk4bNnNoCi/Ty8A3gTUm2SjIBvAz4NnAb8Owkvwb/9jDzfYDrxxaplgLzScNmTi2Q56SXh/OBAxg8fq2A36+qHwEkeQvwv5P8AvBz4O1V9eDYItVSYD5p2MypBfIpWJIk9ZSHuyVJ6imLtCRJPWWRliSppyzSkiT1lEVakqSeskhLktRTFmlJknrKIi1JUk/9fysenS1Uah1CAAAAAElFTkSuQmCC\n",
=======
      "image/png": "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",
>>>>>>> 91a87d78d60d4dce952e19e2f3ae5479855d0f87
      "text/plain": [
       "<Figure size 432x288 with 3 Axes>"
      ]
     },
     "metadata": {
      "needs_background": "light"
     },
     "output_type": "display_data"
    }
   ],
   "source": [
    "import matplotlib.pyplot as plt\n",
    "\n",
    "fig, axes = plt.subplots(nrows=1,ncols=3,sharey=True)\n",
    "axes[0].hist(all_IoU_WS)\n",
    "# axes[0].set_title('Watershed')\n",
    "axes[0].set_xlabel('IoU')\n",
    "axes[0].set_ylabel('Number of Lesions')\n",
    "axes[1].hist(all_IoU_AC)\n",
    "# axes[1].set_title('Active Contour')\n",
    "axes[1].set_xlabel('IoU')\n",
    "axes[2].hist(all_IoU_WSplusAC)\n",
    "# axes[2].set_title('Watershed plus Active Contour')\n",
    "axes[2].set_xlabel('IoU')\n",
    "\n",
    "plt.subplots_adjust(wspace=0.1, hspace=0.3, top=1, bottom=0.5, left=0, right=1)\n",
    "# fig.tight_layout()"
   ]
  },
  {
   "cell_type": "code",
   "execution_count": 11,
   "metadata": {},
   "outputs": [
    {
     "data": {
      "text/plain": [
       "Text(0, 0.5, 'Avg. IoU')"
      ]
     },
     "execution_count": 11,
     "metadata": {},
     "output_type": "execute_result"
    },
    {
     "data": {
<<<<<<< HEAD
      "image/png": "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\n",
=======
      "image/png": "iVBORw0KGgoAAAANSUhEUgAAAYgAAAEGCAYAAAB/+QKOAAAAOXRFWHRTb2Z0d2FyZQBNYXRwbG90bGliIHZlcnNpb24zLjQuMywgaHR0cHM6Ly9tYXRwbG90bGliLm9yZy/MnkTPAAAACXBIWXMAAAsTAAALEwEAmpwYAAAfdUlEQVR4nO3deZhdVZnv8e/PSmiLMEQl0qYYQivEoWkGzw0NUQggJCjIoF4TcaLV3HjBgX463dBPtw/XvrdBc227VRQiItgXiQMhBIcElWYQBVIhgQwQjYCQin0JYlC41U0S3vvHXkUOJ7uqzqmcXfucU7/P89RTez7vGd+919prLUUEZmZmtV5SdgBmZtaanCDMzCyXE4SZmeVygjAzs1xOEGZmlmtc2QE003777RdTpkwpOwwzs7axcuXKJyNiUt66jkoQU6ZMobe3t+wwzMzahqRfD7bORUxmZpbLCcLMzHI5QZiZWS4nCDMzy+UEYWZmuTrqLiazdrBkVR8Llm9g89Z+Jk/sZv7MqZx1VE/ZYVkJWv2z4ARhNoqWrOrj4sVr6N+2A4C+rf1cvHgNQEv9MFjx2uGz4CIms1G0YPmGF34QBvRv28GC5RtKisjK0g6fBScIs1G0eWt/Q8utc7XDZ8EJwmwUTZ7Y3dBy61zt8FlwgjAbRfNnTqV7fNeLlnWP72L+zKklRWRlaYfPgiupzUbRQOVjK9+5YqOjHT4L6qQxqSuVSrizPjOz+klaGRGVvHUuYjIzs1xOEGZmlssJwszMcjlBmJlZLicIMzPLVWiCkDRL0gZJGyVdlLN+X0k3S7pf0jpJ59W7r5mZFauwBCGpC7gcOA14PTBH0utrNjsfWB8RRwAzgM9J2qPOfc3MrEBFXkFMAzZGxMMR8RywCDizZpsA9pYkYC/gKWB7nfuamVmBikwQPcDjVfOb0rJqXwJeB2wG1gCfiIjn69wXAElzJfVK6t2yZUuzYjczG/OKTBDKWVbbbHsmsBqYDBwJfEnSPnXumy2MWBgRlYioTJo0aeTRmpnZixSZIDYBB1bNH0B2pVDtPGBxZDYCjwCvrXNfMzMrUJEJYgVwqKRDJO0BzAaW1mzzGHAygKT9ganAw3Xua2ZmBSqsN9eI2C7pAmA50AVcHRHrJM1L668A/gG4RtIasmKlv4mIJwHy9i0qVjMz25V7czWzjrdkVV9Ld6tdpqF6c/V4EGbW0Zas6uPixWteGP+5b2s/Fy9eA+AkMQx3tWFmHW3B8g0vJIcB/dt2sGD5hpIiah9OEGbW0TZv7W9oue3kBGFmHW3yxO6GlttOThBm1tHmz5xK9/iuFy3rHt/F/JlTS4qofbiS2sw62kBFtO9iapwThJl1vLOO6nFCGAEXMZmZWS5fQVguNywyMycI24UbFpkZuIjJcrhhkZmBE4TlcMMiMwMXMVmOyRO76ctJBiNpWOS6DLP25SsI20WzGhYN1GX0be0n2FmXsWRVXxOjNbOiOEHYLs46qodLzzmcnondCOiZ2M2l5xze8Jm/6zLM2puLmCxXMxoWuS7DrL05QVhh9QTNrMsws9HnIqYxrsh6AneSZtbenCDGuCLrCZpVl2Fm5XAR0xhXdD1BK3WS5ltuzRrjK4gxbqwMpuJbbs0a5wQxxo2VegLfcmvWuEKLmCTNAv4F6AKuiojLatbPB86tiuV1wKSIeErSo8AfgB3A9oioFBnrWDVWBlMZC7fcugjNmq2wBCGpC7gcOAXYBKyQtDQi1g9sExELgAVp+zOACyPiqarDnBgRTxYVo2VaqZ6gKJ1+y6174LUiFFnENA3YGBEPR8RzwCLgzCG2nwNcX2A8NoZ1elGai9CsCEUmiB7g8ar5TWnZLiTtCcwCbqhaHMAtklZKmjvYg0iaK6lXUu+WLVuaELZ1ok6/5XYsFKHZ6CuyDkI5y2KQbc8A7qopXpoeEZslvRL4kaSHIuKOXQ4YsRBYCFCpVAY7vllHF6V1ehGalaPIK4hNwIFV8wcAmwfZdjY1xUsRsTn9fwK4kazIysxydHoRmpWjyASxAjhU0iGS9iBLAktrN5K0L3ACcFPVsgmS9h6YBk4F1hYYq1lb6/QiNCtHYUVMEbFd0gXAcrLbXK+OiHWS5qX1V6RNzwZuiYhnq3bfH7hR0kCM34yIZUXFatYJOrkIzcqhiM4ptq9UKtHb21t2GNYkvq/frHiSVg7Wzsx9MVlL8n39ZuVzVxvWknxfv1n5nCCsJfm+frPyOUFYSxorvcyatTInCGtJvq/frHyupLaWNFZ6mTVrZU4Q1nTNuj3V9/WblcsJwpqqFW5PdfsJs+ZwHYQ1Vdm3p3poUbPmcYKwpir79tSyE5RZJ3GCsKYq+/bUshOUWSdxgrCmKvv21LITlFkncYKwpiq72+myE5RZJ/FdTNZ0Zd6e6vYTZs3jBGEdx+0nzJrDCcLMRpXbqbQPJwgzGzWt0JDS6udKajMbNW6n0l6cIMxs1LidSntxgjCzUeN2Ku3FCcLMRo3bqbSXQhOEpFmSNkjaKOminPXzJa1Of2sl7ZD08nr2NbP2U3ZDSmuMIqKYA0tdwC+AU4BNwApgTkSsH2T7M4ALI+KkRvcdUKlUore3t4nPwsyss0laGRGVvHVFXkFMAzZGxMMR8RywCDhziO3nANePcF8zM2uyIhNED/B41fymtGwXkvYEZgE3NLqvmZkVo8iGcspZNlh51hnAXRHxVKP7SpoLzAU46KCDGo3RdoNbxJp1tiITxCbgwKr5A4DNg2w7m53FSw3tGxELgYWQ1UGMNFhrjFvEthYnaytCkUVMK4BDJR0iaQ+yJLC0diNJ+wInADc1uq+Vxy1iW4eHWbWiFJYgImI7cAGwHHgQ+HZErJM0T9K8qk3PBm6JiGeH27eoWK1xbhHbOpysrSiFdtYXET8AflCz7Iqa+WuAa+rZ11rH5Ind9OUkA7eIHX1O1laUQa8gJB1d83eUpAMH297GFreIbR3uvsKKMtQVxOdylr081QnMiYjVxYRk7aDokdtc6Vq/+TOnvuiGAXCytuYYNEFExIl5yyVVgC8AxxcVlLWHokZu8x1SjfEwq1aUhusgIqJX0l5FBGMGQ1e6+kcvn4dZtSI0fBeTpP0ZvMGb2W5zpatZaxj0CkLSF9k1EbwcOA74RJFB2djmO6TMWsNQRUy13aIG8FvgLyPiieJCsrHOla5mrWGoSuprB6bTnUuHpdnfFR2UjW2udDVrDcNWUkuaAVwLPErWid6Bkj4QEXcUGpmNaa50NStfPXcxfQ44NSI2AEg6jKxjvTcWGZiZmZWrnruYxg8kB4CI+AUwvriQzMysFdRzBdEr6WvAv6b5c4GVxYVkrcAtmc2sngTxUeB84ONkdRB3AF8uMigrl1symxnUkSAi4j+Bf0p/Nga4JbOZwdAN5dYwRIvpiPizQiKyXYx2cY9bMpsZDH0FcfqoRWGDKqO4xy2ZzQyGuIspIn491N9oBjmWlTFamMd6MDMoeEQ5231lFPe4JbOZgRNEyyuruMctmc2s4e6+bXS5uMfMyjKiBCHpkibHYYM466geLj3ncHomdiOgZ2I3l55zuM/uzaxwIy1ickvqUeTiHjMrw4iuICLi5nq2kzRL0gZJGyVdNMg2MyStlrRO0u1Vyx+VtCatqx2bwszMClZPd99fyFn8NNAbETcNsV8XcDlwCrAJWCFpaUSsr9pmIlm3HbMi4jFJr6w5zIkR8eTwT8PMzJqtniKmlwKvBb6T5t8BrAM+JOnEiPjkIPtNAzZGxMMAkhYBZwLrq7Z5D7A4Ih4D8Eh17cOd+Vk78ed1ZOpJEK8BToqI7QCSvgLcQnZlsGaI/XqAx6vmNwHH1GxzGDBe0m3A3sC/RMQ30roAbpEUwJURsTDvQSTNBeYCHHTQQXU8Hdtd7szP2ok/ryNXTx1EDzChan4CMDkidgD/OcR+yllW27fTOLKBh94GzAT+Pg1IBDA9Io4GTgPOl3R83oNExMKIqEREZdKkScM/G9ttZbTuNhspf15Hrp4riM8Cq9NZvoDjgX+UNAH48RD7bQIOrJo/ANics82TEfEs8KykO4AjgF9ExGbIip0k3UhWZOVhTluAO/OzduLP68gNewUREV8DjgOWpL83RcRVEfFsRMwfYtcVwKGSDpG0BzAbWFqzzU3AmyWNk7QnWRHUg5ImSNobICWiU4G1jT01K8pgrbjdmZ+1In9eR27YBCFpKTAD+HFELBk4sx9OqrO4AFgOPAh8OyLWSZonaV7a5kFgGfAAcC9wVUSsBfYHfirp/rT8+xGxrOFnZ4UYaevuJav6mH7ZrRxy0feZftmtLFnVV2SYZoB7I9gdihh0yIdsA+kE4N1k9QT3At8CvhcR/1F8eI2pVCrR2+smE6Oh0btCaisKIfuSulW4jQbfxTQ4SSsjopK7brgEUXWQLuAk4CNk7Rb2aV6IzeEE0bqmX3ZrbqeDPRO7ueuik0qIyMxg6ARRV1cbkrqBM8iuJI4Grm1eeDYWuKLQrP3U05L6W2SVx8vIWkbfFhHPFx2YdRaPUmfWfuppB/F14NURMS8ibgWOlXR5wXFZh3FFoVn7GfYKIiKWSTpS0hyyIqZHgMWFR2YdxaPUmbWfQRNEatE8G5gD/Jbs7iVFxImjFJt1GHdbbtZehrqCeAi4EzgjIjYCSLpwVKIyM7PSDVUH8Q7g34F/k/RVSSeT37+SmZl1oEETRETcGBHvJuvq+zbgQmB/SV+RdOooxWdmZiWppy+mZyPiuog4nazDvdVA7uhwZmbWORoacjQinoqIKyPCTV/NzDrciMakNjOzzucEYWZmuZwgzMwslxOEmZnlcoIwM7NcThBmZpbLCcLMzHI5QZiZWS4nCDMzy+UEYWZmuZwgzMwsV6EJQtIsSRskbZSU28GfpBmSVktaJ+n2RvY1M7PiDDvk6EhJ6gIuB04BNgErJC2NiPVV20wEvgzMiojHJL2y3n3NzFrJklV9HTekbpFXENOAjRHxcEQ8BywCzqzZ5j3A4oh4DCAinmhgXzOzlrBkVR8XL15D39Z+Aujb2s/Fi9ewZFVf2aHtliITRA/weNX8prSs2mHAyyTdJmmlpPc3sC8AkuZK6pXUu2XLliaFbmZWvwXLN9C/bceLlvVv28GC5RtKiqg5CitiIn940sh5/DcCJwPdwM8l3V3nvtnCiIXAQoBKpZK7jZlZkTZv7W9oebsoMkFsAg6smj8A2JyzzZMR8SzwrKQ7gCPq3NfMrCVMnthNX04ymDyxu4RomqfIIqYVwKGSDpG0BzAbWFqzzU3AmyWNk7QncAzwYJ37mpm1hPkzp9I9vutFy7rHdzF/5tSSImqOwq4gImK7pAuA5UAXcHVErJM0L62/IiIelLQMeAB4HrgqItYC5O1bVKxmZrtj4G6lTruLSRGdU2xfqVSit7e37DDMzNqGpJURUclb55bUZmaWywnCzMxyOUGYmVkuJwgzM8vlBGFmZrmKbChno6QTOwkzs/I5QbS5gU7CBvqBGegkDHCSMLPd4iKmNtepnYSZWfmcINpcp3YSZmblc4Joc4N1BtbunYSZWfmcINpcp3YSZmblcyV1m+vUTsLMrHxOEB3grKN6nBDMrOlcxGRmZrmcIMzMLJcThJmZ5XKCMDOzXE4QZmaWywnCzMxyOUGYmVkuJwgzM8vlBGFmZrkKTRCSZknaIGmjpIty1s+Q9LSk1envU1XrHpW0Ji3vLTJOMzPbVWFdbUjqAi4HTgE2ASskLY2I9TWb3hkRpw9ymBMj4smiYjQzs8EV2RfTNGBjRDwMIGkRcCZQmyBK5eE6zczyFVnE1AM8XjW/KS2rdayk+yX9UNIbqpYHcIuklZLmDvYgkuZK6pXUu2XLloYCHBius29rP8HO4TqXrOpr6DhmZp2oyAShnGVRM38fcHBEHAF8EVhStW56RBwNnAacL+n4vAeJiIURUYmIyqRJkxoK0MN1mpkNrsgEsQk4sGr+AGBz9QYR8fuIeCZN/wAYL2m/NL85/X8CuJGsyKqpPFynmdngikwQK4BDJR0iaQ9gNrC0egNJfyxJaXpaiue3kiZI2jstnwCcCqxtdoAertPMbHCFJYiI2A5cACwHHgS+HRHrJM2TNC9t9k5graT7gS8AsyMigP2Bn6bl9wLfj4hlzY7Rw3WamQ1O2e9xZ6hUKtHb21iTCd/FZGZjmaSVEVHJWzfmhxz1cJ1mZvnc1YaZmeVygjAzs1xOEGZmlssJwszMcjlBmJlZLicIMzPL5QRhZma5nCDMzCyXE4SZmeVygjAzs1xOEGZmlssJwszMcjlBmJlZLicIMzPL5QRhZma5nCDMzCyXE4SZmeVygjAzs1xOEGZmlssJwszMcjlBmJlZrkIThKRZkjZI2ijpopz1MyQ9LWl1+vtUvfuamY11S1b1Mf2yWznkou8z/bJbWbKqr6nHH9fUo1WR1AVcDpwCbAJWSFoaEetrNr0zIk4f4b5mZmPSklV9XLx4Df3bdgDQt7WfixevAeCso3qa8hhFXkFMAzZGxMMR8RywCDhzFPY1M+t4C5ZveCE5DOjftoMFyzc07TGKTBA9wONV85vSslrHSrpf0g8lvaHBfZE0V1KvpN4tW7Y0I24zs5a3eWt/Q8tHosgEoZxlUTN/H3BwRBwBfBFY0sC+2cKIhRFRiYjKpEmTRhqrmVlbmTyxu6HlI1FkgtgEHFg1fwCwuXqDiPh9RDyTpn8AjJe0Xz37mpmNZfNnTqV7fNeLlnWP72L+zKlNe4wiE8QK4FBJh0jaA5gNLK3eQNIfS1Kanpbi+W09+5qZjWVnHdXDpeccTs/EbgT0TOzm0nMOb1oFNRR4F1NEbJd0AbAc6AKujoh1kual9VcA7wQ+Kmk70A/MjogAcvctKlYzs3Z01lE9TU0ItZT9HneGSqUSvb29ZYdhZtY2JK2MiEreOrekNjOzXE4QZmaWywnCzMxyOUGYmVmujqqklrQF+PUoP+x+wJOj/JjN4LhHl+MePe0YM5QX98ERkdvKuKMSRBkk9Q52B0Arc9yjy3GPnnaMGVozbhcxmZlZLicIMzPL5QSx+xaWHcAIOe7R5bhHTzvGDC0Yt+sgzMwsl68gzMwslxOEmZnlcoIYAUkvlXRvGglvnaT/UXZMjZDUJWmVpO+VHUu9JD0qaY2k1ZLapkdGSRMlfVfSQ5IelHRs2TENR9LU9DoP/P1e0ifLjqseki5M38m1kq6X9NKyY6qHpE+kmNe10mvtOogRSGNYTIiIZySNB34KfCIi7i45tLpI+kugAuwTEaeXHU89JD0KVCKirRpASboWuDMirkpjm+wZEVtLDqtukrqAPuCYiBjtRqgNkdRD9l18fUT0S/o28IOIuKbcyIYm6U+BRcA04DlgGfDRiPhlqYHhK4gRicwzaXZ8+muLTCvpAOBtwFVlx9LpJO0DHA98DSAinmun5JCcDPyq1ZNDlXFAt6RxwJ60x0iUrwPujoj/FxHbgduBs0uOCXCCGLFUTLMaeAL4UUTcU3JI9fpn4K+B50uOo1EB3CJppaS5ZQdTpz8BtgBfT0V6V0maUHZQDZoNXF92EPWIiD7gfwOPAb8Bno6IW8qNqi5rgeMlvULSnsBbefGQy6VxghihiNgREUeSjZc9LV0mtjRJpwNPRMTKsmMZgekRcTRwGnC+pOPLDqgO44Cjga9ExFHAs8BF5YZUv1Qk9nbgO2XHUg9JLwPOBA4BJgMTJL233KiGFxEPAp8BfkRWvHQ/sL3UoBIniN2UigxuA2aVG0ldpgNvT+X5i4CTJP2fckOqT0RsTv+fAG4kK69tdZuATVVXl98lSxjt4jTgvoj4v2UHUqe3AI9ExJaI2AYsBo4rOaa6RMTXIuLoiDgeeAoovf4BnCBGRNIkSRPTdDfZB/OhUoOqQ0RcHBEHRMQUsqKDWyOi5c+wJE2QtPfANHAq2WV5S4uIfwcelzQ1LToZWF9iSI2aQ5sULyWPAX8uac90I8nJwIMlx1QXSa9M/w8CzqFFXvdxZQfQpl4FXJvu8HgJ8O2IaJtbRtvQ/sCN2XeeccA3I2JZuSHV7WPAdam45mHgvJLjqUsqCz8F+G9lx1KviLhH0neB+8iKaFbRgt1XDOIGSa8AtgHnR8Tvyg4IfJurmZkNwkVMZmaWywnCzMxyOUGYmVkuJwgzM8vlBGFmZrmcINqEpLMlhaTXFnDsKZKGbVcg6W8LeOyKpC+k6RmSmtKwKbVVuSd1cfHmquWXSLq0ZtsjJTXlfvl6X8sRHvsSSX2ph9WHJH1FUuHf4er3aDePc2OKfaOkp6t6iz0u9da7XzPirXq8GY32WCzpNkmVnOUflPSl5kXXHpwg2sccsp4qZ5cYQ9MTRET0RsTH0+wMmtfy9WTgoYg4KiLurFp+PfDumm1nA99s0uM2JHUP0YjPpy5eXg8cDpzQ9KBq1LxHu3Ocs1PsHybr4fbI9PezevZPHfDZKHKCaAOS9iLrJuNDpAQh6bTUnfHANjMk3ZymPyTpF+ls6KuNnPmkM6XFkpZJ+qWkz6bll5H1krla0nVp2XuVjYuxWtKVqeEgkp6R9L+UjZdxt6T90/J3Kevz/n5Jd1TF/T1JU4B5wIXpeG+W9Iiy7tSRtE86yxxfE+/Bkn4i6YH0/yBJRwKfBd6ajtU9sH1EbAC2Sjqm6jD/FViUriTuTse6UdLL0vF/KWk/SS+RdKekU5V11rhA0oq0/S4NyiS9oer1eUDSoTkv+RJJSyW9vcEfwD2AlwK/S4/1kRTL/ZJuUNaaeO/BXkNJr07v8cr0nF473HuUpqdJ+pmyK7OfKbUSH+xz06CPSbpP2bgfA/FcImmhpFuAbyi7MrwhPdcVkqan7U7QziuSVUot74G9tHM8juukrLWlpJPTdmskXS3pj2qDkXSesu/R7WTfv7EnIvzX4n/Ae4GvpemfkfXnM46sa4EJaflX0naTgUeBl5N1Q34n8KVhjj8FWJumP0jW4ndfsh+gXwMHpnXPVO3zOuBmYHya/zLw/jQdwBlp+rPA36XpNUBPmp6Y/s8AvpemLwH+quoxvg6clabnAp/Lif1m4ANp+i+AJVXPI/d5A/PJzsQB/hxYkaYfAE5I058G/jlNf5isH6X5wJVV8Qw8rz8Cesk6iat+Lb8InJum9wC6c2IR2VXAtcBG4FLgNYPEfQnZ2AyryRLDN6vWvaJq+n8CHxvqNQR+Ahyapo8h63alnvdoH2Bcmn4LcMNwn5uc5/HC8aqWPVoV838Hrqp6zisHXjuyK703pemDgAerPgfT0/ReZN+PGcDTZB1qvgT4OfCmFN/jwGFp+28An0zTt5GNlfIqsu/XpPTe3cUw36NO/PMVRHuYQ9a5Hun/nMj6jV8GnJHOPN8G3ETWid3tEfFUZB2WjaQnzp9ExNMR8R9kfQcdnLPNycAbgRXKuj0/max7a8gGPRko+11J9qMJ2ZfsGkkfAbrqiOMqdnZNcR7Zj12tY9lZPPSvZD8Aw1kEvFNZ+f1s4HpJ+5L9IN6etrmWbCwHIuIqYG+yK5y/SutPBd6fnvs9wCuA2iuEnwN/K+lvgIMjor82kMjcHhEfIEv8zwMPSXrHILF/PrJimleS9VY6UOT4p+lKYA1wLvCGtHyX11DZFelxwHdS/FeS/SDC8O/Rvmm/tcDnqx4H6vvcDGVx+l/9mQFYWvXavQX4Uop7KbBPulq4C/gnSR8nex8HekO9NyI2RcTzZIl1CjCVrFO/X6RtXnivqxwD3BZZx3/PAd9q8Ll0BJfptThl/bOcRPYDEGRf2pD012Qf2vPJen9cERF/GLiE3k3/WTW9g/zPiYBrI+LinHXbIp2OVe8fEfNS0c7bgNWpKGhQEXGXskrfE4CuiKin8nfYvmMi4nFlPdqeALyDLMkMSlm/RAek2b2AP5A9/49FxPKabadUPc43Jd1D9nyXS/pwRNyac/xusgFi/gKYCHyCrOvnoZ7DNknLyH7YFgHXkF0p3C/pg2Rnz7mvobKBjLamRFN73OHeo38A/i0izk7P9baqdfV8boYysH/tvs9WTb8EODYn2V4m6ftkYyncLektQ8RU73dkzPdD5CuI1vdO4BsRcXBETImIA4FHyM6UbyM76/wIO89w7gVOUFZ+Po7sB7BZtmlnHcBPyM7CB3qhfLmkIc8YJb06Iu6JiE8BT7LroCh/IDtTr/YNsorlvKsHyIrcBs6izyWryK/H9WRnwL9KZ5hPA7/Tzjue3kc2shdkffVfB3wK+Gpathz4aFX5/mGqGQxI0p8AD0fEF8jOdv+sNohUVr+erIx7fkRUIuLyiPj9UMGnE4HjgF+lRXsDv0nxnFuz+Ytew3TsRyS9a+BYko5I08O9R/uSFXNBVqw02m4BLhiYGUhgKe41EfEZsuK+oe72ewiYIuk1ab76vR5wDzBD2SA+44F3NSn+tuIE0frmkI1/UO0G4D0RsYOsKOe09J/IRtX6R7IP+I/JfnyeBlBWEfrp3YhlIfCApOsiYj3wd2SjvD1Adsb7qiH3hgWpUnAtcAfZwCjVbgbOThWNAz/U1wEvY/Dujz8OnJdieB/Z2Xc9vkNWPLKoatkHUowPAEcCn05n3v8F+ExEXAc8J+k8sqKb9cB96flcya5nzO8G1qbikNeS/VDXug14XUScHxGr6oj7wnS8tenxvpyW/z3Ze/4jdu16Pu81PBf4kKT7gXVkA+3A8O/RZ4FLJd1FfcWEzfZxoKKs0n89WbEfwCeVKteBfuCHgx0gFYGdR1ZUtoasWO+Kmm1+Q1b/8XOy79F9zX4i7cC9uXYgSXtFxDPpCuJG4OqIqE0ybUHSO4EzI+J9ZcfSrvwa2ki5DqIzXZLKYF9Kdkm+pNxwRkbSF8mujt5adiztyq+h7Q5fQZiZWS7XQZiZWS4nCDMzy+UEYWZmuZwgzMwslxOEmZnl+v/I+xLnmD/GYwAAAABJRU5ErkJggg==",
>>>>>>> 91a87d78d60d4dce952e19e2f3ae5479855d0f87
      "text/plain": [
       "<Figure size 432x288 with 1 Axes>"
      ]
     },
     "metadata": {
      "needs_background": "light"
     },
     "output_type": "display_data"
    }
   ],
   "source": [
    "plt.scatter(entropy_gradient,all_IoU_WS)\n",
    "plt.xlabel('Avg. Intensity of Voxels > Bayesian Threshold')\n",
    "plt.ylabel('Avg. IoU')"
   ]
  },
  {
   "cell_type": "code",
   "execution_count": 12,
   "metadata": {},
   "outputs": [
    {
     "data": {
      "text/plain": [
       "66"
      ]
     },
     "execution_count": 12,
     "metadata": {},
     "output_type": "execute_result"
    }
   ],
   "source": [
    "sum(num_lesions_per_patient)"
   ]
  },
  {
   "cell_type": "code",
   "execution_count": 13,
   "metadata": {},
   "outputs": [
    {
     "data": {
      "text/plain": [
       "[0.013795232110752462,\n",
       " 0.009078710026186645,\n",
       " 0.015850235625835808,\n",
       " 0.013546828788888698,\n",
       " 0.008002433408362203,\n",
       " 0.012939766125621116,\n",
       " 0.023211095322344538,\n",
       " 0.012166539354134824,\n",
       " 0.008643839118727783,\n",
       " 0.008384314751959452,\n",
       " 0.008147052883136151,\n",
       " 0.007939482818032306,\n",
       " 0.01143822325521846,\n",
       " 0.011881347621418459,\n",
       " 0.012979862799354251,\n",
       " 0.016637698390080318,\n",
       " 0.016662091018221237,\n",
       " 0.008671226401326329,\n",
       " 0.00804924492977291,\n",
       " 0.013748758840541397,\n",
       " 0.02081448860969531,\n",
       " 0.012412919181903282,\n",
       " 0.01574158780816343,\n",
       " 0.01017680060802046,\n",
       " 0.009151838275673323,\n",
       " 0.01235729707173432,\n",
       " 0.022009583799467918,\n",
       " 0.02072656737027197,\n",
       " 0.03196464084001398,\n",
       " 0.018493613278763872,\n",
       " 0.014096871895056734,\n",
       " 0.017273138864339233,\n",
       " 0.019498232929909178,\n",
       " 0.018007866556248718,\n",
       " 0.012240552623307345,\n",
       " 0.00998683761910908,\n",
       " 0.012269121071264533,\n",
       " 0.012575505150778087,\n",
       " 0.012568156733250133,\n",
       " 0.0129469225788403,\n",
       " 0.0167056610151428,\n",
       " 0.01011987718063368,\n",
       " 0.01105580442427389,\n",
       " 0.01521655397313529,\n",
       " 0.010187021236288403,\n",
       " 0.010830322896060507,\n",
       " 0.015387184399504308,\n",
       " 0.01684204372802047,\n",
       " 0.013821135919207693,\n",
       " 0.01253478023863507,\n",
       " 0.010677016792305651,\n",
       " 0.013272839456290366,\n",
       " 0.009241949786474628,\n",
       " 0.01403237616389215,\n",
       " 0.012311288928113449,\n",
       " 0.013422250525843232,\n",
       " 0.0029330939061859144,\n",
       " 0.01597482874187352,\n",
       " 0.012781484587402138,\n",
       " 0.015032382356620284,\n",
       " 0.01574202652023728,\n",
       " 0.01606319081001255,\n",
       " 0.01061762654536769,\n",
       " 0.01762683078698446,\n",
       " 0.009813531079564761,\n",
       " 0.005007844142257019]"
      ]
     },
     "execution_count": 13,
     "metadata": {},
     "output_type": "execute_result"
    }
   ],
   "source": [
    "# ALTERNATIVE EVALUATION METRIC : DICE COEFFICIENT\n",
    "# seg = water_mask\n",
    "# dice = np.sum(seg[msk_subV_true==True])*2.0 / (np.sum(seg) + np.sum(msk_subV_true))\n",
    "# dice\n",
    "mean_intensities_gradient"
   ]
  },
  {
   "cell_type": "code",
   "execution_count": 14,
   "metadata": {},
   "outputs": [
    {
     "data": {
      "text/plain": [
       "[-85.13180008845643,\n",
       " -50.754500716377,\n",
       " -290.36708860759495,\n",
       " -179.10318471337578,\n",
       " -544.0912667191188,\n",
       " -200.5233695652174,\n",
       " -180.02325581395348,\n",
       " -138.03333333333333,\n",
       " -500.7536231884058,\n",
       " -472.49295774647885,\n",
       " -489.4578313253012,\n",
       " -483.75,\n",
       " -441.4274193548387,\n",
       " -318.9637305699482,\n",
       " 4.975468331846566,\n",
       " -108.38137774413323,\n",
       " 65.73333333333333,\n",
       " -475.73571428571427,\n",
       " -539.8032786885246,\n",
       " -356.0240963855422,\n",
       " -177.67142857142858,\n",
       " -360.03846153846155,\n",
       " -297.2318181818182,\n",
       " -278.6756756756757,\n",
       " -279.2,\n",
       " -305.74626865671644,\n",
       " -141.325,\n",
       " 119.9,\n",
       " -56.470588235294116,\n",
       " -81.9090909090909,\n",
       " -296.01462765957444,\n",
       " -164.20816326530613,\n",
       " -168.33333333333334,\n",
       " -101.95652173913044,\n",
       " -117.93518518518519,\n",
       " -323.93548387096774,\n",
       " -243.1761006289308,\n",
       " -286.1666666666667,\n",
       " -262.44615384615383,\n",
       " -358.6792452830189,\n",
       " -220.78021978021977,\n",
       " -347.36842105263156,\n",
       " -348.8448275862069,\n",
       " -147.57823129251702,\n",
       " -309.0,\n",
       " -290.1,\n",
       " -362.04567736185385,\n",
       " -92.60304054054055,\n",
       " -337.3851851851852,\n",
       " -137.3546511627907,\n",
       " -114.73749237339841,\n",
       " -236.50531914893617,\n",
       " -496.6111111111111,\n",
       " -265.9952606635071,\n",
       " -346.83006797281087,\n",
       " -430.27272727272725,\n",
       " -639.8979591836735,\n",
       " -200.2,\n",
       " -357.43356643356645,\n",
       " -191.54666666666665,\n",
       " -347.4237288135593,\n",
       " -169.44578313253012,\n",
       " -70.19442141222514,\n",
       " -246.2155172413793,\n",
       " -46.56608417425548,\n",
       " -160.4]"
      ]
     },
     "execution_count": 14,
     "metadata": {},
     "output_type": "execute_result"
    }
   ],
   "source": [
    "mean_intensities"
   ]
  },
  {
   "cell_type": "code",
   "execution_count": 15,
   "metadata": {},
   "outputs": [
    {
     "data": {
      "text/plain": [
<<<<<<< HEAD
       "1.9116070438832093"
=======
       "1.849695626606395"
>>>>>>> 91a87d78d60d4dce952e19e2f3ae5479855d0f87
      ]
     },
     "execution_count": 15,
     "metadata": {},
     "output_type": "execute_result"
    }
   ],
   "source": [
    "np.std(entropy_gradient)"
   ]
  },
  {
   "cell_type": "code",
   "execution_count": 16,
   "metadata": {},
   "outputs": [
    {
     "data": {
      "text/plain": [
<<<<<<< HEAD
       "1.4793498034141384"
=======
       "1.9557011343205457"
>>>>>>> 91a87d78d60d4dce952e19e2f3ae5479855d0f87
      ]
     },
     "execution_count": 16,
     "metadata": {},
     "output_type": "execute_result"
    }
   ],
   "source": [
    "np.mean(entropy_gradient) - 2 * np.std(entropy_gradient)"
   ]
  },
  {
   "cell_type": "code",
   "execution_count": 17,
   "metadata": {},
   "outputs": [
    {
     "data": {
      "text/plain": [
       "[0.8930241621200312,\n",
       " 0.00045847023764040653,\n",
       " 0.0,\n",
       " 0.8734756097560976,\n",
       " 0.5469031097404267,\n",
       " 0.8502610746168099,\n",
       " 0.3218390804597701,\n",
       " 0.0,\n",
       " 0.8702290076335878,\n",
       " 0.8352490421455939,\n",
       " 0.6666666666666666,\n",
       " 0.7771428571428571,\n",
       " 0.0,\n",
       " 0.8263473053892215,\n",
       " 0.7330049261083744,\n",
       " 0.38197289631263787,\n",
       " 0.42105263157894735,\n",
       " 0.7419354838709677,\n",
<<<<<<< HEAD
       " 0.8256880733944955,\n",
       " 0.6976744186046512,\n",
       " 0.628099173553719,\n",
       " 0.8,\n",
       " 0.0,\n",
       " 0.6666666666666666,\n",
=======
       " 0.822429906542056,\n",
       " 0.6875,\n",
       " 0.6166666666666667,\n",
       " 0.7932960893854749,\n",
>>>>>>> 91a87d78d60d4dce952e19e2f3ae5479855d0f87
       " 0.0,\n",
       " 0.7128712871287128,\n",
       " 0.15151515151515152,\n",
       " 0.18867924528301888,\n",
       " 0.03125,\n",
       " 0.2,\n",
       " 0.056925996204933584,\n",
       " 0.8729792147806005,\n",
       " 0.25,\n",
       " 0.7964601769911505,\n",
       " 0.3384615384615385,\n",
       " 0.5858585858585859,\n",
       " 0.8304498269896193,\n",
       " 0.7175572519083969,\n",
       " 0.9047619047619048,\n",
       " 0.7920792079207921,\n",
       " 0.7638190954773869,\n",
       " 0.7058823529411765,\n",
       " 0.676056338028169,\n",
       " 0.9191111111111111,\n",
       " 0.0,\n",
       " 0.45,\n",
       " 0.0,\n",
       " 0.7318932655654383,\n",
       " 0.7058823529411765,\n",
       " 0.9365656565656566,\n",
       " 0.7612443417124145,\n",
       " 0.8510288065843621,\n",
       " 0.8398950131233596,\n",
       " 0.8945454545454545,\n",
       " 0.8009950248756219,\n",
       " 0.8075117370892019,\n",
       " 0.0,\n",
       " 0.8184818481848185,\n",
       " 0.0,\n",
       " 0.8943248532289628,\n",
       " 0.7567567567567568,\n",
       " 0.8921306759810972,\n",
       " 0.3582291314633322,\n",
       " 0.821917808219178,\n",
       " 0.7582963156519467,\n",
       " 0.25]"
      ]
     },
     "execution_count": 17,
     "metadata": {},
     "output_type": "execute_result"
    }
   ],
   "source": [
    "dice_water"
   ]
  },
  {
   "cell_type": "code",
   "execution_count": 18,
   "metadata": {},
   "outputs": [],
   "source": [
    "HU = []\n",
    "for i in range(len(dice_water)):\n",
    "    if dice_water[i]<0.5:\n",
    "        HU.append(mean_intensities[i])"
   ]
  },
  {
   "cell_type": "code",
   "execution_count": 19,
   "metadata": {},
   "outputs": [
    {
     "data": {
      "text/plain": [
       "[-50.754500716377,\n",
       " -290.36708860759495,\n",
       " -180.02325581395348,\n",
       " -138.03333333333333,\n",
       " -441.4274193548387,\n",
       " -108.38137774413323,\n",
       " 65.73333333333333,\n",
       " -297.2318181818182,\n",
       " -279.2,\n",
       " -141.325,\n",
       " 119.9,\n",
       " -56.470588235294116,\n",
       " -81.9090909090909,\n",
       " -296.01462765957444,\n",
       " -168.33333333333334,\n",
       " -117.93518518518519,\n",
       " -309.0,\n",
       " -290.1,\n",
       " -362.04567736185385,\n",
       " -639.8979591836735,\n",
       " -357.43356643356645,\n",
       " -70.19442141222514,\n",
       " -160.4]"
      ]
     },
     "execution_count": 19,
     "metadata": {},
     "output_type": "execute_result"
    }
   ],
   "source": [
    "HU"
   ]
  },
  {
   "cell_type": "code",
   "execution_count": null,
   "metadata": {},
   "outputs": [],
   "source": []
  }
 ],
 "metadata": {
  "kernelspec": {
   "display_name": "Python 3 (ipykernel)",
   "language": "python",
   "name": "python3"
  },
  "language_info": {
   "codemirror_mode": {
    "name": "ipython",
    "version": 3
   },
   "file_extension": ".py",
   "mimetype": "text/x-python",
   "name": "python",
   "nbconvert_exporter": "python",
   "pygments_lexer": "ipython3",
   "version": "3.8.2"
  },
  "toc": {
   "base_numbering": 1,
   "nav_menu": {},
   "number_sections": true,
   "sideBar": true,
   "skip_h1_title": false,
   "title_cell": "Table of Contents",
   "title_sidebar": "Contents",
   "toc_cell": false,
   "toc_position": {},
   "toc_section_display": true,
   "toc_window_display": false
  }
 },
 "nbformat": 4,
 "nbformat_minor": 4
}
